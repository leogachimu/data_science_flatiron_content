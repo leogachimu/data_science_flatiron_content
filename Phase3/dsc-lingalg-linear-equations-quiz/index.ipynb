{
 "cells": [
  {
   "cell_type": "markdown",
   "metadata": {},
   "source": [
    "# Systems of Linear Equations - Lab\n",
    "\n",
    "## Introduction\n",
    "The following scenarios present problems that can be solved as a system of equations while performing substitutions and eliminations as you saw in the previous lesson.\n",
    "\n",
    "* Solve these problems by hand, showing all the steps to work out the unknown variable values \n",
    "* Verify your answers by showing the calculated values satisfy all equations\n",
    "\n",
    "## Objectives\n",
    "\n",
    "In this lab you will: \n",
    "\n",
    "- Solve a system of equations using elimination and substitution\n",
    "\n",
    "## Exercise 1\n",
    "Jane paid 12 dollars for 4 cups of coffee and 4 cups of tea. 3 cups of coffee cost as much as 2 cups of tea. What would be the total cost of 5 cups of coffee and 5 cups of tea?\n",
    "\n",
    "### Solution\n",
    "\n",
    "> Let $x$ be the unit price of coffee and $y$ be the unit price of tea"
   ]
  },
  {
   "cell_type": "code",
   "execution_count": 3,
   "metadata": {},
   "outputs": [
    {
     "data": {
      "text/plain": [
       "15.0"
      ]
     },
     "execution_count": 3,
     "metadata": {},
     "output_type": "execute_result"
    }
   ],
   "source": [
    "# Your solution here \n",
    "# Let x = price of a cup of coffee and y = price of a cup of tea\n",
    "# 4x + 4y = 12\n",
    "# Divide both sides by 4\n",
    "# x + y = 3 (Eqn_1)\n",
    "# 3x = 2y\n",
    "# 3x - 2y = 0 (Eqn_2)\n",
    "# Multiply Eqn_1 by 2 both sides\n",
    "# 2x + 2y = 6 (Eqn_3)\n",
    "# Perform vector addition of Eqn_2 and Eqn_3\n",
    "# 5x = 6\n",
    "x = 6/5\n",
    "\n",
    "# From Eqn_2, y= 3/2 * x = 3/2 * 6/5\n",
    "y = 9/5\n",
    "\n",
    "# Cost of 5 cups of tea and 5 cups of coffee\n",
    "total_cost = 5*x + 5*y \n",
    "total_cost\n",
    "\n",
    "# Answer: 5 cups of tea and 5 cups of coffee = 15 dollars"
   ]
  },
  {
   "cell_type": "markdown",
   "metadata": {},
   "source": [
    "## Exercise 2\n",
    "\n",
    "Jim has more money than Bob. If Jim gave Bob 20 dollars, they would have the same amount. If Bob gave Jim 22 dollars, however, Jim would then have twice as much as Bob. \n",
    "\n",
    "How much does each one actually have?\n",
    "\n",
    "### Solution\n",
    "> Let x be the amount of money that Jim has and y be the amount that Bob has "
   ]
  },
  {
   "cell_type": "code",
   "execution_count": 7,
   "metadata": {},
   "outputs": [
    {
     "name": "stdout",
     "output_type": "stream",
     "text": [
      "Bob's amount : 106\n",
      "Jim's amount : 146\n"
     ]
    }
   ],
   "source": [
    "# Your solution here\n",
    "# let x = amount of money that Jim has\n",
    "# y = amount of money that Bob has\n",
    "# Subtract 20 from Jim and add 20 to Bob\n",
    "# Equate the two sides\n",
    "# x - 20 = y + 20\n",
    "# Rearrange the equation\n",
    "# x - y = 40 (Eqn_1)\n",
    "# Subtract 22 from y and multiply the expression by 2\n",
    "# 2(y - 22)\n",
    "# Add 22 to Jim\n",
    "# x + 22\n",
    "# Equate the two expressions above\n",
    "# 2(y - 22) = x + 22\n",
    "# Simplify the left-hand side and rearrange the equation\n",
    "# 2y - 44 = x + 22\n",
    "# -x + 2y = 66 (Eqn_2)\n",
    "# Perform vector subtraction of Eqn_1 and Eqn_2\n",
    "# y = 40 + 66\n",
    "y = 106\n",
    "\n",
    "# Substitute 106 for y to Eqn_1 to find x\n",
    "# x - y = 40 \n",
    "# x - 106 = 40\n",
    "x = 146\n",
    "\n",
    "print(\"Bob's amount :\", y)\n",
    "print(\"Jim's amount :\", x)\n",
    "\n",
    "# Answer:\n",
    "# y = 106 (Bob's amount)\n",
    "# x = 146 (Jim's amount)"
   ]
  },
  {
   "cell_type": "markdown",
   "metadata": {},
   "source": [
    "## Exercise 3\n",
    "\n",
    "Mia has 30 coins, consisting of quarters (25 cents) and dimes (10 cents), which totals to the amount 5.70 dollars.  \n",
    "How many of each does she have?\n",
    "\n",
    "\n",
    "### Solution\n",
    "\n",
    "> Let x be the number of quarters and y be the number of dimes "
   ]
  },
  {
   "cell_type": "code",
   "execution_count": 9,
   "metadata": {},
   "outputs": [
    {
     "name": "stdout",
     "output_type": "stream",
     "text": [
      "Number of quarters : 18\n",
      "Number of dimes : 12\n"
     ]
    }
   ],
   "source": [
    "# Your solution here\n",
    "# Let x = number of quarters and y = number of dimes\n",
    "# Calculate the total amount of money\n",
    "# 25x + 10y = 570 (Eqn_1)\n",
    "# Create an equation for the total number of coins\n",
    "# x + y = 30 (Eqn_2)\n",
    "# Divide Eqn_1 by 5 both sides\n",
    "# 5x + 2y = 114 (Eqn_3)\n",
    "# Multiply Eqn_2 by 2 both sides\n",
    "# 2x + 2y = 60 (Eqn_4)\n",
    "# Perform vector subtraction of Eqn_3 and Eqn_4\n",
    "# 3x = 54\n",
    "x = 18\n",
    "\n",
    "# Substitute 18 for x in Eqn_2\n",
    "# 18 + y = 30\n",
    "# y = 30 - 18\n",
    "y = 12\n",
    "\n",
    "print(\"Number of quarters :\", x)\n",
    "print(\"Number of dimes :\", y)\n",
    "\n",
    "# Answer:\n",
    "# x = 18 quarters\n",
    "# y = 12 dimes"
   ]
  },
  {
   "cell_type": "markdown",
   "metadata": {},
   "source": [
    "## Level up (Optional)\n",
    "For more practice with linear equations, visit the following links for more complex equations:\n",
    "\n",
    "* https://www.transum.org/software/SW/Starter_of_the_day/Students/Simultaneous_Equations.asp?Level=6\n",
    "* https://www.transum.org/software/SW/Starter_of_the_day/Students/Simultaneous_Equations.asp?Level=7\n",
    "\n",
    "## Summary\n",
    "\n",
    "In this lesson, you learned how to solve linear equations by hand to find the coefficient values. You'll now move forward to have a deeper look into vectors and matrices and how Python and NumPy can help us solve more complex equations in an analytical context. "
   ]
  }
 ],
 "metadata": {
  "kernelspec": {
   "display_name": "saturn (Python 3)",
   "language": "python",
   "name": "python3"
  },
  "language_info": {
   "codemirror_mode": {
    "name": "ipython",
    "version": 3
   },
   "file_extension": ".py",
   "mimetype": "text/x-python",
   "name": "python",
   "nbconvert_exporter": "python",
   "pygments_lexer": "ipython3",
   "version": "3.10.6"
  }
 },
 "nbformat": 4,
 "nbformat_minor": 2
}
