{
 "cells": [
  {
   "cell_type": "markdown",
   "metadata": {},
   "source": [
    "# Feature Selection Methods\n",
    "\n",
    "## Introduction\n",
    "\n",
    "In this lesson, you'll learn about the different techniques you can use to only use features that are most relevant to your model.\n",
    "\n",
    "## Objectives\n",
    "\n",
    "You will be able to:\n",
    "\n",
    "- Use feature selection to obtain the optimal subset of features in a dataset \n",
    "- Identify when it is appropriate to use certain methods of feature selection "
   ]
  },
  {
   "cell_type": "markdown",
   "metadata": {},
   "source": [
    "## Feature Selection\n",
    "\n",
    "Feature selection is the process by which you **select a subset of features** relevant for model construction. Feature selection comes with several benefits, the most obvious being the improvement in performance of a machine learning algorithm. Other benefits include:\n",
    "\n",
    "* Decrease in computational complexity: As the number of features is reduced in a model, the easier it will be to compute the parameters of your model. It will also mean a decrease in the amount of data storage required to maintain the features of your model \n",
    "* Understanding your data: In the process of feature selection, you will potentially gain more understanding of how features relate to one another \n",
    "\n",
    "Now, let's look at the different types of feature selection approaches and their advantages/disadvantages.\n",
    "\n",
    "### Types of Feature Selection\n",
    "\n",
    "Like many things in data science, there is no clear and easy answer for deciding which features to include in a model. There are, however, different strategies you can use to process features in an efficient way: \n",
    "\n",
    "* Domain knowledge\n",
    "* Filter methods\n",
    "* Wrapper methods\n",
    "* Embedded methods"
   ]
  },
  {
   "cell_type": "markdown",
   "metadata": {},
   "source": [
    "#### Domain Knowledge   \n",
    "\n",
    "One of the most important aspects when determining important features is the knowledge of the specific domain related to your dataset. This might mean reading past research papers that have explored similar topics or asking key stakeholders to determine what they believe the most important factors are for predicting the target variable."
   ]
  },
  {
   "cell_type": "markdown",
   "metadata": {},
   "source": [
    "#### Filter Methods \n",
    "\n",
    "Filter methods are feature selection methods carried out as a preprocessing step before even running a model. Filter methods work by observing characteristics of how variables are related to one another. Depending on the model that is being used, different metrics are used to determine which features will get eliminated and which will remain. Typically, filter methods will return a \"feature ranking\" that will tell you how features are ordered in relation to one another. They will remove the variables that are considered redundant. It's up to the data scientist to determine the cut-off point at which they will keep the top $n$ features, and this $n$ is usually determined through cross-validation.\n",
    "\n",
    "<img src= \"./images/new_filter.png\">\n",
    "\n",
    "In the linear regression context, a common filter method is to eliminate features that are highly **correlated** with one another.\n",
    "\n",
    "Another method is to use a ***variance threshold***. This sets some threshold of required variance among features in order to include them in a model. The thought process behind this is that if variables do not have a high variance, they will not change much and will therefore not have much impact on our dependent variable."
   ]
  },
  {
   "cell_type": "markdown",
   "metadata": {},
   "source": [
    "#### Wrapper Methods   \n",
    "\n",
    "Wrapper methods determine the optimal subset of features using different combinations of features to train models and then calculating performance. Every subset is used to train models and then evaluated on a test set. As you might imagine, wrapper methods can end up being very computationally intensive, however, they are highly effective in determining the optimal subset. Because wrapper methods are so time-consuming, it becomes challenging to use them with large feature sets. \n",
    "\n",
    "<img src = \"./images/new_wrapper.png\">\n",
    "\n",
    "An example of a wrapper method in linear regression is ***recursive feature elimination***, which starts with all features included in a model and removes them one by one. After the model has had a feature removed, whichever subset of features resulted in the least significant deterioration of the model fit will indicate which omitted feature is the least useful for prediction.\n",
    "\n",
    "The opposite of this process is ***forward selection***, which undergoes the same process in reverse. It begins with a single feature and continues to add the one feature at a time that improves model performance the most. "
   ]
  },
  {
   "cell_type": "markdown",
   "metadata": {},
   "source": [
    "#### Embedded Methods \n",
    "\n",
    "Embedded methods are feature selection methods that are included within the actual formulation of your machine learning algorithm. The most common kind of embedded method is regularization, in particular lasso regression, because it has the capability of reducing your set of features automatically.\n",
    "\n",
    "<img src = \"./images/new_embedded.png\">"
   ]
  },
  {
   "cell_type": "markdown",
   "metadata": {},
   "source": [
    "## Feature Selection in Action\n",
    "\n",
    "Now, we're going to review the process behind performing feature selection with a dataset pertaining to diabetes. The dataset contains the independent variables age, sex, body mass index, blood pressure, and 6 different blood serum measurements. The target variable represents a quantitative measurement progression of diabetes from one year after a baseline observation. With feature selection, our goal is to find a model that is able to maintain high accuracy while not overfitting to noise."
   ]
  },
  {
   "cell_type": "markdown",
   "metadata": {},
   "source": [
    "### Preprocess the Data\n",
    "\n",
    "To begin with, we are going to load the necessary libraries and functions, load the data, and create a dummy variable for the variable `'SEX'`. The target variable is in the column `'Y'`. "
   ]
  },
  {
   "cell_type": "code",
   "execution_count": 1,
   "metadata": {},
   "outputs": [
    {
     "data": {
      "text/html": [
       "<div>\n",
       "<style scoped>\n",
       "    .dataframe tbody tr th:only-of-type {\n",
       "        vertical-align: middle;\n",
       "    }\n",
       "\n",
       "    .dataframe tbody tr th {\n",
       "        vertical-align: top;\n",
       "    }\n",
       "\n",
       "    .dataframe thead th {\n",
       "        text-align: right;\n",
       "    }\n",
       "</style>\n",
       "<table border=\"1\" class=\"dataframe\">\n",
       "  <thead>\n",
       "    <tr style=\"text-align: right;\">\n",
       "      <th></th>\n",
       "      <th>AGE</th>\n",
       "      <th>SEX</th>\n",
       "      <th>BMI</th>\n",
       "      <th>BP</th>\n",
       "      <th>S1</th>\n",
       "      <th>S2</th>\n",
       "      <th>S3</th>\n",
       "      <th>S4</th>\n",
       "      <th>S5</th>\n",
       "      <th>S6</th>\n",
       "      <th>Y</th>\n",
       "    </tr>\n",
       "  </thead>\n",
       "  <tbody>\n",
       "    <tr>\n",
       "      <th>0</th>\n",
       "      <td>59</td>\n",
       "      <td>2</td>\n",
       "      <td>32.1</td>\n",
       "      <td>101.0</td>\n",
       "      <td>157</td>\n",
       "      <td>93.2</td>\n",
       "      <td>38.0</td>\n",
       "      <td>4.0</td>\n",
       "      <td>4.8598</td>\n",
       "      <td>87</td>\n",
       "      <td>151</td>\n",
       "    </tr>\n",
       "    <tr>\n",
       "      <th>1</th>\n",
       "      <td>48</td>\n",
       "      <td>1</td>\n",
       "      <td>21.6</td>\n",
       "      <td>87.0</td>\n",
       "      <td>183</td>\n",
       "      <td>103.2</td>\n",
       "      <td>70.0</td>\n",
       "      <td>3.0</td>\n",
       "      <td>3.8918</td>\n",
       "      <td>69</td>\n",
       "      <td>75</td>\n",
       "    </tr>\n",
       "    <tr>\n",
       "      <th>2</th>\n",
       "      <td>72</td>\n",
       "      <td>2</td>\n",
       "      <td>30.5</td>\n",
       "      <td>93.0</td>\n",
       "      <td>156</td>\n",
       "      <td>93.6</td>\n",
       "      <td>41.0</td>\n",
       "      <td>4.0</td>\n",
       "      <td>4.6728</td>\n",
       "      <td>85</td>\n",
       "      <td>141</td>\n",
       "    </tr>\n",
       "    <tr>\n",
       "      <th>3</th>\n",
       "      <td>24</td>\n",
       "      <td>1</td>\n",
       "      <td>25.3</td>\n",
       "      <td>84.0</td>\n",
       "      <td>198</td>\n",
       "      <td>131.4</td>\n",
       "      <td>40.0</td>\n",
       "      <td>5.0</td>\n",
       "      <td>4.8903</td>\n",
       "      <td>89</td>\n",
       "      <td>206</td>\n",
       "    </tr>\n",
       "    <tr>\n",
       "      <th>4</th>\n",
       "      <td>50</td>\n",
       "      <td>1</td>\n",
       "      <td>23.0</td>\n",
       "      <td>101.0</td>\n",
       "      <td>192</td>\n",
       "      <td>125.4</td>\n",
       "      <td>52.0</td>\n",
       "      <td>4.0</td>\n",
       "      <td>4.2905</td>\n",
       "      <td>80</td>\n",
       "      <td>135</td>\n",
       "    </tr>\n",
       "  </tbody>\n",
       "</table>\n",
       "</div>"
      ],
      "text/plain": [
       "   AGE  SEX   BMI     BP   S1     S2    S3   S4      S5  S6    Y\n",
       "0   59    2  32.1  101.0  157   93.2  38.0  4.0  4.8598  87  151\n",
       "1   48    1  21.6   87.0  183  103.2  70.0  3.0  3.8918  69   75\n",
       "2   72    2  30.5   93.0  156   93.6  41.0  4.0  4.6728  85  141\n",
       "3   24    1  25.3   84.0  198  131.4  40.0  5.0  4.8903  89  206\n",
       "4   50    1  23.0  101.0  192  125.4  52.0  4.0  4.2905  80  135"
      ]
     },
     "execution_count": 1,
     "metadata": {},
     "output_type": "execute_result"
    }
   ],
   "source": [
    "# Importing necessary libraries\n",
    "import matplotlib.pyplot as plt\n",
    "import numpy as np\n",
    "import pandas as pd\n",
    "from sklearn.feature_selection import (VarianceThreshold, SelectKBest, f_regression, mutual_info_regression, \n",
    "    RFE, RFECV)\n",
    "from sklearn.linear_model import LinearRegression, LassoCV\n",
    "from sklearn.metrics import mean_squared_error\n",
    "from sklearn.model_selection import train_test_split\n",
    "from sklearn.preprocessing import OneHotEncoder, StandardScaler, PolynomialFeatures\n",
    "\n",
    "# Load the data\n",
    "df = pd.read_csv('diabetes.tab.txt', sep='\\t')\n",
    "df.head()"
   ]
  },
  {
   "cell_type": "code",
   "execution_count": 2,
   "metadata": {},
   "outputs": [],
   "source": [
    "# Obtain the target and features from the DataFrame\n",
    "target = df['Y']\n",
    "features = df.drop(columns='Y')"
   ]
  },
  {
   "cell_type": "code",
   "execution_count": 3,
   "metadata": {},
   "outputs": [],
   "source": [
    "# Split the data\n",
    "X_train, X_test, y_train, y_test = train_test_split(features, target, random_state=20, test_size=0.2)"
   ]
  },
  {
   "cell_type": "code",
   "execution_count": 4,
   "metadata": {},
   "outputs": [],
   "source": [
    "# Create dummy variable for sex\n",
    "ohe = OneHotEncoder(drop='first', sparse=False)\n",
    "train_female = ohe.fit_transform(X_train[['SEX']]).flatten()\n",
    "test_female = ohe.transform(X_test[['SEX']]).flatten()"
   ]
  },
  {
   "cell_type": "markdown",
   "metadata": {},
   "source": [
    "For both regularization (an embedded method) and various filters, it is important to standardize the data. This next cell is fitting a `StandardScaler` from `sklearn` to the training data and using it to transform all of the numeric features."
   ]
  },
  {
   "cell_type": "code",
   "execution_count": 10,
   "metadata": {},
   "outputs": [
    {
     "data": {
      "text/html": [
       "<div>\n",
       "<style scoped>\n",
       "    .dataframe tbody tr th:only-of-type {\n",
       "        vertical-align: middle;\n",
       "    }\n",
       "\n",
       "    .dataframe tbody tr th {\n",
       "        vertical-align: top;\n",
       "    }\n",
       "\n",
       "    .dataframe thead th {\n",
       "        text-align: right;\n",
       "    }\n",
       "</style>\n",
       "<table border=\"1\" class=\"dataframe\">\n",
       "  <thead>\n",
       "    <tr style=\"text-align: right;\">\n",
       "      <th></th>\n",
       "      <th>AGE</th>\n",
       "      <th>SEX</th>\n",
       "      <th>BMI</th>\n",
       "      <th>BP</th>\n",
       "      <th>S1</th>\n",
       "      <th>S2</th>\n",
       "      <th>S3</th>\n",
       "      <th>S4</th>\n",
       "      <th>S5</th>\n",
       "      <th>female</th>\n",
       "    </tr>\n",
       "  </thead>\n",
       "  <tbody>\n",
       "    <tr>\n",
       "      <th>171</th>\n",
       "      <td>-0.433522</td>\n",
       "      <td>-0.947549</td>\n",
       "      <td>-0.967597</td>\n",
       "      <td>-2.067847</td>\n",
       "      <td>-1.623215</td>\n",
       "      <td>-1.280312</td>\n",
       "      <td>-0.347527</td>\n",
       "      <td>-0.852832</td>\n",
       "      <td>-1.095555</td>\n",
       "      <td>0.0</td>\n",
       "    </tr>\n",
       "    <tr>\n",
       "      <th>388</th>\n",
       "      <td>1.117754</td>\n",
       "      <td>1.055354</td>\n",
       "      <td>-0.516691</td>\n",
       "      <td>1.142458</td>\n",
       "      <td>-0.168101</td>\n",
       "      <td>-0.129601</td>\n",
       "      <td>-0.424950</td>\n",
       "      <td>-0.083651</td>\n",
       "      <td>0.543382</td>\n",
       "      <td>1.0</td>\n",
       "    </tr>\n",
       "    <tr>\n",
       "      <th>268</th>\n",
       "      <td>1.350445</td>\n",
       "      <td>1.055354</td>\n",
       "      <td>1.850570</td>\n",
       "      <td>1.427819</td>\n",
       "      <td>0.413945</td>\n",
       "      <td>0.764667</td>\n",
       "      <td>-1.044334</td>\n",
       "      <td>1.454710</td>\n",
       "      <td>0.597504</td>\n",
       "      <td>1.0</td>\n",
       "    </tr>\n",
       "    <tr>\n",
       "      <th>31</th>\n",
       "      <td>-0.511086</td>\n",
       "      <td>-0.947549</td>\n",
       "      <td>-1.373413</td>\n",
       "      <td>-1.711146</td>\n",
       "      <td>-0.837453</td>\n",
       "      <td>-1.148802</td>\n",
       "      <td>1.278358</td>\n",
       "      <td>-1.622013</td>\n",
       "      <td>-0.796071</td>\n",
       "      <td>0.0</td>\n",
       "    </tr>\n",
       "    <tr>\n",
       "      <th>427</th>\n",
       "      <td>-0.743778</td>\n",
       "      <td>1.055354</td>\n",
       "      <td>0.114579</td>\n",
       "      <td>-0.141664</td>\n",
       "      <td>-1.565010</td>\n",
       "      <td>-1.339491</td>\n",
       "      <td>-0.115257</td>\n",
       "      <td>-0.852832</td>\n",
       "      <td>-0.970101</td>\n",
       "      <td>1.0</td>\n",
       "    </tr>\n",
       "    <tr>\n",
       "      <th>...</th>\n",
       "      <td>...</td>\n",
       "      <td>...</td>\n",
       "      <td>...</td>\n",
       "      <td>...</td>\n",
       "      <td>...</td>\n",
       "      <td>...</td>\n",
       "      <td>...</td>\n",
       "      <td>...</td>\n",
       "      <td>...</td>\n",
       "      <td>...</td>\n",
       "    </tr>\n",
       "    <tr>\n",
       "      <th>218</th>\n",
       "      <td>-0.898905</td>\n",
       "      <td>-0.947549</td>\n",
       "      <td>-1.373413</td>\n",
       "      <td>-0.855065</td>\n",
       "      <td>-0.138998</td>\n",
       "      <td>0.278080</td>\n",
       "      <td>-0.889488</td>\n",
       "      <td>0.685530</td>\n",
       "      <td>0.130301</td>\n",
       "      <td>0.0</td>\n",
       "    </tr>\n",
       "    <tr>\n",
       "      <th>412</th>\n",
       "      <td>1.583137</td>\n",
       "      <td>-0.947549</td>\n",
       "      <td>1.782934</td>\n",
       "      <td>1.285138</td>\n",
       "      <td>0.297536</td>\n",
       "      <td>0.251778</td>\n",
       "      <td>0.349281</td>\n",
       "      <td>-0.083651</td>\n",
       "      <td>0.113090</td>\n",
       "      <td>0.0</td>\n",
       "    </tr>\n",
       "    <tr>\n",
       "      <th>223</th>\n",
       "      <td>-2.139926</td>\n",
       "      <td>-0.947549</td>\n",
       "      <td>-0.494145</td>\n",
       "      <td>-1.354445</td>\n",
       "      <td>-1.244885</td>\n",
       "      <td>-1.286887</td>\n",
       "      <td>0.271858</td>\n",
       "      <td>-0.852832</td>\n",
       "      <td>-0.397142</td>\n",
       "      <td>0.0</td>\n",
       "    </tr>\n",
       "    <tr>\n",
       "      <th>271</th>\n",
       "      <td>0.807499</td>\n",
       "      <td>1.055354</td>\n",
       "      <td>0.182215</td>\n",
       "      <td>0.857098</td>\n",
       "      <td>-0.924760</td>\n",
       "      <td>-0.464951</td>\n",
       "      <td>-0.812065</td>\n",
       "      <td>-0.083651</td>\n",
       "      <td>-0.397142</td>\n",
       "      <td>1.0</td>\n",
       "    </tr>\n",
       "    <tr>\n",
       "      <th>355</th>\n",
       "      <td>-1.596980</td>\n",
       "      <td>1.055354</td>\n",
       "      <td>-0.201056</td>\n",
       "      <td>0.286377</td>\n",
       "      <td>-0.808351</td>\n",
       "      <td>-0.478102</td>\n",
       "      <td>-0.270103</td>\n",
       "      <td>-0.083651</td>\n",
       "      <td>-0.714602</td>\n",
       "      <td>1.0</td>\n",
       "    </tr>\n",
       "  </tbody>\n",
       "</table>\n",
       "<p>353 rows × 10 columns</p>\n",
       "</div>"
      ],
      "text/plain": [
       "          AGE       SEX       BMI        BP        S1        S2        S3  \\\n",
       "171 -0.433522 -0.947549 -0.967597 -2.067847 -1.623215 -1.280312 -0.347527   \n",
       "388  1.117754  1.055354 -0.516691  1.142458 -0.168101 -0.129601 -0.424950   \n",
       "268  1.350445  1.055354  1.850570  1.427819  0.413945  0.764667 -1.044334   \n",
       "31  -0.511086 -0.947549 -1.373413 -1.711146 -0.837453 -1.148802  1.278358   \n",
       "427 -0.743778  1.055354  0.114579 -0.141664 -1.565010 -1.339491 -0.115257   \n",
       "..        ...       ...       ...       ...       ...       ...       ...   \n",
       "218 -0.898905 -0.947549 -1.373413 -0.855065 -0.138998  0.278080 -0.889488   \n",
       "412  1.583137 -0.947549  1.782934  1.285138  0.297536  0.251778  0.349281   \n",
       "223 -2.139926 -0.947549 -0.494145 -1.354445 -1.244885 -1.286887  0.271858   \n",
       "271  0.807499  1.055354  0.182215  0.857098 -0.924760 -0.464951 -0.812065   \n",
       "355 -1.596980  1.055354 -0.201056  0.286377 -0.808351 -0.478102 -0.270103   \n",
       "\n",
       "           S4        S5  female  \n",
       "171 -0.852832 -1.095555     0.0  \n",
       "388 -0.083651  0.543382     1.0  \n",
       "268  1.454710  0.597504     1.0  \n",
       "31  -1.622013 -0.796071     0.0  \n",
       "427 -0.852832 -0.970101     1.0  \n",
       "..        ...       ...     ...  \n",
       "218  0.685530  0.130301     0.0  \n",
       "412 -0.083651  0.113090     0.0  \n",
       "223 -0.852832 -0.397142     0.0  \n",
       "271 -0.083651 -0.397142     1.0  \n",
       "355 -0.083651 -0.714602     1.0  \n",
       "\n",
       "[353 rows x 10 columns]"
      ]
     },
     "execution_count": 10,
     "metadata": {},
     "output_type": "execute_result"
    }
   ],
   "source": [
    "# Initialize the scaler\n",
    "scaler = StandardScaler()\n",
    "\n",
    "# Scale every feature except the binary column - female\n",
    "transformed_training_features = scaler.fit_transform(X_train.iloc[:,:-1])\n",
    "transformed_testing_features = scaler.transform(X_test.iloc[:,:-1])\n",
    "\n",
    "# Convert the scaled features into a DataFrame\n",
    "X_train_transformed = pd.DataFrame(scaler.transform(X_train.iloc[:,:-1]), \n",
    "                                   columns=X_train.columns[:-1], \n",
    "                                   index=X_train.index)\n",
    "X_test_transformed = pd.DataFrame(scaler.transform(X_test.iloc[:,:-1]), \n",
    "                                  columns=X_train.columns[:-1], \n",
    "                                  index=X_test.index)\n",
    "\n",
    "# Add binary column back in\n",
    "X_train_transformed['female'] = train_female\n",
    "X_test_transformed['female'] = test_female\n",
    "\n",
    "X_train_transformed"
   ]
  },
  {
   "cell_type": "markdown",
   "metadata": {},
   "source": [
    "We'll also use `PolynomialFeatures` to transform the data and create interactions and squared terms:"
   ]
  },
  {
   "cell_type": "code",
   "execution_count": 11,
   "metadata": {},
   "outputs": [
    {
     "data": {
      "text/html": [
       "<div>\n",
       "<style scoped>\n",
       "    .dataframe tbody tr th:only-of-type {\n",
       "        vertical-align: middle;\n",
       "    }\n",
       "\n",
       "    .dataframe tbody tr th {\n",
       "        vertical-align: top;\n",
       "    }\n",
       "\n",
       "    .dataframe thead th {\n",
       "        text-align: right;\n",
       "    }\n",
       "</style>\n",
       "<table border=\"1\" class=\"dataframe\">\n",
       "  <thead>\n",
       "    <tr style=\"text-align: right;\">\n",
       "      <th></th>\n",
       "      <th>AGE</th>\n",
       "      <th>SEX</th>\n",
       "      <th>BMI</th>\n",
       "      <th>BP</th>\n",
       "      <th>S1</th>\n",
       "      <th>S2</th>\n",
       "      <th>S3</th>\n",
       "      <th>S4</th>\n",
       "      <th>S5</th>\n",
       "      <th>female</th>\n",
       "      <th>...</th>\n",
       "      <th>S3^2</th>\n",
       "      <th>S3 S4</th>\n",
       "      <th>S3 S5</th>\n",
       "      <th>S3 female</th>\n",
       "      <th>S4^2</th>\n",
       "      <th>S4 S5</th>\n",
       "      <th>S4 female</th>\n",
       "      <th>S5^2</th>\n",
       "      <th>S5 female</th>\n",
       "      <th>female^2</th>\n",
       "    </tr>\n",
       "  </thead>\n",
       "  <tbody>\n",
       "    <tr>\n",
       "      <th>0</th>\n",
       "      <td>-0.433522</td>\n",
       "      <td>-0.947549</td>\n",
       "      <td>-0.967597</td>\n",
       "      <td>-2.067847</td>\n",
       "      <td>-1.623215</td>\n",
       "      <td>-1.280312</td>\n",
       "      <td>-0.347527</td>\n",
       "      <td>-0.852832</td>\n",
       "      <td>-1.095555</td>\n",
       "      <td>0.0</td>\n",
       "      <td>...</td>\n",
       "      <td>0.120775</td>\n",
       "      <td>0.296382</td>\n",
       "      <td>0.380734</td>\n",
       "      <td>-0.000000</td>\n",
       "      <td>0.727322</td>\n",
       "      <td>0.934324</td>\n",
       "      <td>-0.000000</td>\n",
       "      <td>1.200240</td>\n",
       "      <td>-0.000000</td>\n",
       "      <td>0.0</td>\n",
       "    </tr>\n",
       "    <tr>\n",
       "      <th>1</th>\n",
       "      <td>1.117754</td>\n",
       "      <td>1.055354</td>\n",
       "      <td>-0.516691</td>\n",
       "      <td>1.142458</td>\n",
       "      <td>-0.168101</td>\n",
       "      <td>-0.129601</td>\n",
       "      <td>-0.424950</td>\n",
       "      <td>-0.083651</td>\n",
       "      <td>0.543382</td>\n",
       "      <td>1.0</td>\n",
       "      <td>...</td>\n",
       "      <td>0.180582</td>\n",
       "      <td>0.035548</td>\n",
       "      <td>-0.230910</td>\n",
       "      <td>-0.424950</td>\n",
       "      <td>0.006998</td>\n",
       "      <td>-0.045455</td>\n",
       "      <td>-0.083651</td>\n",
       "      <td>0.295264</td>\n",
       "      <td>0.543382</td>\n",
       "      <td>1.0</td>\n",
       "    </tr>\n",
       "    <tr>\n",
       "      <th>2</th>\n",
       "      <td>1.350445</td>\n",
       "      <td>1.055354</td>\n",
       "      <td>1.850570</td>\n",
       "      <td>1.427819</td>\n",
       "      <td>0.413945</td>\n",
       "      <td>0.764667</td>\n",
       "      <td>-1.044334</td>\n",
       "      <td>1.454710</td>\n",
       "      <td>0.597504</td>\n",
       "      <td>1.0</td>\n",
       "      <td>...</td>\n",
       "      <td>1.090634</td>\n",
       "      <td>-1.519204</td>\n",
       "      <td>-0.623994</td>\n",
       "      <td>-1.044334</td>\n",
       "      <td>2.116182</td>\n",
       "      <td>0.869195</td>\n",
       "      <td>1.454710</td>\n",
       "      <td>0.357011</td>\n",
       "      <td>0.597504</td>\n",
       "      <td>1.0</td>\n",
       "    </tr>\n",
       "    <tr>\n",
       "      <th>3</th>\n",
       "      <td>-0.511086</td>\n",
       "      <td>-0.947549</td>\n",
       "      <td>-1.373413</td>\n",
       "      <td>-1.711146</td>\n",
       "      <td>-0.837453</td>\n",
       "      <td>-1.148802</td>\n",
       "      <td>1.278358</td>\n",
       "      <td>-1.622013</td>\n",
       "      <td>-0.796071</td>\n",
       "      <td>0.0</td>\n",
       "      <td>...</td>\n",
       "      <td>1.634199</td>\n",
       "      <td>-2.073513</td>\n",
       "      <td>-1.017664</td>\n",
       "      <td>0.000000</td>\n",
       "      <td>2.630925</td>\n",
       "      <td>1.291237</td>\n",
       "      <td>-0.000000</td>\n",
       "      <td>0.633729</td>\n",
       "      <td>-0.000000</td>\n",
       "      <td>0.0</td>\n",
       "    </tr>\n",
       "    <tr>\n",
       "      <th>4</th>\n",
       "      <td>-0.743778</td>\n",
       "      <td>1.055354</td>\n",
       "      <td>0.114579</td>\n",
       "      <td>-0.141664</td>\n",
       "      <td>-1.565010</td>\n",
       "      <td>-1.339491</td>\n",
       "      <td>-0.115257</td>\n",
       "      <td>-0.852832</td>\n",
       "      <td>-0.970101</td>\n",
       "      <td>1.0</td>\n",
       "      <td>...</td>\n",
       "      <td>0.013284</td>\n",
       "      <td>0.098295</td>\n",
       "      <td>0.111811</td>\n",
       "      <td>-0.115257</td>\n",
       "      <td>0.727322</td>\n",
       "      <td>0.827333</td>\n",
       "      <td>-0.852832</td>\n",
       "      <td>0.941095</td>\n",
       "      <td>-0.970101</td>\n",
       "      <td>1.0</td>\n",
       "    </tr>\n",
       "  </tbody>\n",
       "</table>\n",
       "<p>5 rows × 65 columns</p>\n",
       "</div>"
      ],
      "text/plain": [
       "        AGE       SEX       BMI        BP        S1        S2        S3  \\\n",
       "0 -0.433522 -0.947549 -0.967597 -2.067847 -1.623215 -1.280312 -0.347527   \n",
       "1  1.117754  1.055354 -0.516691  1.142458 -0.168101 -0.129601 -0.424950   \n",
       "2  1.350445  1.055354  1.850570  1.427819  0.413945  0.764667 -1.044334   \n",
       "3 -0.511086 -0.947549 -1.373413 -1.711146 -0.837453 -1.148802  1.278358   \n",
       "4 -0.743778  1.055354  0.114579 -0.141664 -1.565010 -1.339491 -0.115257   \n",
       "\n",
       "         S4        S5  female  ...      S3^2     S3 S4     S3 S5  S3 female  \\\n",
       "0 -0.852832 -1.095555     0.0  ...  0.120775  0.296382  0.380734  -0.000000   \n",
       "1 -0.083651  0.543382     1.0  ...  0.180582  0.035548 -0.230910  -0.424950   \n",
       "2  1.454710  0.597504     1.0  ...  1.090634 -1.519204 -0.623994  -1.044334   \n",
       "3 -1.622013 -0.796071     0.0  ...  1.634199 -2.073513 -1.017664   0.000000   \n",
       "4 -0.852832 -0.970101     1.0  ...  0.013284  0.098295  0.111811  -0.115257   \n",
       "\n",
       "       S4^2     S4 S5  S4 female      S5^2  S5 female  female^2  \n",
       "0  0.727322  0.934324  -0.000000  1.200240  -0.000000       0.0  \n",
       "1  0.006998 -0.045455  -0.083651  0.295264   0.543382       1.0  \n",
       "2  2.116182  0.869195   1.454710  0.357011   0.597504       1.0  \n",
       "3  2.630925  1.291237  -0.000000  0.633729  -0.000000       0.0  \n",
       "4  0.727322  0.827333  -0.852832  0.941095  -0.970101       1.0  \n",
       "\n",
       "[5 rows x 65 columns]"
      ]
     },
     "execution_count": 11,
     "metadata": {},
     "output_type": "execute_result"
    }
   ],
   "source": [
    "poly = PolynomialFeatures(degree=2, interaction_only=False, include_bias=False)\n",
    "X_poly_train = pd.DataFrame(poly.fit_transform(X_train_transformed),\n",
    "                            columns=poly.get_feature_names_out(X_train_transformed.columns))\n",
    "X_poly_test = pd.DataFrame(poly.transform(X_test_transformed),\n",
    "                           columns=poly.get_feature_names_out(X_test_transformed.columns))\n",
    "X_poly_train.head()"
   ]
  },
  {
   "cell_type": "markdown",
   "metadata": {},
   "source": [
    "As you can see, we now have 65 total columns! You can imagine that this model will greatly overfit to the data. Let's try it out with our training and test set."
   ]
  },
  {
   "cell_type": "markdown",
   "metadata": {},
   "source": [
    "### Establish Baseline Model Metrics\n",
    "\n",
    "Before we perform feature selection, we should see how well the baseline model performs. Because we are going to be running many different models here, we have created a function to ensure that we are following the D.R.Y. principle. "
   ]
  },
  {
   "cell_type": "code",
   "execution_count": 12,
   "metadata": {},
   "outputs": [],
   "source": [
    "def run_model(model, X_train, X_test, y_train, y_test, display=True):\n",
    "    \n",
    "    train_r2 = model.score(X_train, y_train)\n",
    "    y_pred_train = model.predict(X_train)\n",
    "    train_rmse = mean_squared_error(y_train, y_pred_train, squared=False)\n",
    "    \n",
    "    test_r2 = model.score(X_test, y_test)\n",
    "    y_pred_test = model.predict(X_test)\n",
    "    test_rmse = mean_squared_error(y_test, y_pred_test, squared=False)\n",
    "    \n",
    "    if (display):\n",
    "        print('Training R^2:', train_r2)\n",
    "        print('Training Root Mean Squared Error:', train_rmse)\n",
    "        print('\\n----------------\\n')\n",
    "        print('Testing R^2:', test_r2)\n",
    "        print('Testing Root Mean Squared Error:', test_rmse)\n",
    "        \n",
    "    return test_r2, test_rmse"
   ]
  },
  {
   "cell_type": "code",
   "execution_count": 13,
   "metadata": {},
   "outputs": [
    {
     "name": "stdout",
     "output_type": "stream",
     "text": [
      "Training R^2: 0.6129639640096767\n",
      "Training Root Mean Squared Error: 47.754196081071406\n",
      "\n",
      "----------------\n",
      "\n",
      "Testing R^2: 0.36502548684653646\n",
      "Testing Root Mean Squared Error: 61.45407085255152\n"
     ]
    }
   ],
   "source": [
    "lr_poly = LinearRegression()\n",
    "lr_poly.fit(X_poly_train, y_train)\n",
    "\n",
    "poly_r2, poly_rmse = run_model(lr_poly, X_poly_train, X_poly_test, y_train, y_test)"
   ]
  },
  {
   "cell_type": "markdown",
   "metadata": {},
   "source": [
    "Clearly, the model has fit very well to the training data, but it has fit to a lot of noise. It's time to get rid of some features to see if this improves the model."
   ]
  },
  {
   "cell_type": "markdown",
   "metadata": {},
   "source": [
    "## Filter Methods  \n",
    "\n",
    "Let's begin by trying out some filter methods for feature selection. The benefit of filter methods is that they can provide us with some useful visualizations for helping us gain an understanding about the characteristics of our data. To begin with, let's use a simple variance threshold to eliminate the features with low variance.\n",
    "\n",
    "### `VarianceThreshold`\n",
    "\n",
    "The `VarianceThreshold` class from scikit-learn ([documentation here](https://scikit-learn.org/stable/modules/generated/sklearn.feature_selection.VarianceThreshold.html)) works similarly to other preprocessing tools like `StandardScaler`. You fit it on the training data and transform both the train and test data, before fitting the model or making predictions.\n",
    "\n",
    "The default variance threshold is 0.0, meaning that `VarianceThreshold` will eliminate only features that have the same value in every row. This means that if you don't specify any parameters, there will be no difference in the features used for this particular dataset:"
   ]
  },
  {
   "cell_type": "code",
   "execution_count": 14,
   "metadata": {},
   "outputs": [
    {
     "name": "stdout",
     "output_type": "stream",
     "text": [
      "Training R^2: 0.6129971026671459\n",
      "Training Root Mean Squared Error: 47.752151641180525\n",
      "\n",
      "----------------\n",
      "\n",
      "Testing R^2: 0.36319440086194854\n",
      "Testing Root Mean Squared Error: 61.542615099445406\n",
      "\n",
      "----------------\n",
      "\n",
      "65 out of 65 features used\n",
      "Baseline R-Squared: 0.37\n",
      "Reduced R-Squared:  0.36\n"
     ]
    }
   ],
   "source": [
    "selector = VarianceThreshold()\n",
    "reduced_feature_train = pd.DataFrame(selector.fit_transform(X_poly_train), columns=X_poly_train.columns, index=X_poly_train.index)\n",
    "reduced_feature_test = pd.DataFrame(selector.transform(X_poly_test), columns=X_poly_test.columns, index=X_poly_test.index)\n",
    "\n",
    "lr = LinearRegression()\n",
    "lr.fit(reduced_feature_train, y_train)\n",
    "reduced_r2, reduced_rmse = run_model(lr, reduced_feature_train, reduced_feature_test, y_train, y_test)\n",
    "\n",
    "print('\\n----------------\\n')\n",
    "print(f\"{reduced_feature_train.shape[1]} out of {X_poly_train.shape[1]} features used\")\n",
    "print('Baseline R-Squared:', round(poly_r2, 2))\n",
    "print('Reduced R-Squared: ', round(reduced_r2, 2))"
   ]
  },
  {
   "cell_type": "markdown",
   "metadata": {},
   "source": [
    "We can also try out some different variance thresholds to see how they impact the results:"
   ]
  },
  {
   "cell_type": "code",
   "execution_count": 15,
   "metadata": {},
   "outputs": [
    {
     "data": {
      "text/plain": [
       "array([0.44404269, 0.59910866, 0.75417464, 0.90924061, 1.06430658,\n",
       "       1.21937256, 1.37443853, 1.5295045 , 1.68457048, 1.83963645])"
      ]
     },
     "execution_count": 15,
     "metadata": {},
     "output_type": "execute_result"
    }
   ],
   "source": [
    "np.linspace(np.percentile(selector.variances_,10), np.percentile(selector.variances_, 90), 10)"
   ]
  },
  {
   "cell_type": "code",
   "execution_count": 16,
   "metadata": {
    "scrolled": false
   },
   "outputs": [
    {
     "name": "stdout",
     "output_type": "stream",
     "text": [
      "Variance threshold: 0.44404268801979535\n",
      "58 out of 65 features used\n",
      "Baseline R-Squared: 0.37\n",
      "Reduced R-Squared:  0.36\n",
      "\n",
      "--------------------------------------------------------------------\n",
      "\n",
      "Variance threshold: 0.5991086615890968\n",
      "53 out of 65 features used\n",
      "Baseline R-Squared: 0.37\n",
      "Reduced R-Squared:  0.36\n",
      "\n",
      "--------------------------------------------------------------------\n",
      "\n",
      "Variance threshold: 0.7541746351583984\n",
      "53 out of 65 features used\n",
      "Baseline R-Squared: 0.37\n",
      "Reduced R-Squared:  0.36\n",
      "\n",
      "--------------------------------------------------------------------\n",
      "\n",
      "Variance threshold: 0.9092406087276999\n",
      "45 out of 65 features used\n",
      "Baseline R-Squared: 0.37\n",
      "Reduced R-Squared:  0.41\n",
      "\n",
      "--------------------------------------------------------------------\n",
      "\n",
      "Variance threshold: 1.0643065822970015\n",
      "14 out of 65 features used\n",
      "Baseline R-Squared: 0.37\n",
      "Reduced R-Squared:  0.04\n",
      "\n",
      "--------------------------------------------------------------------\n",
      "\n",
      "Variance threshold: 1.2193725558663029\n",
      "13 out of 65 features used\n",
      "Baseline R-Squared: 0.37\n",
      "Reduced R-Squared:  0.03\n",
      "\n",
      "--------------------------------------------------------------------\n",
      "\n",
      "Variance threshold: 1.3744385294356045\n",
      "10 out of 65 features used\n",
      "Baseline R-Squared: 0.37\n",
      "Reduced R-Squared:  0.07\n",
      "\n",
      "--------------------------------------------------------------------\n",
      "\n",
      "Variance threshold: 1.529504503004906\n",
      "9 out of 65 features used\n",
      "Baseline R-Squared: 0.37\n",
      "Reduced R-Squared:  0.09\n",
      "\n",
      "--------------------------------------------------------------------\n",
      "\n",
      "Variance threshold: 1.6845704765742076\n",
      "8 out of 65 features used\n",
      "Baseline R-Squared: 0.37\n",
      "Reduced R-Squared:  0.09\n",
      "\n",
      "--------------------------------------------------------------------\n",
      "\n",
      "Variance threshold: 1.8396364501435092\n",
      "7 out of 65 features used\n",
      "Baseline R-Squared: 0.37\n",
      "Reduced R-Squared:  0.05\n",
      "\n",
      "--------------------------------------------------------------------\n",
      "\n"
     ]
    }
   ],
   "source": [
    "threshold_ranges = np.linspace(np.percentile(selector.variances_,10), np.percentile(selector.variances_, 90), 10)\n",
    "reduced_r2s = []\n",
    "for thresh in threshold_ranges:\n",
    "    selector = VarianceThreshold(thresh)\n",
    "    reduced_feature_train = selector.fit_transform(X_poly_train)\n",
    "    reduced_feature_test = selector.transform(X_poly_test)\n",
    "    lr = LinearRegression()\n",
    "    lr.fit(reduced_feature_train, y_train)\n",
    "    reduced_r2, reduced_rmse = run_model(lr, reduced_feature_train, reduced_feature_test, y_train, y_test, display=False)\n",
    "    reduced_r2s.append(reduced_r2)\n",
    "    \n",
    "    print('Variance threshold:', thresh)\n",
    "    print(f\"{reduced_feature_train.shape[1]} out of {X_poly_train.shape[1]} features used\")\n",
    "    print('Baseline R-Squared:', round(poly_r2, 2))\n",
    "    print('Reduced R-Squared: ', round(reduced_r2, 2))\n",
    "    print('\\n--------------------------------------------------------------------\\n')"
   ]
  },
  {
   "cell_type": "code",
   "execution_count": 17,
   "metadata": {},
   "outputs": [
    {
     "data": {
      "image/png": "[encoded data removed]",
      "text/plain": [
       "<Figure size 640x480 with 1 Axes>"
      ]
     },
     "metadata": {},
     "output_type": "display_data"
    }
   ],
   "source": [
    "fig, ax = plt.subplots()\n",
    "ax.scatter(threshold_ranges, reduced_r2s, label=\"features reduced with VarianceThreshold\")\n",
    "ax.axhline(y=poly_r2, linestyle=\"--\", label=\"baseline\")\n",
    "ax.set_xlabel(\"Variance Threshold\")\n",
    "ax.set_ylabel(\"Test R-Squared\")\n",
    "ax.legend();"
   ]
  },
  {
   "cell_type": "markdown",
   "metadata": {},
   "source": [
    "Well, that did not seem to eliminate the features very well. For some of the lower thresholds it only does a little better than the base polynomial. And for larger thresholds performance is much worse than baseline."
   ]
  },
  {
   "cell_type": "markdown",
   "metadata": {},
   "source": [
    "### `SelectKBest`\n",
    "\n",
    "`SelectKBest` ([documentation here](https://scikit-learn.org/stable/modules/generated/sklearn.feature_selection.SelectKBest.html)) works a little differently. Instead of just looking at the feature values, this transformer uses a particular statistic to compare features to the target one by one. Then it selects the top `k` features based on this statistic. The default `k` is 10.\n",
    "\n",
    "One statistic we can try is `f_regression` ([documentation here](https://scikit-learn.org/stable/modules/generated/sklearn.feature_selection.f_regression.html)):"
   ]
  },
  {
   "cell_type": "code",
   "execution_count": 18,
   "metadata": {},
   "outputs": [
    {
     "name": "stdout",
     "output_type": "stream",
     "text": [
      "Training R^2: 0.5272198197441764\n",
      "Training Root Mean Squared Error: 52.77952383154054\n",
      "\n",
      "----------------\n",
      "\n",
      "Testing R^2: 0.40576194869484805\n",
      "Testing Root Mean Squared Error: 59.45012044763017\n",
      "\n",
      "----------------\n",
      "\n",
      "10 out of 65 features used\n",
      "Baseline R-Squared: 0.37\n",
      "Reduced R-Squared:  0.41\n"
     ]
    }
   ],
   "source": [
    "selector = SelectKBest(score_func=f_regression)\n",
    "X_k_best_train = selector.fit_transform(X_poly_train, y_train)\n",
    "X_k_best_test = selector.transform(X_poly_test)\n",
    "lr = LinearRegression()\n",
    "lr.fit(X_k_best_train, y_train)\n",
    "k_best_r2, k_best_rmse = run_model(lr, X_k_best_train, X_k_best_test, y_train, y_test)\n",
    "\n",
    "print('\\n----------------\\n')\n",
    "print(f\"{X_k_best_train.shape[1]} out of {X_poly_train.shape[1]} features used\")\n",
    "print('Baseline R-Squared:', round(poly_r2, 2))\n",
    "print('Reduced R-Squared: ', round(k_best_r2, 2))"
   ]
  },
  {
   "cell_type": "markdown",
   "metadata": {},
   "source": [
    "Another is `mutual_info_regression` ([documentation here](https://scikit-learn.org/stable/modules/generated/sklearn.feature_selection.mutual_info_regression.html)):"
   ]
  },
  {
   "cell_type": "code",
   "execution_count": 19,
   "metadata": {},
   "outputs": [
    {
     "name": "stdout",
     "output_type": "stream",
     "text": [
      "Training R^2: 0.4930791650720181\n",
      "Training Root Mean Squared Error: 54.651980860609605\n",
      "\n",
      "----------------\n",
      "\n",
      "Testing R^2: 0.4049264718867692\n",
      "Testing Root Mean Squared Error: 59.49189810791232\n",
      "\n",
      "----------------\n",
      "\n",
      "10 out of 65 features used\n",
      "Baseline R-Squared: 0.37\n",
      "Reduced R-Squared:  0.4\n"
     ]
    }
   ],
   "source": [
    "selector = SelectKBest(score_func=mutual_info_regression)\n",
    "X_k_best_train = selector.fit_transform(X_poly_train, y_train)\n",
    "X_k_best_test = selector.transform(X_poly_test)\n",
    "lr = LinearRegression()\n",
    "lr.fit(X_k_best_train, y_train)\n",
    "k_best_r2, k_best_rmse = run_model(lr, X_k_best_train, X_k_best_test, y_train, y_test)\n",
    "\n",
    "print('\\n----------------\\n')\n",
    "print(f\"{X_k_best_train.shape[1]} out of {X_poly_train.shape[1]} features used\")\n",
    "print('Baseline R-Squared:', round(poly_r2, 2))\n",
    "print('Reduced R-Squared: ', round(k_best_r2, 2))"
   ]
  },
  {
   "cell_type": "markdown",
   "metadata": {},
   "source": [
    "Looks like `f_regression` was more successful. Let's try that with some different values for `k`:"
   ]
  },
  {
   "cell_type": "code",
   "execution_count": 20,
   "metadata": {
    "scrolled": false
   },
   "outputs": [
    {
     "name": "stdout",
     "output_type": "stream",
     "text": [
      "1 out of 65 features used\n",
      "Baseline R-Squared: 0.37\n",
      "Reduced R-Squared:  0.22\n",
      "\n",
      "--------------------------------------------------------------------\n",
      "\n",
      "11 out of 65 features used\n",
      "Baseline R-Squared: 0.37\n",
      "Reduced R-Squared:  0.41\n",
      "\n",
      "--------------------------------------------------------------------\n",
      "\n",
      "21 out of 65 features used\n",
      "Baseline R-Squared: 0.37\n",
      "Reduced R-Squared:  0.38\n",
      "\n",
      "--------------------------------------------------------------------\n",
      "\n",
      "31 out of 65 features used\n",
      "Baseline R-Squared: 0.37\n",
      "Reduced R-Squared:  0.38\n",
      "\n",
      "--------------------------------------------------------------------\n",
      "\n",
      "41 out of 65 features used\n",
      "Baseline R-Squared: 0.37\n",
      "Reduced R-Squared:  0.38\n",
      "\n",
      "--------------------------------------------------------------------\n",
      "\n",
      "51 out of 65 features used\n",
      "Baseline R-Squared: 0.37\n",
      "Reduced R-Squared:  0.36\n",
      "\n",
      "--------------------------------------------------------------------\n",
      "\n",
      "61 out of 65 features used\n",
      "Baseline R-Squared: 0.37\n",
      "Reduced R-Squared:  0.36\n",
      "\n",
      "--------------------------------------------------------------------\n",
      "\n"
     ]
    }
   ],
   "source": [
    "ks = np.arange(1, len(X_poly_train.columns), 10)\n",
    "reduced_r2s = []\n",
    "for k in ks:\n",
    "    selector = SelectKBest(score_func=f_regression, k=k)\n",
    "    X_k_best_train = selector.fit_transform(X_poly_train, y_train)\n",
    "    X_k_best_test = selector.transform(X_poly_test)\n",
    "    lr = LinearRegression()\n",
    "    lr.fit(X_k_best_train, y_train)\n",
    "    k_best_r2, k_best_rmse = run_model(lr, X_k_best_train, X_k_best_test, y_train, y_test, display=False)\n",
    "    reduced_r2s.append(k_best_r2)\n",
    "\n",
    "    print(f\"{k} out of {X_poly_train.shape[1]} features used\")\n",
    "    print('Baseline R-Squared:', round(poly_r2, 2))\n",
    "    print('Reduced R-Squared: ', round(k_best_r2, 2))\n",
    "    print('\\n--------------------------------------------------------------------\\n')"
   ]
  },
  {
   "cell_type": "code",
   "execution_count": 21,
   "metadata": {},
   "outputs": [
    {
     "data": {
      "image/png": "[encoded data removed]",
      "text/plain": [
       "<Figure size 640x480 with 1 Axes>"
      ]
     },
     "metadata": {},
     "output_type": "display_data"
    }
   ],
   "source": [
    "fig, ax = plt.subplots()\n",
    "ax.scatter(ks, reduced_r2s, label=\"features reduced with SelectKBest\")\n",
    "ax.axhline(y=poly_r2, linestyle=\"--\", label=\"baseline\")\n",
    "ax.set_xlabel(\"k\")\n",
    "ax.set_ylabel(\"Test R-Squared\")\n",
    "ax.legend(loc=\"lower right\");"
   ]
  },
  {
   "cell_type": "markdown",
   "metadata": {},
   "source": [
    "Looks like the default `k` of 10 was pretty good! If we wanted to tune this further we would probably try some more values near 10."
   ]
  },
  {
   "cell_type": "markdown",
   "metadata": {},
   "source": [
    "## Wrapper Methods\n",
    "\n",
    "Now let's use recursive feature elimination (RFE) to try out a wrapper method. This method fits a model, assigns weights to features based on the model fit (in linear regression, these weights are the coefficients), and repeatedly removes the feature with the smallest weight until the desired fraction of features remains.\n",
    "\n",
    "Both this approach and the `SelectKBest` approach use both features and target. The difference is that `SelectKBest` computes a pairwise statistic for each feature vs. the target, whereas RFE actually fits the kind of model you are using.\n",
    "\n",
    "### `RFE`\n",
    "\n",
    "The `RFE` class from scikit-learn ([documentation here](https://scikit-learn.org/stable/modules/generated/sklearn.feature_selection.RFE.html)) reduces the number of features down to 50% of the original features. Here it is in action: "
   ]
  },
  {
   "cell_type": "code",
   "execution_count": 22,
   "metadata": {},
   "outputs": [
    {
     "name": "stdout",
     "output_type": "stream",
     "text": [
      "Training R^2: 0.5748196161478456\n",
      "Training Root Mean Squared Error: 50.05211648955277\n",
      "\n",
      "----------------\n",
      "\n",
      "Testing R^2: 0.3773334409360569\n",
      "Testing Root Mean Squared Error: 60.85556248961351\n",
      "\n",
      "----------------\n",
      "\n",
      "32 out of 65 features used\n",
      "Baseline R-Squared: 0.37\n",
      "Reduced R-Squared:  0.38\n"
     ]
    }
   ],
   "source": [
    "rfe = RFE(LinearRegression())\n",
    "X_rfe_train = rfe.fit_transform(X_poly_train, y_train)\n",
    "X_rfe_test = rfe.transform(X_poly_test)\n",
    "lr = LinearRegression()\n",
    "lr.fit(X_rfe_train, y_train)\n",
    "\n",
    "rfe_r2, rfe_rmse = run_model(lr, X_rfe_train, X_rfe_test, y_train, y_test)\n",
    "print('\\n----------------\\n')\n",
    "print(f\"{X_rfe_train.shape[1]} out of {X_poly_train.shape[1]} features used\")\n",
    "print('Baseline R-Squared:', round(poly_r2, 2))\n",
    "print('Reduced R-Squared: ', round(rfe_r2, 2))"
   ]
  },
  {
   "cell_type": "markdown",
   "metadata": {},
   "source": [
    "We can also tune the number of features to select:"
   ]
  },
  {
   "cell_type": "code",
   "execution_count": 23,
   "metadata": {},
   "outputs": [
    {
     "name": "stdout",
     "output_type": "stream",
     "text": [
      "1 out of 65 features used\n",
      "Baseline R-Squared: 0.37\n",
      "Reduced R-Squared:  0.35\n",
      "\n",
      "--------------------------------------------------------------------\n",
      "\n",
      "11 out of 65 features used\n",
      "Baseline R-Squared: 0.37\n",
      "Reduced R-Squared:  0.38\n",
      "\n",
      "--------------------------------------------------------------------\n",
      "\n",
      "21 out of 65 features used\n",
      "Baseline R-Squared: 0.37\n",
      "Reduced R-Squared:  0.34\n",
      "\n",
      "--------------------------------------------------------------------\n",
      "\n",
      "31 out of 65 features used\n",
      "Baseline R-Squared: 0.37\n",
      "Reduced R-Squared:  0.38\n",
      "\n",
      "--------------------------------------------------------------------\n",
      "\n",
      "41 out of 65 features used\n",
      "Baseline R-Squared: 0.37\n",
      "Reduced R-Squared:  0.36\n",
      "\n",
      "--------------------------------------------------------------------\n",
      "\n",
      "51 out of 65 features used\n",
      "Baseline R-Squared: 0.37\n",
      "Reduced R-Squared:  0.37\n",
      "\n",
      "--------------------------------------------------------------------\n",
      "\n",
      "61 out of 65 features used\n",
      "Baseline R-Squared: 0.37\n",
      "Reduced R-Squared:  0.36\n",
      "\n",
      "--------------------------------------------------------------------\n",
      "\n"
     ]
    }
   ],
   "source": [
    "feature_ns = np.arange(1, len(X_poly_train.columns), 10)\n",
    "reduced_r2s = []\n",
    "for n in feature_ns:\n",
    "    rfe = RFE(LinearRegression(), n_features_to_select=n)\n",
    "    X_rfe_train = rfe.fit_transform(X_poly_train, y_train)\n",
    "    X_rfe_test = rfe.transform(X_poly_test)\n",
    "    lr = LinearRegression()\n",
    "    lr.fit(X_rfe_train, y_train)\n",
    "    rfe_r2, rfe_rmse = run_model(lr, X_rfe_train, X_rfe_test, y_train, y_test, display=False)\n",
    "    reduced_r2s.append(rfe_r2)\n",
    "\n",
    "    print(f\"{n} out of {X_poly_train.shape[1]} features used\")\n",
    "    print('Baseline R-Squared:', round(poly_r2, 2))\n",
    "    print('Reduced R-Squared: ', round(rfe_r2, 2))\n",
    "    print('\\n--------------------------------------------------------------------\\n')"
   ]
  },
  {
   "cell_type": "code",
   "execution_count": 24,
   "metadata": {},
   "outputs": [
    {
     "data": {
      "image/png": "[encoded data removed]",
      "text/plain": [
       "<Figure size 640x480 with 1 Axes>"
      ]
     },
     "metadata": {},
     "output_type": "display_data"
    }
   ],
   "source": [
    "fig, ax = plt.subplots()\n",
    "ax.scatter(feature_ns, reduced_r2s, label=\"features reduced with RFE\")\n",
    "ax.axhline(y=poly_r2, linestyle=\"--\", label=\"baseline\")\n",
    "ax.set_xlabel(\"n_features_to_select\")\n",
    "ax.set_ylabel(\"Test R-Squared\")\n",
    "ax.legend(loc=\"lower right\");"
   ]
  },
  {
   "cell_type": "markdown",
   "metadata": {},
   "source": [
    "It looks like sometimes `RFE` is able to get better metrics than the baseline polynomial model, but there is a lot of variance in the results.\n",
    "\n",
    "### `RFECV`\n",
    "\n",
    "A tool to address this kind of variance is `RFECV` ([documentation here](https://scikit-learn.org/stable/modules/generated/sklearn.feature_selection.RFECV.html)). The \"CV\" in the name stands for \"cross-validation\". This estimator fits _multiple_ models for each number of features, and thus also automatically selects an `n_features_to_select` value for you:"
   ]
  },
  {
   "cell_type": "code",
   "execution_count": 25,
   "metadata": {},
   "outputs": [
    {
     "name": "stdout",
     "output_type": "stream",
     "text": [
      "Training R^2: 0.582237433397517\n",
      "Training Root Mean Squared Error: 49.61358369043191\n",
      "\n",
      "----------------\n",
      "\n",
      "Testing R^2: 0.3795016133850525\n",
      "Testing Root Mean Squared Error: 60.74951824057221\n",
      "\n",
      "----------------\n",
      "\n",
      "34 out of 65 features used\n",
      "Baseline R-Squared: 0.37\n",
      "Reduced R-Squared:  0.38\n"
     ]
    }
   ],
   "source": [
    "rfe_cv = RFECV(LinearRegression(), cv=15)\n",
    "X_rfe_train = rfe_cv.fit_transform(X_poly_train, y_train)\n",
    "X_rfe_test = rfe_cv.transform(X_poly_test)\n",
    "lr = LinearRegression()\n",
    "lr.fit(X_rfe_train, y_train)\n",
    "\n",
    "rfe_r2, rfe_rmse = run_model(lr, X_rfe_train, X_rfe_test, y_train, y_test)\n",
    "print('\\n----------------\\n')\n",
    "print(f\"{X_rfe_train.shape[1]} out of {X_poly_train.shape[1]} features used\")\n",
    "print('Baseline R-Squared:', round(poly_r2, 2))\n",
    "print('Reduced R-Squared: ', round(rfe_r2, 2))"
   ]
  },
  {
   "cell_type": "markdown",
   "metadata": {},
   "source": [
    "With recursive feature elimination, we went from an $R^2$ score of 0.36 to 0.38 (a tiny bit better). Let's see if we can improve upon these results even more by trying embedded methods."
   ]
  },
  {
   "cell_type": "markdown",
   "metadata": {},
   "source": [
    "## Embedded Methods  \n",
    "\n",
    "To compare to our other methods, we will use lasso as the embedded method of feature selection. Luckily for us, `sklearn` has a built-in class `LassoCV` ([documentation here](https://scikit-learn.org/stable/modules/generated/sklearn.linear_model.LassoCV.html)) to help us find the optimal features! It performs cross validation to determine the best regularization parameter (how much to penalize our function)."
   ]
  },
  {
   "cell_type": "code",
   "execution_count": 26,
   "metadata": {},
   "outputs": [
    {
     "name": "stdout",
     "output_type": "stream",
     "text": [
      "Training R^2: 0.5796331222398328\n",
      "Training Root Mean Squared Error: 49.76798773972998\n",
      "\n",
      "----------------\n",
      "\n",
      "Testing R^2: 0.42197481285681404\n",
      "Testing Root Mean Squared Error: 58.63350974447023\n",
      "\n",
      "----------------\n",
      "\n",
      "The optimal alpha for the lasso regression is:  1.0793942862389219\n",
      "39 out of 65 features used\n",
      "Baseline R-Squared: 0.37\n",
      "Reduced R-Squared:  0.42\n"
     ]
    }
   ],
   "source": [
    "lasso = LassoCV(max_iter=10000, cv=15)\n",
    "\n",
    "lasso.fit(X_poly_train, y_train)\n",
    "lasso_r2, lasso_rmse = run_model(lasso, X_poly_train, X_poly_test, y_train, y_test)\n",
    "\n",
    "print('\\n----------------\\n')\n",
    "print('The optimal alpha for the lasso regression is: ', lasso.alpha_)\n",
    "print(f\"{sum(abs(lasso.coef_) < 10**(-10))} out of {X_poly_train.shape[1]} features used\")\n",
    "print('Baseline R-Squared:', round(poly_r2, 2))\n",
    "print('Reduced R-Squared: ', round(lasso_r2, 2))"
   ]
  },
  {
   "cell_type": "code",
   "execution_count": 28,
   "metadata": {},
   "outputs": [
    {
     "data": {
      "text/plain": [
       "65"
      ]
     },
     "execution_count": 28,
     "metadata": {},
     "output_type": "execute_result"
    }
   ],
   "source": [
    "len(abs(lasso.coef_))"
   ]
  },
  {
   "cell_type": "code",
   "execution_count": 31,
   "metadata": {},
   "outputs": [
    {
     "data": {
      "text/plain": [
       "39"
      ]
     },
     "execution_count": 31,
     "metadata": {},
     "output_type": "execute_result"
    }
   ],
   "source": [
    "sum(abs(lasso.coef_) < 10**(-10))"
   ]
  },
  {
   "cell_type": "code",
   "execution_count": null,
   "metadata": {},
   "outputs": [],
   "source": []
  },
  {
   "cell_type": "markdown",
   "metadata": {},
   "source": [
    "As we can see, the regularization had minimal effect on the performance of the model, but it did improve the metrics for the test set ever so slightly!\n",
    "\n",
    "There are no set steps someone should take in order to determine the optimal feature set. In fact, now there are automated machine learning pipelines that will determine the optimal subset of features for a given problem. One of the most important and often overlooked methods of feature selection is using domain knowledge about a given area to either eliminate features or create new ones."
   ]
  },
  {
   "cell_type": "markdown",
   "metadata": {},
   "source": [
    "## Additional Resources\n",
    "\n",
    "- [Feature Selection](https://www.researchgate.net/profile/Amparo_Alonso-Betanzos/publication/221252792_Filter_Methods_for_Feature_Selection_-_A_Comparative_Study/links/543fd9ec0cf21227a11b8e05.pdf)\n",
    "\n",
    "\n",
    "- [An Introduction to Variable and Feature Selection](http://www.jmlr.org/papers/volume3/guyon03a/guyon03a.pdf)"
   ]
  },
  {
   "cell_type": "markdown",
   "metadata": {},
   "source": [
    "## Summary\n",
    "\n",
    "This lesson formalized the different types of feature selection methods and introduced some new techniques to you. You learned about filter methods, wrapper methods, and embedded methods as well as their advantages and disadvantages. Then you saw how these methods can be applied using classes from scikit-learn."
   ]
  }
 ],
 "metadata": {
  "kernelspec": {
   "display_name": "saturn (Python 3)",
   "language": "python",
   "name": "python3"
  },
  "language_info": {
   "codemirror_mode": {
    "name": "ipython",
    "version": 3
   },
   "file_extension": ".py",
   "mimetype": "text/x-python",
   "name": "python",
   "nbconvert_exporter": "python",
   "pygments_lexer": "ipython3",
   "version": "3.10.6"
  }
 },
 "nbformat": 4,
 "nbformat_minor": 2
}
