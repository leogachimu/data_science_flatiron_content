{
 "cells": [
  {
   "cell_type": "markdown",
   "metadata": {},
   "source": [
    "# Inheritance - Lab\n",
    "\n",
    "## Introduction\n",
    "\n",
    "In this lab, you'll use what you've learned about inheritance to model a zoo using superclasses, subclasses, and maybe even an abstract superclass!\n",
    "\n",
    "## Objectives\n",
    "\n",
    "In this lab you will: \n",
    "\n",
    "- Create a domain model using OOP \n",
    "- Use inheritance to write nonredundant code \n",
    "\n",
    "## Modeling a Zoo\n",
    "\n",
    "Consider the following scenario:  You've been hired by a zookeeper to build a program that keeps track of all the animals in the zoo.  This is a great opportunity to make use of inheritance and object-oriented programming!\n",
    "\n",
    "## Creating an Abstract Superclass\n",
    "\n",
    "Start by creating an abstract superclass, `Animal()`.  When your program is complete, all subclasses of `Animal()` will have the following attributes:\n",
    "\n",
    "* `name`, which is a string set at instantation time\n",
    "* `size`, which can be `'small'`, `'medium'`, `'large'`, or `'enormous'` \n",
    "* `weight`, which is an integer set at instantiation time \n",
    "* `species`, a string that tells us the species of the animal\n",
    "* `food_type`, which can be `'herbivore'`, `'carnivore'`, or `'omnivore'`\n",
    "* `nocturnal`, a boolean value that is `True` if the animal sleeps during the day, otherwise `False`\n",
    "\n",
    "They'll also have the following behaviors:\n",
    "\n",
    "* `sleep`, which prints a string saying if the animal sleeps during day or night\n",
    "* `eat`, which takes in the string `'plants'` or `'meat'`, and returns `'{animal name} the {animal species} thinks {food} is yummy!'` or `'I don't eat this!'` based on the animal's `food_type` attribute \n",
    "\n",
    "In the cell below, create an abstract superclass that meets these specifications.\n",
    "\n",
    "**_NOTE:_** For some attributes in an abstract superclass such as `size`, the initial value doesn't matter -- just make sure that you remember to override it in each of the subclasses!"
   ]
  },
  {
   "cell_type": "code",
   "execution_count": 33,
   "metadata": {},
   "outputs": [],
   "source": [
    "class Animal:\n",
    "    def __init__(self, name, weight):\n",
    "        self.name = name\n",
    "        self.weight = weight\n",
    "        self.size = \"medium\"\n",
    "        self.species = \"mammal\"\n",
    "        self.food_type = \"herbivore\"\n",
    "        self.nocturnal = True\n",
    "        \n",
    "    def sleep(self):\n",
    "        if self.nocturnal==True:\n",
    "            print(\"{} sleeps during the day!\".format(self.name))\n",
    "        else:\n",
    "            print(\"{} sleeps during the night!\".format(self.name))\n",
    "        \n",
    "#     def sleep(self):\n",
    "#         print(\"Sleeps during the day\")\n",
    "#         return \"Sleeps during the day\"\n",
    "        \n",
    "#     def nocturnal(self):\n",
    "#         return True if self.sleep() == (\"Sleeps during the day\") else False\n",
    "\n",
    "    def eat(self, food):\n",
    "        if self.food_type == \"herbivore\" and food == 'plants':\n",
    "            return f'{self.name} the {self.species} thinks {food} is yummy!'\n",
    "        elif self.food_type == \"herbivore\" and food == 'meat':\n",
    "            return \"I don't eat this!\"\n",
    "        if self.food_type == \"carnivore\" and food == 'meat':\n",
    "            return f'{self.name} the {self.species} thinks {food} is yummy!'\n",
    "        elif self.food_type == \"carnivore\" and food == 'plants':\n",
    "            return \"I don't eat this!\"\n",
    "        elif self.food_type == \"omnivore\" and food in ['plants', 'meat']:\n",
    "            return f'{self.name} the {self.species} thinks {food} is yummy!'\n",
    "        else:\n",
    "            return \"I don't eat this!\""
   ]
  },
  {
   "cell_type": "code",
   "execution_count": 9,
   "metadata": {},
   "outputs": [],
   "source": [
    "# Jennifer's code\n",
    "def sleep(self):\n",
    "    if self.nocturnal==True:\n",
    "        print(\"{} sleeps during the day!\".format(self.name))\n",
    "    else:\n",
    "        print(\"{} sleeps during the night!\".format(self.name))\n",
    "\n",
    "def eat(self, food):\n",
    "    if self.food_type == 'omnivore' :\n",
    "        print(\"{} the {} thinks {} is Yummy!\".format(self.name, self.species, food))\n",
    "    elif (food == 'meat' and self.food_type == \"carnivore\") or (food == 'plants' and self.food_type == 'herbivore'):\n",
    "        print(\"{} the {} thinks {} is Yummy!\".format(self.name, self.species, food))\n",
    "    else:\n",
    "        print(\"I don't eat this!\")"
   ]
  },
  {
   "cell_type": "markdown",
   "metadata": {},
   "source": [
    "Great! Now that you have our abstract superclass, you can begin building out the specific animal classes.\n",
    "\n",
    "In the cell below, complete the `Elephant()` class.  This class should:\n",
    "\n",
    "* subclass `Animal` \n",
    "* have a species of `'elephant'` \n",
    "* have a size of `'enormous'` \n",
    "* have a food type of `'herbivore'` \n",
    "* set nocturnal to `False` \n",
    "\n",
    "**_Hint:_** Remember to make use of `.super()` during initialization, and be sure to pass in the values it expects at instantiation time!"
   ]
  },
  {
   "cell_type": "code",
   "execution_count": 34,
   "metadata": {},
   "outputs": [
    {
     "name": "stdout",
     "output_type": "stream",
     "text": [
      "Body size : enormous\n",
      "Species : elephant\n",
      "Food type : herbivore\n",
      "Abigail the elephant thinks plants is yummy!\n",
      "Abigail sleeps during the night!\n",
      "None\n",
      "Is nocturnal : False\n"
     ]
    }
   ],
   "source": [
    "class Elephant(Animal):\n",
    "    def __init__(self, name, weight):\n",
    "        super().__init__(name, weight)\n",
    "        self.size = \"enormous\"\n",
    "        self.species = \"elephant\"\n",
    "        self.food_type = \"herbivore\"\n",
    "        self.nocturnal = False\n",
    "    \n",
    "#     def sleep(self):\n",
    "#         return \"Sleeps at night\"\n",
    "        \n",
    "#     def nocturnal(self):\n",
    "#         return super().nocturnal()\n",
    "        \n",
    "elephant = Elephant('Abigail', 6000)\n",
    "print(\"Body size :\", elephant.size)\n",
    "print(\"Species :\", elephant.species)\n",
    "print(\"Food type :\", elephant.food_type)\n",
    "print(elephant.eat('plants'))\n",
    "print(elephant.sleep())\n",
    "print(\"Is nocturnal :\", elephant.nocturnal)"
   ]
  },
  {
   "cell_type": "markdown",
   "metadata": {},
   "source": [
    "Great! Now, in the cell below, create a `Tiger()` class.  This class should: \n",
    "\n",
    "* subclass `Animal` \n",
    "* have a species of `'tiger'` \n",
    "* have a size of `'large'` \n",
    "* have a food type of `'carnivore'` \n",
    "* set nocturnal to `True` "
   ]
  },
  {
   "cell_type": "code",
   "execution_count": 35,
   "metadata": {},
   "outputs": [
    {
     "name": "stdout",
     "output_type": "stream",
     "text": [
      "Body size : large\n",
      "Species : tiger\n",
      "Food type : carnivore\n",
      "Bruce the tiger thinks meat is yummy!\n",
      "Bruce sleeps during the day!\n",
      "None\n",
      "Is nocturnal : True\n"
     ]
    }
   ],
   "source": [
    "class Tiger(Animal):\n",
    "    def __init__(self, name, weight):\n",
    "        super().__init__(name, weight)\n",
    "        self.size = \"large\"\n",
    "        self.species = \"tiger\"\n",
    "        self.food_type = \"carnivore\"\n",
    "        self.nocturnal = True\n",
    "    \n",
    "#     def sleep(self):\n",
    "#         return \"Sleeps during the day\"\n",
    "        \n",
    "#     def nocturnal(self):\n",
    "#         return super().nocturnal()\n",
    "        \n",
    "tiger = Tiger('Bruce', 100)\n",
    "print(\"Body size :\", tiger.size)\n",
    "print(\"Species :\", tiger.species)\n",
    "print(\"Food type :\", tiger.food_type)\n",
    "print(tiger.eat('meat'))\n",
    "print(tiger.sleep())\n",
    "print(\"Is nocturnal :\", tiger.nocturnal)"
   ]
  },
  {
   "cell_type": "markdown",
   "metadata": {},
   "source": [
    "Great! Two more classes to go. In the cell below, create a `Raccoon()` class. This class should:\n",
    "\n",
    "* subclass `Animal` \n",
    "* have a species of `raccoon` \n",
    "* have a size of `'small'` \n",
    "* have a food type of `'omnivore'` \n",
    "* set nocturnal to `True` "
   ]
  },
  {
   "cell_type": "code",
   "execution_count": 36,
   "metadata": {},
   "outputs": [
    {
     "name": "stdout",
     "output_type": "stream",
     "text": [
      "Body size : small\n",
      "Species : raccoon\n",
      "Food type : omnivore\n",
      "Beau the raccoon thinks meat is yummy!\n",
      "Beau sleeps during the day!\n",
      "None\n",
      "Is nocturnal : True\n"
     ]
    }
   ],
   "source": [
    "class Raccoon(Animal):\n",
    "    def __init__(self, name, weight):\n",
    "        super().__init__(name, weight)\n",
    "        self.size = \"small\"\n",
    "        self.species = \"raccoon\"\n",
    "        self.food_type = \"omnivore\"\n",
    "        self.nocturnal = True\n",
    "    \n",
    "#     def sleep(self):\n",
    "#         return \"Sleeps during the day\"\n",
    "        \n",
    "#     def nocturnal(self):\n",
    "#         return super().nocturnal()\n",
    "        \n",
    "raccoon = Raccoon('Beau', 10)\n",
    "print(\"Body size :\", raccoon.size)\n",
    "print(\"Species :\", raccoon.species)\n",
    "print(\"Food type :\", raccoon.food_type)\n",
    "print(raccoon.eat('meat'))\n",
    "print(raccoon.sleep())\n",
    "print(\"Is nocturnal :\", raccoon.nocturnal)"
   ]
  },
  {
   "cell_type": "markdown",
   "metadata": {},
   "source": [
    "Finally, create a `Gorilla()` class. This class should:\n",
    "\n",
    "* subclass `Animal` \n",
    "* have a species of `gorilla` \n",
    "* have a size of `'large'` \n",
    "* have a food type of `'herbivore'` \n",
    "* set nocturnal to `False` "
   ]
  },
  {
   "cell_type": "code",
   "execution_count": 37,
   "metadata": {},
   "outputs": [
    {
     "name": "stdout",
     "output_type": "stream",
     "text": [
      "Body size : large\n",
      "Species : gorilla\n",
      "Food type : herbivore\n",
      "I don't eat this!\n",
      "JoJo sleeps during the night!\n",
      "None\n",
      "Is nocturnal : False\n"
     ]
    }
   ],
   "source": [
    "class Gorilla(Animal):\n",
    "    def __init__(self, name, weight):\n",
    "        super().__init__(name, weight)\n",
    "        self.size = \"large\"\n",
    "        self.species = \"gorilla\"\n",
    "        self.food_type = \"herbivore\"\n",
    "        self.nocturnal = False\n",
    "        \n",
    "gorilla = Gorilla('JoJo', 120)\n",
    "print(\"Body size :\", gorilla.size)\n",
    "print(\"Species :\", gorilla.species)\n",
    "print(\"Food type :\", gorilla.food_type)\n",
    "print(gorilla.eat(\"meat\"))\n",
    "print(gorilla.sleep())\n",
    "print(\"Is nocturnal :\", gorilla.nocturnal)"
   ]
  },
  {
   "cell_type": "markdown",
   "metadata": {},
   "source": [
    "## Using Our Objects\n",
    "\n",
    "Now it's time to populate the zoo! To ease the creation of animal instances, create a function `add_animal_to_zoo()`.\n",
    "\n",
    "This function should take in the following parameters:\n",
    "\n",
    "* `zoo`, an array representing the current state of the zoo \n",
    "* `animal_type`, a string.  Can be `'Gorilla'`, `'Raccoon'`, `'Tiger'`, or `'Elephant'` \n",
    "* `name`, the name of the animal being created \n",
    "* `weight`, the weight of the animal being created \n",
    "\n",
    "The function should then:\n",
    "\n",
    "* use `animal_type` to determine which object to create\n",
    "* Create an instance of that animal, passing in the `name` and `weight`\n",
    "* Append the newly created animal to `zoo`\n",
    "* Return `zoo`"
   ]
  },
  {
   "cell_type": "code",
   "execution_count": 38,
   "metadata": {},
   "outputs": [],
   "source": [
    "def add_animal_to_zoo(zoo, animal_type, name, weight):\n",
    "    \n",
    "    # Create list of animal types\n",
    "    animal_types = ['Gorilla', 'Raccoon', 'Tiger', 'Elephant']\n",
    "    \n",
    "    # Initialize an empty list\n",
    "    animal_data = []\n",
    "    \n",
    "    if animal_type in animal_types:\n",
    "        # use globals() function to instantiate a class by its name as a string\n",
    "        animal_instance = globals()[animal_type](name, weight)\n",
    "        \n",
    "        # Add animal data to animal_data list\n",
    "        animal_data.append(animal_instance)\n",
    "        animal_data.append(animal_instance.name)\n",
    "        animal_data.append(animal_instance.weight)\n",
    "        \n",
    "        # Append zoo with animal data\n",
    "        zoo.append(animal_data)\n",
    "\n",
    "    return zoo"
   ]
  },
  {
   "cell_type": "code",
   "execution_count": 44,
   "metadata": {},
   "outputs": [],
   "source": [
    "# Jennifer code\n",
    "def add_animal_to_zoo(zoo, animal_type, name, weight):\n",
    "    animal = None\n",
    "    if animal_type == 'Gorilla':\n",
    "        animal = Gorilla(name, weight)\n",
    "    elif animal_type == 'Raccoon':\n",
    "        animal = Raccoon(name, weight)\n",
    "    elif animal_type == 'Tiger':\n",
    "        animal = Tiger(name, weight)\n",
    "    else:\n",
    "        animal = Elephant(name, weight)\n",
    "    \n",
    "    zoo.append(animal)\n",
    "    \n",
    "    return zoo"
   ]
  },
  {
   "cell_type": "code",
   "execution_count": 21,
   "metadata": {},
   "outputs": [
    {
     "data": {
      "text/plain": [
       "[[<__main__.Gorilla at 0x7f15c8214f70>, 'Brandy', 120]]"
      ]
     },
     "execution_count": 21,
     "metadata": {},
     "output_type": "execute_result"
    }
   ],
   "source": [
    "zoo_data = add_animal_to_zoo([], 'Gorilla', 'Brandy', 120)\n",
    "zoo_data"
   ]
  },
  {
   "cell_type": "code",
   "execution_count": 9,
   "metadata": {},
   "outputs": [
    {
     "data": {
      "text/plain": [
       "'herbivore'"
      ]
     },
     "execution_count": 9,
     "metadata": {},
     "output_type": "execute_result"
    }
   ],
   "source": [
    "zoo_data[0][0].food_type"
   ]
  },
  {
   "cell_type": "markdown",
   "metadata": {},
   "source": [
    "Great! Now, add some animals to your zoo. \n",
    "\n",
    "Create the following animals and add them to your zoo.  The names and weights are up to you.\n",
    "\n",
    "* 2 Elephants\n",
    "* 2 Raccons\n",
    "* 1 Gorilla\n",
    "* 3 Tigers"
   ]
  },
  {
   "cell_type": "code",
   "execution_count": 39,
   "metadata": {},
   "outputs": [
    {
     "data": {
      "text/plain": [
       "[[<__main__.Elephant at 0x7f15c820b5e0>, 'Achilles', 5800],\n",
       " [<__main__.Elephant at 0x7f15c820af50>, 'Adira', 6000],\n",
       " [<__main__.Raccoon at 0x7f15c820b9a0>, 'Brandy', 6],\n",
       " [<__main__.Raccoon at 0x7f15c820bd00>, 'Flint', 8],\n",
       " [<__main__.Gorilla at 0x7f15c8209a50>, 'Pete', 160],\n",
       " [<__main__.Tiger at 0x7f15c820ae60>, 'Ninja', 90],\n",
       " [<__main__.Tiger at 0x7f15c820be20>, 'Clawdia', 70],\n",
       " [<__main__.Tiger at 0x7f15c82088e0>, 'Felice', 80]]"
      ]
     },
     "execution_count": 39,
     "metadata": {},
     "output_type": "execute_result"
    }
   ],
   "source": [
    "# Create your animals and add them to the 'zoo' in this cell!\n",
    "# 1st Elephant\n",
    "zoo = add_animal_to_zoo([], 'Elephant', 'Achilles', 5800)\n",
    "zoo = add_animal_to_zoo(zoo, 'Elephant', 'Adira', 6000)\n",
    "zoo = add_animal_to_zoo(zoo, 'Raccoon', 'Brandy', 6)\n",
    "zoo = add_animal_to_zoo(zoo, 'Raccoon', 'Flint', 8)\n",
    "zoo = add_animal_to_zoo(zoo, 'Gorilla', 'Pete', 160)\n",
    "zoo = add_animal_to_zoo(zoo, 'Tiger', 'Ninja', 90)\n",
    "zoo = add_animal_to_zoo(zoo, 'Tiger', 'Clawdia', 70)\n",
    "zoo = add_animal_to_zoo(zoo, 'Tiger', 'Felice', 80)\n",
    "\n",
    "zoo"
   ]
  },
  {
   "cell_type": "markdown",
   "metadata": {},
   "source": [
    "Great! Now that you have a populated zoo, you can do what the zookeeper hired you to do -- write a program that feeds the correct animals the right food at the right times!\n",
    "\n",
    "To do this, write a function called `feed_animals()`. This function should take in two arguments:\n",
    "\n",
    "* `zoo`, the zoo array containing all the animals\n",
    "* `time`, which can be `'Day'` or `'Night'`.  This should default to day if nothing is entered for `time` \n",
    "\n",
    "This function should:\n",
    "\n",
    "* Feed only the non-nocturnal animals if `time='Day'`, or only the nocturnal animals if `time='Night'`\n",
    "* Check the food type of each animal before feeding.  If the animal is a carnivore, feed it `'meat'`; otherwise, feed it `'plants'`. Feed the animals by using their `.eat()` method "
   ]
  },
  {
   "cell_type": "code",
   "execution_count": 40,
   "metadata": {},
   "outputs": [],
   "source": [
    "def feed_animals(zoo, time='Day'):\n",
    "    # Initialize an empty list for feeding data\n",
    "    feeding_data = [] \n",
    "    \n",
    "    for animal in zoo:\n",
    "        if time=='Day' and animal[0].nocturnal == False:\n",
    "            if animal[0].food_type == 'carnivore':\n",
    "                food = 'meat'\n",
    "\n",
    "            else:\n",
    "                food = 'plants'\n",
    "                \n",
    "            # Append feeding_data list with feeding data\n",
    "            feeding_data.append(animal[0].eat(food))\n",
    "                \n",
    "        elif time=='Night' and animal[0].nocturnal == True:\n",
    "            if animal[0].food_type == 'carnivore':\n",
    "                food = 'meat'\n",
    "\n",
    "            else:\n",
    "                food = 'plants'\n",
    "                \n",
    "            # Append feeding_data list with feeding data\n",
    "            feeding_data.append(animal[0].eat(food))\n",
    "        else:\n",
    "            \n",
    "            # Append feeding_data with instruction not to feed anything\n",
    "            feeding_data.append(f\"Do not feed {animal[0].name} with anything\")\n",
    "            \n",
    "    return feeding_data"
   ]
  },
  {
   "cell_type": "code",
   "execution_count": 51,
   "metadata": {},
   "outputs": [],
   "source": [
    "# Jennifer code\n",
    "def feed_animals(zoo, time='Day'):\n",
    "    for animal in zoo:\n",
    "        if time == 'Day':\n",
    "            if animal.nocturnal() == False:\n",
    "                if animal.food_type == 'carnivore':\n",
    "                    animal.eat('meat')\n",
    "                else:\n",
    "                    animal.eat('plants')\n",
    "        else:\n",
    "            if animal.nocturnal() == True:\n",
    "                if animal.food_type == 'carnivore':\n",
    "                    animal.eat('meat')\n",
    "                else:\n",
    "                    animal.eat('plants')\n",
    "#     return zoo"
   ]
  },
  {
   "cell_type": "markdown",
   "metadata": {},
   "source": [
    "Now, test out your program.  Call the function for a daytime feeding below."
   ]
  },
  {
   "cell_type": "code",
   "execution_count": 41,
   "metadata": {
    "scrolled": true
   },
   "outputs": [
    {
     "data": {
      "text/plain": [
       "['Achilles the elephant thinks plants is yummy!',\n",
       " 'Adira the elephant thinks plants is yummy!',\n",
       " 'Do not feed Brandy with anything',\n",
       " 'Do not feed Flint with anything',\n",
       " 'Pete the gorilla thinks plants is yummy!',\n",
       " 'Do not feed Ninja with anything',\n",
       " 'Do not feed Clawdia with anything',\n",
       " 'Do not feed Felice with anything']"
      ]
     },
     "execution_count": 41,
     "metadata": {},
     "output_type": "execute_result"
    }
   ],
   "source": [
    "feed_animals(zoo, time='Day')"
   ]
  },
  {
   "cell_type": "markdown",
   "metadata": {},
   "source": [
    "If the elephants and gorrillas were fed then things should be good!\n",
    "\n",
    "In the cell below, call `feed_animals()` again, but this time set `time='Night'`"
   ]
  },
  {
   "cell_type": "code",
   "execution_count": 42,
   "metadata": {},
   "outputs": [
    {
     "data": {
      "text/plain": [
       "['Do not feed Achilles with anything',\n",
       " 'Do not feed Adira with anything',\n",
       " 'Brandy the raccoon thinks plants is yummy!',\n",
       " 'Flint the raccoon thinks plants is yummy!',\n",
       " 'Do not feed Pete with anything',\n",
       " 'Ninja the tiger thinks meat is yummy!',\n",
       " 'Clawdia the tiger thinks meat is yummy!',\n",
       " 'Felice the tiger thinks meat is yummy!']"
      ]
     },
     "execution_count": 42,
     "metadata": {},
     "output_type": "execute_result"
    }
   ],
   "source": [
    "feed_animals(zoo, time='Night')"
   ]
  },
  {
   "cell_type": "markdown",
   "metadata": {},
   "source": [
    "That's it! You've used OOP and inheritance to build a working program to help the zookeeper feed his animals with right food at the correct times!\n",
    "\n",
    "## Summary\n",
    "\n",
    "In this lab, you modeled a zoo and learned how to use inheritance to write nonredundant code, used subclasses and superclasses, and create a domain model using OOP."
   ]
  }
 ],
 "metadata": {
  "kernelspec": {
   "display_name": "saturn (Python 3)",
   "language": "python",
   "name": "python3"
  },
  "language_info": {
   "codemirror_mode": {
    "name": "ipython",
    "version": 3
   },
   "file_extension": ".py",
   "mimetype": "text/x-python",
   "name": "python",
   "nbconvert_exporter": "python",
   "pygments_lexer": "ipython3",
   "version": "3.10.6"
  }
 },
 "nbformat": 4,
 "nbformat_minor": 2
}
