{
 "cells": [
  {
   "cell_type": "markdown",
   "metadata": {},
   "source": [
    "# Solving Systems of Linear Equations with NumPy - Lab\n",
    "\n",
    "## Introduction \n",
    "\n",
    "Now you've gathered all the required skills needed to solve systems of linear equations. You saw why there was a need to calculate inverses of matrices, followed by matrix multiplication to figure out the values of unknown variables. \n",
    "\n",
    "The exercises in this lab present some problems that can be converted into a system of linear equations. \n",
    "\n",
    "## Objectives\n",
    "You will be able to:\n",
    "\n",
    "- Use matrix algebra and NumPy to solve a system of linear equations given a real-life example \n",
    "- Use NumPy's linear algebra solver to solve for systems of linear equations\n",
    "\n",
    "## Exercise 1\n",
    "\n",
    "A coffee shop is having a sale on coffee and tea. \n",
    "\n",
    "On day 1, 29 bags of coffee and 41 bags of tea were sold, for a total of 490 dollars.\n",
    "\n",
    "On day 2, they sold 23 bags of coffee and 41 bags of tea, for which customers paid a total of 448 dollars.  \n",
    "\n",
    "How much does each bag cost?"
   ]
  },
  {
   "cell_type": "code",
   "execution_count": 2,
   "metadata": {},
   "outputs": [
    {
     "data": {
      "text/plain": [
       "array([7., 7.])"
      ]
     },
     "execution_count": 2,
     "metadata": {},
     "output_type": "execute_result"
    }
   ],
   "source": [
    "import numpy as np\n",
    "\n",
    "# Create and solve the relevant system of equations\n",
    "A = np.array([[29, 41], [23, 41]])\n",
    "B = np.array([490, 448])\n",
    "\n",
    "# Let X be the matrix representing the cost per bag.\n",
    "# X = np.array([C, T])\n",
    "# Solve for X\n",
    "X = np.linalg.solve(A, B)\n",
    "X"
   ]
  },
  {
   "cell_type": "code",
   "execution_count": 3,
   "metadata": {},
   "outputs": [
    {
     "name": "stdout",
     "output_type": "stream",
     "text": [
      " The price of coffee per bag is 7 dollars and the price of tea per bag is also 7 dollars\n",
      "\n"
     ]
    }
   ],
   "source": [
    "# Describe your result\n",
    "print(\"\"\" The price of coffee per bag is 7 dollars and the price of tea per bag is also 7 dollars\n",
    "\"\"\")"
   ]
  },
  {
   "cell_type": "markdown",
   "metadata": {},
   "source": [
    "## Exercise 2\n",
    "\n",
    "The cost of admission to a popular music concert was 162 dollars for 12 children and 3 adults. \n",
    "\n",
    "The admission was 122 dollars for 8 children and 3 adults in the same music concert. \n",
    "\n",
    "How much was the admission for each child and adult?"
   ]
  },
  {
   "cell_type": "code",
   "execution_count": 4,
   "metadata": {},
   "outputs": [
    {
     "data": {
      "text/plain": [
       "array([10., 14.])"
      ]
     },
     "execution_count": 4,
     "metadata": {},
     "output_type": "execute_result"
    }
   ],
   "source": [
    "# Create and solve the relevant system of equations\n",
    "# Create and solve the relevant system of equations\n",
    "A = np.array([[12, 3], [8, 3]])\n",
    "B = np.array([162, 122])\n",
    "# Let X be the matrix representing the cost per child and per adult.\n",
    "# X = np.array([C, A])\n",
    "# Solve for X\n",
    "X = np.linalg.solve(A, B)\n",
    "X"
   ]
  },
  {
   "cell_type": "code",
   "execution_count": 5,
   "metadata": {},
   "outputs": [
    {
     "name": "stdout",
     "output_type": "stream",
     "text": [
      " The admission cost is 10 dollars for a child and 14 dollars for an adult.\n",
      "\n"
     ]
    }
   ],
   "source": [
    "# Describe your result\n",
    "print(\"\"\" The admission cost is 10 dollars for a child and 14 dollars for an adult.\n",
    "\"\"\")"
   ]
  },
  {
   "cell_type": "markdown",
   "metadata": {},
   "source": [
    "## Exercise 3\n",
    "\n",
    "You want to make a soup containing tomatoes, carrots, and onions.\n",
    "\n",
    "Suppose you don't know the exact mix to put in, but you know there are 7 individual pieces of vegetables, and there are twice as many tomatoes as onions, and that the 7 pieces of vegetables cost 5.25 USD in total. \n",
    "You also know that onions cost 0.5 USD each, tomatoes cost 0.75 USD and carrots cost 1.25 USD each.\n",
    "\n",
    "Create a system of equations to find out exactly how many of each of the vegetables are in your soup."
   ]
  },
  {
   "cell_type": "code",
   "execution_count": 17,
   "metadata": {},
   "outputs": [
    {
     "name": "stdout",
     "output_type": "stream",
     "text": [
      "Number of onions = 2\n",
      "Number of carrots = 1\n",
      "Number of tomatoes = 4\n"
     ]
    }
   ],
   "source": [
    "# Define variables for the number of each vegetable\n",
    "# Let x=number of onions, y=number of carrots, and 2x=number of tomatoes\n",
    "\n",
    "# Create an equation for the total cost of vegetables\n",
    "# (2x * 0.75) + (y * 1.25) + (x * 0.5) = 5.25\n",
    "# 1.5x + 1.25y + 0.5x = 5.25\n",
    "# 2x + 1.25y = 5.25  --(Eqn_1)\n",
    "\n",
    "# Create an equation for the total number of vegetables\n",
    "# 2x + y + x = 7\n",
    "# 3x + y = 7  --(Eqn_2)\n",
    "\n",
    "# Create and solve a system of linear equations\n",
    "A = np.array([[2, 1.25], [3, 1]])\n",
    "B = np.array([5.25, 7])\n",
    "\n",
    "# Let X be the matrix representing the number of onions and carrots.\n",
    "# X = np.array([x, y])\n",
    "# Solve for X\n",
    "X = np.linalg.solve(A, B)\n",
    "\n",
    "print(\"Number of onions =\", round(X[0]))\n",
    "print(\"Number of carrots =\", round(X[1]))\n",
    "print(\"Number of tomatoes =\", round(2 * X[0]))"
   ]
  },
  {
   "cell_type": "code",
   "execution_count": 8,
   "metadata": {},
   "outputs": [
    {
     "name": "stdout",
     "output_type": "stream",
     "text": [
      " The recipe has 4 tomatoes, 1 carrot, and 2 onions.\n",
      "\n"
     ]
    }
   ],
   "source": [
    "# Describe your result\n",
    "print(\"\"\" The recipe has 4 tomatoes, 1 carrot, and 2 onions.\n",
    "\"\"\")"
   ]
  },
  {
   "cell_type": "markdown",
   "metadata": {},
   "source": [
    "## Exercise 4\n",
    "\n",
    "A landlord owns 3 properties: a 1-bedroom, a 2-bedroom, and a 3-bedroom house. \n",
    "\n",
    "The total rent he receives is 1240 USD. \n",
    "\n",
    "He needs to make some repairs, where those repairs cost 10% of the 1-bedroom house’s rent. The 2-bedroom repairs cost 20% of the 2-bedroom rental price and 30% of the 3-bedroom house's rent for its repairs.  The total repair bill for all three houses was 276 USD. \n",
    "\n",
    "The 3-bedroom house's rent is twice the 1-bedroom house’s rent. \n",
    "\n",
    "How much is the individual rent for three houses?"
   ]
  },
  {
   "cell_type": "code",
   "execution_count": 3,
   "metadata": {
    "scrolled": true
   },
   "outputs": [
    {
     "name": "stdout",
     "output_type": "stream",
     "text": [
      "Rent for 1-bedroom house = 280.0\n",
      "Rent for 2-bedroom house = 400.0\n",
      "Rent for 3-bedroom house = 560.0\n"
     ]
    }
   ],
   "source": [
    "# Define variables for the rent for each house\n",
    "# Let x=rent for 1-bedroom house, y=rent for 2-bedroom house, and 2x=rent for 3-bedroom house\n",
    "\n",
    "# Create an equation for the total cost of repair\n",
    "# (x * 0.1) + (y * 0.2) + (2x * 0.3) = 276\n",
    "# 0.1x + 0.2y + 0.6x = 276 \n",
    "# 0.7x + 0.2y = 276   \n",
    "# Multiply both sides by 5\n",
    "# 3.5x + y = 1,380  --(Eqn_1)\n",
    "\n",
    "# Create an equation for the total rent\n",
    "# x + y + 2x = 1,240\n",
    "# 3x + y = 1,240  --(Eqn_2)\n",
    "\n",
    "# Create and solve a system of linear equations\n",
    "A = np.array([[3.5, 1], [3, 1]])\n",
    "B = np.array([1380, 1240])\n",
    "\n",
    "# Let X be the matrix representing the rent for each of the different houses\n",
    "# X = np.array([x, y])\n",
    "# Solve for X\n",
    "X = np.linalg.solve(A, B)\n",
    "\n",
    "print(\"Rent for 1-bedroom house =\", round(X[0], 0))\n",
    "print(\"Rent for 2-bedroom house =\", round(X[1], 0))\n",
    "print(\"Rent for 3-bedroom house =\", round(2 * X[0], 0))"
   ]
  },
  {
   "cell_type": "code",
   "execution_count": 5,
   "metadata": {},
   "outputs": [
    {
     "data": {
      "text/plain": [
       "279.9999999999999"
      ]
     },
     "execution_count": 5,
     "metadata": {},
     "output_type": "execute_result"
    }
   ],
   "source": [
    "X[0]"
   ]
  },
  {
   "cell_type": "code",
   "execution_count": 18,
   "metadata": {},
   "outputs": [
    {
     "name": "stdout",
     "output_type": "stream",
     "text": [
      " The rent for 1-bedroom house is $280.0, rent for 2-bedroom house is $400.0, \n",
      "while that of rent for 3-bedroom house is $560.0\n",
      "\n"
     ]
    }
   ],
   "source": [
    "# Describe your result\n",
    "print(\"\"\" The rent for 1-bedroom house is $280.0, rent for 2-bedroom house is $400.0, \n",
    "while that of a for 3-bedroom house is $560.0\n",
    "\"\"\")"
   ]
  },
  {
   "cell_type": "markdown",
   "metadata": {},
   "source": [
    "## Summary\n",
    "In this lab, you learned how to use NumPy to solve linear equations by taking inverses and matrix multiplication and also using numpy's `solve()` function. You'll now take these skills forward and see how you can define a simple regression problem using linear algebra and solve it with Numpy. "
   ]
  }
 ],
 "metadata": {
  "kernelspec": {
   "display_name": "saturn (Python 3)",
   "language": "python",
   "name": "python3"
  },
  "language_info": {
   "codemirror_mode": {
    "name": "ipython",
    "version": 3
   },
   "file_extension": ".py",
   "mimetype": "text/x-python",
   "name": "python",
   "nbconvert_exporter": "python",
   "pygments_lexer": "ipython3",
   "version": "3.10.6"
  }
 },
 "nbformat": 4,
 "nbformat_minor": 2
}
