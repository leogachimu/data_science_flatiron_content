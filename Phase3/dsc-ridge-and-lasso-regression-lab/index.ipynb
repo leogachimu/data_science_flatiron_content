{
 "cells": [
  {
   "cell_type": "markdown",
   "metadata": {},
   "source": [
    "# Ridge and Lasso Regression - Lab"
   ]
  },
  {
   "cell_type": "markdown",
   "metadata": {},
   "source": [
    "## Introduction"
   ]
  },
  {
   "cell_type": "markdown",
   "metadata": {},
   "source": [
    "In this lab, you'll practice your knowledge of ridge and lasso regression!"
   ]
  },
  {
   "cell_type": "markdown",
   "metadata": {},
   "source": [
    "## Objectives"
   ]
  },
  {
   "cell_type": "markdown",
   "metadata": {},
   "source": [
    "In this lab you will: \n",
    "\n",
    "- Use lasso and ridge regression with scikit-learn \n",
    "- Compare and contrast lasso, ridge and non-regularized regression "
   ]
  },
  {
   "cell_type": "markdown",
   "metadata": {},
   "source": [
    "## Housing Prices Data"
   ]
  },
  {
   "cell_type": "markdown",
   "metadata": {},
   "source": [
    "We'll use this version of the Ames Housing dataset: "
   ]
  },
  {
   "cell_type": "code",
   "execution_count": 1,
   "metadata": {},
   "outputs": [
    {
     "name": "stdout",
     "output_type": "stream",
     "text": [
      "<class 'pandas.core.frame.DataFrame'>\n",
      "Int64Index: 1460 entries, 1 to 1460\n",
      "Data columns (total 80 columns):\n",
      " #   Column         Non-Null Count  Dtype  \n",
      "---  ------         --------------  -----  \n",
      " 0   MSSubClass     1460 non-null   int64  \n",
      " 1   MSZoning       1460 non-null   object \n",
      " 2   LotFrontage    1201 non-null   float64\n",
      " 3   LotArea        1460 non-null   int64  \n",
      " 4   Street         1460 non-null   object \n",
      " 5   Alley          91 non-null     object \n",
      " 6   LotShape       1460 non-null   object \n",
      " 7   LandContour    1460 non-null   object \n",
      " 8   Utilities      1460 non-null   object \n",
      " 9   LotConfig      1460 non-null   object \n",
      " 10  LandSlope      1460 non-null   object \n",
      " 11  Neighborhood   1460 non-null   object \n",
      " 12  Condition1     1460 non-null   object \n",
      " 13  Condition2     1460 non-null   object \n",
      " 14  BldgType       1460 non-null   object \n",
      " 15  HouseStyle     1460 non-null   object \n",
      " 16  OverallQual    1460 non-null   int64  \n",
      " 17  OverallCond    1460 non-null   int64  \n",
      " 18  YearBuilt      1460 non-null   int64  \n",
      " 19  YearRemodAdd   1460 non-null   int64  \n",
      " 20  RoofStyle      1460 non-null   object \n",
      " 21  RoofMatl       1460 non-null   object \n",
      " 22  Exterior1st    1460 non-null   object \n",
      " 23  Exterior2nd    1460 non-null   object \n",
      " 24  MasVnrType     1452 non-null   object \n",
      " 25  MasVnrArea     1452 non-null   float64\n",
      " 26  ExterQual      1460 non-null   object \n",
      " 27  ExterCond      1460 non-null   object \n",
      " 28  Foundation     1460 non-null   object \n",
      " 29  BsmtQual       1423 non-null   object \n",
      " 30  BsmtCond       1423 non-null   object \n",
      " 31  BsmtExposure   1422 non-null   object \n",
      " 32  BsmtFinType1   1423 non-null   object \n",
      " 33  BsmtFinSF1     1460 non-null   int64  \n",
      " 34  BsmtFinType2   1422 non-null   object \n",
      " 35  BsmtFinSF2     1460 non-null   int64  \n",
      " 36  BsmtUnfSF      1460 non-null   int64  \n",
      " 37  TotalBsmtSF    1460 non-null   int64  \n",
      " 38  Heating        1460 non-null   object \n",
      " 39  HeatingQC      1460 non-null   object \n",
      " 40  CentralAir     1460 non-null   object \n",
      " 41  Electrical     1459 non-null   object \n",
      " 42  1stFlrSF       1460 non-null   int64  \n",
      " 43  2ndFlrSF       1460 non-null   int64  \n",
      " 44  LowQualFinSF   1460 non-null   int64  \n",
      " 45  GrLivArea      1460 non-null   int64  \n",
      " 46  BsmtFullBath   1460 non-null   int64  \n",
      " 47  BsmtHalfBath   1460 non-null   int64  \n",
      " 48  FullBath       1460 non-null   int64  \n",
      " 49  HalfBath       1460 non-null   int64  \n",
      " 50  BedroomAbvGr   1460 non-null   int64  \n",
      " 51  KitchenAbvGr   1460 non-null   int64  \n",
      " 52  KitchenQual    1460 non-null   object \n",
      " 53  TotRmsAbvGrd   1460 non-null   int64  \n",
      " 54  Functional     1460 non-null   object \n",
      " 55  Fireplaces     1460 non-null   int64  \n",
      " 56  FireplaceQu    770 non-null    object \n",
      " 57  GarageType     1379 non-null   object \n",
      " 58  GarageYrBlt    1379 non-null   float64\n",
      " 59  GarageFinish   1379 non-null   object \n",
      " 60  GarageCars     1460 non-null   int64  \n",
      " 61  GarageArea     1460 non-null   int64  \n",
      " 62  GarageQual     1379 non-null   object \n",
      " 63  GarageCond     1379 non-null   object \n",
      " 64  PavedDrive     1460 non-null   object \n",
      " 65  WoodDeckSF     1460 non-null   int64  \n",
      " 66  OpenPorchSF    1460 non-null   int64  \n",
      " 67  EnclosedPorch  1460 non-null   int64  \n",
      " 68  3SsnPorch      1460 non-null   int64  \n",
      " 69  ScreenPorch    1460 non-null   int64  \n",
      " 70  PoolArea       1460 non-null   int64  \n",
      " 71  PoolQC         7 non-null      object \n",
      " 72  Fence          281 non-null    object \n",
      " 73  MiscFeature    54 non-null     object \n",
      " 74  MiscVal        1460 non-null   int64  \n",
      " 75  MoSold         1460 non-null   int64  \n",
      " 76  YrSold         1460 non-null   int64  \n",
      " 77  SaleType       1460 non-null   object \n",
      " 78  SaleCondition  1460 non-null   object \n",
      " 79  SalePrice      1460 non-null   int64  \n",
      "dtypes: float64(3), int64(34), object(43)\n",
      "memory usage: 923.9+ KB\n"
     ]
    }
   ],
   "source": [
    "# Run this cell without changes\n",
    "import pandas as pd\n",
    "import warnings\n",
    "warnings.filterwarnings('ignore')\n",
    "df = pd.read_csv('housing_prices.csv', index_col=0)\n",
    "df.info()"
   ]
  },
  {
   "cell_type": "markdown",
   "metadata": {},
   "source": [
    "More information about the features is available in the `data_description.txt` file in this repository."
   ]
  },
  {
   "cell_type": "markdown",
   "metadata": {},
   "source": [
    "## Data Preparation\n",
    "\n",
    "The code below:\n",
    "\n",
    "* Separates the data into `X` (predictor) and `y` (target) variables\n",
    "* Splits the data into 75-25 training-test sets, with a `random_state` of 10\n",
    "* Separates each of the `X` values into continuous vs. categorical features\n",
    "* Fills in missing values (using different strategies for continuous vs. categorical features)\n",
    "* Scales continuous features to a range of 0 to 1\n",
    "* Dummy encodes categorical features\n",
    "* Combines the preprocessed continuous and categorical features back together"
   ]
  },
  {
   "cell_type": "code",
   "execution_count": 2,
   "metadata": {},
   "outputs": [],
   "source": [
    "# Run this cell without changes\n",
    "import numpy as np\n",
    "from sklearn.impute import SimpleImputer\n",
    "from sklearn.model_selection import train_test_split\n",
    "from sklearn.preprocessing import MinMaxScaler, OneHotEncoder\n",
    "\n",
    "# Create X and y\n",
    "y = df['SalePrice']\n",
    "X = df.drop(columns=['SalePrice'])\n",
    "\n",
    "# Split data into training and test sets\n",
    "X_train, X_test, y_train, y_test = train_test_split(X, y, random_state=10)\n",
    "\n",
    "# Separate X data into continuous vs. categorical\n",
    "X_train_cont = X_train.select_dtypes(include='number')\n",
    "X_test_cont = X_test.select_dtypes(include='number')\n",
    "X_train_cat = X_train.select_dtypes(exclude='number')\n",
    "X_test_cat = X_test.select_dtypes(exclude='number')\n",
    "\n",
    "# Impute missing values using SimpleImputer, median for continuous and\n",
    "# filling in 'missing' for categorical\n",
    "impute_cont = SimpleImputer(strategy='median')\n",
    "X_train_cont = impute_cont.fit_transform(X_train_cont)\n",
    "X_test_cont = impute_cont.transform(X_test_cont)\n",
    "impute_cat = SimpleImputer(strategy='constant', fill_value='missing')\n",
    "X_train_cat = impute_cat.fit_transform(X_train_cat)\n",
    "X_test_cat = impute_cat.transform(X_test_cat)\n",
    "\n",
    "# Scale continuous values using MinMaxScaler\n",
    "scaler = MinMaxScaler()\n",
    "X_train_cont = scaler.fit_transform(X_train_cont)\n",
    "X_test_cont = scaler.transform(X_test_cont)\n",
    "\n",
    "# Dummy encode categorical values using OneHotEncoder\n",
    "ohe = OneHotEncoder(handle_unknown='ignore')\n",
    "X_train_cat = ohe.fit_transform(X_train_cat)\n",
    "X_test_cat = ohe.transform(X_test_cat)\n",
    "\n",
    "# Combine everything back together\n",
    "X_train_preprocessed = np.concatenate([X_train_cont, X_train_cat.todense()], axis=1)\n",
    "X_test_preprocessed = np.concatenate([X_test_cont, X_test_cat.todense()], axis=1)"
   ]
  },
  {
   "cell_type": "markdown",
   "metadata": {},
   "source": [
    "## Linear Regression Model\n",
    "\n",
    "Let's use this data to build a first naive linear regression model. Fit the model on the training data (`X_train_preprocessed`), then compute the R-Squared and the MSE for both the training and test sets."
   ]
  },
  {
   "cell_type": "code",
   "execution_count": 3,
   "metadata": {},
   "outputs": [
    {
     "name": "stdout",
     "output_type": "stream",
     "text": [
      "Train MSE : 402638134.24292237\n",
      "Train R2 : 0.9358960546869315\n",
      "Test MSE : 7.611310826413451e+28\n",
      "Test R2 : -1.1929608147641192e+19\n"
     ]
    }
   ],
   "source": [
    "# Replace None with appropriate code\n",
    "from sklearn.metrics import mean_squared_error, r2_score\n",
    "from sklearn.linear_model import LinearRegression\n",
    "\n",
    "# Fit the model\n",
    "linreg = LinearRegression().fit(X_train_preprocessed, y_train)\n",
    "\n",
    "# Print R2 and MSE for training and test sets\n",
    "print(\"Train MSE :\", mean_squared_error(y_train, linreg.predict(X_train_preprocessed)))\n",
    "print(\"Train R2 :\", r2_score(y_train, linreg.predict(X_train_preprocessed)))\n",
    "print(\"Test MSE :\", mean_squared_error(y_test, linreg.predict(X_test_preprocessed)))\n",
    "print(\"Test R2 :\", r2_score(y_test, linreg.predict(X_test_preprocessed)))"
   ]
  },
  {
   "cell_type": "markdown",
   "metadata": {},
   "source": [
    "Notice the severe overfitting above; our training R-Squared is very high, but the test R-Squared is negative! Similarly, the scale of the test MSE is orders of magnitude higher than that of the training MSE."
   ]
  },
  {
   "cell_type": "markdown",
   "metadata": {},
   "source": [
    "## Ridge and Lasso Regression"
   ]
  },
  {
   "cell_type": "markdown",
   "metadata": {},
   "source": [
    "Use all the data (scaled features and dummy categorical variables, `X_train_preprocessed`) to build some models with regularization - two each for lasso and ridge regression. Each time, look at R-Squared and MSE.\n",
    "\n",
    "Remember that you can use the scikit-learn documentation if you don't remember how to import or use these classes:\n",
    "\n",
    "* [`Lasso` documentation](https://scikit-learn.org/stable/modules/generated/sklearn.linear_model.Lasso.html)\n",
    "* [`Ridge` documentation](https://scikit-learn.org/stable/modules/generated/sklearn.linear_model.ridge_10.html)"
   ]
  },
  {
   "cell_type": "markdown",
   "metadata": {},
   "source": [
    "### Lasso"
   ]
  },
  {
   "cell_type": "markdown",
   "metadata": {},
   "source": [
    "#### With default hyperparameters (`alpha` = 1)"
   ]
  },
  {
   "cell_type": "code",
   "execution_count": 6,
   "metadata": {},
   "outputs": [
    {
     "name": "stdout",
     "output_type": "stream",
     "text": [
      "Train MSE for lasso_1 Model (alpha=1) : 403034248.99402547\n",
      "Train R2 for lasso_1 Model (alpha=1) : 0.935832989328281\n",
      "Test MSE for lasso_1 Model (alpha=1) : 705253190.6574919\n",
      "Test R2 for lasso_1 Model (alpha=1) : 0.8894619546974661\n"
     ]
    }
   ],
   "source": [
    "# Import lasso and ridge_10 \n",
    "from sklearn.linear_model import Lasso, Ridge\n",
    "\n",
    "# Set penalty term=1\n",
    "lasso_1 = Lasso(alpha=1)\n",
    "\n",
    "# Fit a lasso_1 regression model on the preprocessed train set\n",
    "lasso_1.fit(X_train_preprocessed, y_train)\n",
    "\n",
    "# Perform predictions on both train and test sets\n",
    "y_h_lasso_1_train = lasso_1.predict(X_train_preprocessed)\n",
    "y_h_lasso_1_test = lasso_1.predict(X_test_preprocessed)\n",
    "\n",
    "# Print R2 and MSE for training and test sets\n",
    "print(\"Train MSE for lasso_1 Model (alpha=1) :\", mean_squared_error(y_train, y_h_lasso_1_train))\n",
    "print(\"Train R2 for lasso_1 Model (alpha=1) :\", r2_score(y_train, y_h_lasso_1_train))\n",
    "print(\"Test MSE for lasso_1 Model (alpha=1) :\", mean_squared_error(y_test, y_h_lasso_1_test))\n",
    "print(\"Test R2 for lasso_1 Model (alpha=1) :\", r2_score(y_test, y_h_lasso_1_test))"
   ]
  },
  {
   "cell_type": "markdown",
   "metadata": {},
   "source": [
    "#### With a higher regularization hyperparameter (`alpha` = 10)"
   ]
  },
  {
   "cell_type": "code",
   "execution_count": 25,
   "metadata": {},
   "outputs": [
    {
     "name": "stdout",
     "output_type": "stream",
     "text": [
      "Train MSE for lasso_10 Model (alpha=10) : 414050057.74267846\n",
      "Train R2 for lasso_10 Model (alpha=10) : 0.9340791643883491\n",
      "Test MSE for lasso_10 Model (alpha=10) : 650267885.8547707\n",
      "Test R2 for lasso_10 Model (alpha=10) : 0.8980800909835147\n"
     ]
    }
   ],
   "source": [
    "# Set penalty term=10\n",
    "lasso_10 = Lasso(alpha=10)\n",
    "\n",
    "# Fit a lasso_10 regression model on the preprocessed train set\n",
    "lasso_10.fit(X_train_preprocessed, y_train)\n",
    "\n",
    "# Perform predictions on both train and test sets\n",
    "y_h_lasso_10_train = lasso_10.predict(X_train_preprocessed)\n",
    "y_h_lasso_10_test = lasso_10.predict(X_test_preprocessed)\n",
    "\n",
    "# Print R2 and MSE for training and test sets\n",
    "print(\"Train MSE for lasso_10 Model (alpha=10) :\", mean_squared_error(y_train, y_h_lasso_10_train))\n",
    "print(\"Train R2 for lasso_10 Model (alpha=10) :\", r2_score(y_train, y_h_lasso_10_train))\n",
    "print(\"Test MSE for lasso_10 Model (alpha=10) :\", mean_squared_error(y_test, y_h_lasso_10_test))\n",
    "print(\"Test R2 for lasso_10 Model (alpha=10) :\", r2_score(y_test, y_h_lasso_10_test))"
   ]
  },
  {
   "cell_type": "markdown",
   "metadata": {},
   "source": [
    "## ridge_10"
   ]
  },
  {
   "cell_type": "markdown",
   "metadata": {},
   "source": [
    "#### With default hyperparameters (`alpha` = 1)"
   ]
  },
  {
   "cell_type": "code",
   "execution_count": 26,
   "metadata": {},
   "outputs": [
    {
     "name": "stdout",
     "output_type": "stream",
     "text": [
      "Train MSE for ridge_1 Model (alpha=1) : 497431636.9366223\n",
      "Train R2 for ridge_1 Model (alpha=1) : 0.920803998083458\n",
      "Test MSE for ridge_1 Model (alpha=1) : 725046555.2898793\n",
      "Test R2 for ridge_1 Model (alpha=1) : 0.8863596364585588\n"
     ]
    }
   ],
   "source": [
    "# Set penalty term=1\n",
    "ridge_10_1 = ridge_10(alpha=1)\n",
    "\n",
    "# Fit a Lasso regression model on the preprocessed train set\n",
    "ridge_10_1.fit(X_train_preprocessed, y_train)\n",
    "\n",
    "# Perform predictions on both train and test sets\n",
    "y_h_ridge_10_1_train = ridge_10_1.predict(X_train_preprocessed)\n",
    "y_h_ridge_10_1_test = ridge_10_1.predict(X_test_preprocessed)\n",
    "\n",
    "# Print R2 and MSE for training and test sets\n",
    "print(\"Train MSE for ridge_10_1 Model (alpha=1) :\", mean_squared_error(y_train, y_h_ridge_10_1_train))\n",
    "print(\"Train R2 for ridge_10_1 Model (alpha=1) :\", r2_score(y_train, y_h_ridge_10_1_train))\n",
    "print(\"Test MSE for ridge_10_1 Model (alpha=1) :\", mean_squared_error(y_test, y_h_ridge_10_1_test))\n",
    "print(\"Test R2 for ridge_10_1 Model (alpha=1) :\", r2_score(y_test, y_h_ridge_10_1_test))"
   ]
  },
  {
   "cell_type": "markdown",
   "metadata": {},
   "source": [
    "#### With higher regularization hyperparameter (`alpha` = 10)"
   ]
  },
  {
   "cell_type": "code",
   "execution_count": 7,
   "metadata": {},
   "outputs": [
    {
     "name": "stdout",
     "output_type": "stream",
     "text": [
      "Train MSE for ridge_10 Model (alpha=10) : 697499474.5470241\n",
      "Train R2 for ridge_10 Model (alpha=10) : 0.8889512334535103\n",
      "Test MSE for ridge_10 Model (alpha=10) : 768855818.6047639\n",
      "Test R2 for ridge_10 Model (alpha=10) : 0.8794931799899864\n"
     ]
    }
   ],
   "source": [
    "# Set penalty term=10\n",
    "ridge_10 = Ridge(alpha=10)\n",
    "\n",
    "# Fit a Lasso regression model on the preprocessed train set\n",
    "ridge_10.fit(X_train_preprocessed, y_train)\n",
    "\n",
    "# Perform predictions on both train and test sets\n",
    "y_h_ridge_10_train = ridge_10.predict(X_train_preprocessed)\n",
    "y_h_ridge_10_test = ridge_10.predict(X_test_preprocessed)\n",
    "\n",
    "# Print R2 and MSE for training and test sets\n",
    "print(\"Train MSE for ridge_10 Model (alpha=10) :\", mean_squared_error(y_train, y_h_ridge_10_train))\n",
    "print(\"Train R2 for ridge_10 Model (alpha=10) :\", r2_score(y_train, y_h_ridge_10_train))\n",
    "print(\"Test MSE for ridge_10 Model (alpha=10) :\", mean_squared_error(y_test, y_h_ridge_10_test))\n",
    "print(\"Test R2 for ridge_10 Model (alpha=10) :\", r2_score(y_test, y_h_ridge_10_test))"
   ]
  },
  {
   "cell_type": "markdown",
   "metadata": {},
   "source": [
    "## Comparing the Metrics    \n",
    "\n",
    "Which model seems best, based on the metrics?"
   ]
  },
  {
   "cell_type": "code",
   "execution_count": 51,
   "metadata": {},
   "outputs": [
    {
     "name": "stdout",
     "output_type": "stream",
     "text": [
      "The Lasso regression model at alpha=10 has the best combined results of MSE and R-squared values.\n",
      "It's test MSE of about 650267885 is the lowest of all models, having risen from about 414050057 in the train set.\n",
      "It's test R-squared value of about 0.898 is the highest of all models, having slightly dropped from about 0.934 \n",
      "in the train set.\n",
      "I therefore, choose it as the best regression model for the data.\n",
      " \n"
     ]
    }
   ],
   "source": [
    "# Write your conclusions here:\n",
    "print(\"\"\"The Lasso regression model at alpha=10 has the best combined results of MSE and R-squared values.\n",
    "It's test MSE of about 650267885 is the lowest of all models, having risen from about 414050057 in the train set.\n",
    "It's test R-squared value of about 0.898 is the highest of all models, having slightly dropped from about 0.934 \n",
    "in the train set.\n",
    "I therefore, choose it as the best regression model for the data.\n",
    " \"\"\")\n"
   ]
  },
  {
   "cell_type": "markdown",
   "metadata": {},
   "source": [
    "<details>\n",
    "    <summary style=\"cursor: pointer\"><b>Answer (click to reveal)</b></summary>\n",
    "\n",
    "In terms of both R-Squared and MSE, the `Lasso` model with `alpha`=10 has the best metric results.\n",
    "\n",
    "(Remember that better R-Squared is higher, whereas better MSE is lower.)\n",
    "\n",
    "</details>"
   ]
  },
  {
   "cell_type": "markdown",
   "metadata": {},
   "source": [
    "## Comparing the Parameters\n",
    "\n",
    "Compare the number of parameter estimates that are (very close to) 0 for the `Ridge` and `Lasso` models with `alpha`=10.\n",
    "\n",
    "Use 10**(-10) as an estimate that is very close to 0. "
   ]
  },
  {
   "cell_type": "code",
   "execution_count": null,
   "metadata": {},
   "outputs": [],
   "source": [
    "# Number of ridge_10 params almost zero\n",
    "print('Zeroed-out ridge params:', sum(abs(ridge_10.coef_) < 10**(-10)),\n",
    "     'out of', len(ridge_10.coef_))"
   ]
  },
  {
   "cell_type": "code",
   "execution_count": null,
   "metadata": {},
   "outputs": [],
   "source": [
    "# Number of Lasso_10 params almost zero\n",
    "print('Zeroed-out lasso params:', sum(abs(lasso_10.coef_) < 10**(-10)),\n",
    "     'out of', len(lasso_10.coef_))"
   ]
  },
  {
   "cell_type": "code",
   "execution_count": 46,
   "metadata": {},
   "outputs": [
    {
     "name": "stdout",
     "output_type": "stream",
     "text": [
      "ridge_10 parameters with close to zero coefficients: 0\n",
      "ridge_10 parameters with non-ero coefficients: 295\n"
     ]
    }
   ],
   "source": [
    "# Number of ridge_10 params almost zero\n",
    "print(\"ridge_10 parameters with close to zero coefficients:\", len(ridge_10.coef_[ridge_10.coef_ == (10**(-10))]))\n",
    "print(\"ridge_10 parameters with non-ero coefficients:\", len(ridge_10.coef_[ridge_10.coef_ != (10**(-10))]))"
   ]
  },
  {
   "cell_type": "code",
   "execution_count": 59,
   "metadata": {},
   "outputs": [
    {
     "name": "stdout",
     "output_type": "stream",
     "text": [
      "lasso_10 parameter with close to zero coefficients: 81\n",
      "lasso_10 parameter with close to zero coefficients: 214\n"
     ]
    }
   ],
   "source": [
    "# Number of Lasso_10 params almost zero\n",
    "print('lasso_10 parameter with close to zero coefficients:', len(lasso_10.coef_[lasso_10.coef_ == 0]))\n",
    "print('lasso_10 parameter with close to zero coefficients:', len(lasso_10.coef_[lasso_10.coef_ != 0]))"
   ]
  },
  {
   "cell_type": "code",
   "execution_count": 6,
   "metadata": {},
   "outputs": [
    {
     "name": "stdout",
     "output_type": "stream",
     "text": [
      "The Lasso model has zeroed out 81 out of 295 parameter coefficients while the ridge model has \n",
      "not zeroed out any parameter coefficient. \n",
      "\n",
      "The shrinkage and selection of paramater effects could explain the better performance of the Lasso model.\n"
     ]
    }
   ],
   "source": [
    "# Compare and interpret these results\n",
    "print(\"\"\"The Lasso model has zeroed out 81 out of 295 parameter coefficients while the ridge model has \n",
    "not zeroed out any parameter coefficient. \n",
    "\n",
    "The shrinkage and selection of paramater effects could explain the better performance of the Lasso model.\"\"\")"
   ]
  },
  {
   "cell_type": "markdown",
   "metadata": {},
   "source": [
    "<details>\n",
    "    <summary style=\"cursor: pointer\"><b>Answer (click to reveal)</b></summary>\n",
    "\n",
    "The ridge_10 model did not penalize any coefficients to 0, while the lasso model removed about 1/4 of the coefficients. The lasso model essentially performed variable selection for us, and got the best metrics as a result!\n",
    "\n",
    "</details>"
   ]
  },
  {
   "cell_type": "markdown",
   "metadata": {},
   "source": [
    "## Finding an Optimal Alpha\n",
    "\n",
    "Earlier we tested two values of `alpha` to see how it affected our MSE and the value of our coefficients. We could continue to guess values of `alpha` for our ridge or lasso regression one at a time to see which values minimize our loss, or we can test a range of values and pick the alpha which minimizes our MSE. Here is an example of how we would do this:  "
   ]
  },
  {
   "cell_type": "code",
   "execution_count": 52,
   "metadata": {},
   "outputs": [
    {
     "name": "stdout",
     "output_type": "stream",
     "text": [
      "Optimal Alpha Value: 28\n"
     ]
    },
    {
     "data": {
      "image/png": "[encoded data removed]",
      "text/plain": [
       "<Figure size 640x480 with 1 Axes>"
      ]
     },
     "metadata": {},
     "output_type": "display_data"
    }
   ],
   "source": [
    "# Run this cell without changes\n",
    "import matplotlib.pyplot as plt\n",
    "%matplotlib inline\n",
    "\n",
    "train_mse = []\n",
    "test_mse = []\n",
    "alphas = np.linspace(0, 200, num=50)\n",
    "\n",
    "for alpha in alphas:\n",
    "    lasso = Lasso(alpha=alpha)\n",
    "    lasso.fit(X_train_preprocessed, y_train)\n",
    "    \n",
    "    train_preds = lasso.predict(X_train_preprocessed)\n",
    "    train_mse.append(mean_squared_error(y_train, train_preds))\n",
    "    \n",
    "    test_preds = lasso.predict(X_test_preprocessed)\n",
    "    test_mse.append(mean_squared_error(y_test, test_preds))\n",
    "\n",
    "fig, ax = plt.subplots()\n",
    "ax.plot(alphas, train_mse, label='Train')\n",
    "ax.plot(alphas, test_mse, label='Test')\n",
    "ax.set_xlabel('alpha')\n",
    "ax.set_ylabel('MSE')\n",
    "\n",
    "# np.argmin() returns the index of the minimum value in a list\n",
    "optimal_alpha = alphas[np.argmin(test_mse)]\n",
    "\n",
    "# Add a vertical line where the test MSE is minimized\n",
    "ax.axvline(optimal_alpha, color='black', linestyle='--')\n",
    "ax.legend();\n",
    "\n",
    "print(f'Optimal Alpha Value: {int(optimal_alpha)}')"
   ]
  },
  {
   "cell_type": "markdown",
   "metadata": {},
   "source": [
    "Take a look at this graph of our training and test MSE against `alpha`. Try to explain to yourself why the shapes of the training and test curves are this way. Make sure to think about what `alpha` represents and how it relates to overfitting vs underfitting.\n",
    "\n",
    "---\n",
    "\n",
    "<details>\n",
    "    <summary style=\"cursor: pointer\"><b>Answer (click to reveal)</b></summary>\n",
    "\n",
    "For `alpha` values below 28, the model is overfitting. As `alpha` increases up to 28, the MSE for the training data increases and MSE for the test data decreases, indicating that we are reducing overfitting.\n",
    "\n",
    "For `alpha` values above 28, the model is starting to underfit. You can tell because _both_ the train and the test MSE values are increasing.\n",
    "\n",
    "</details>"
   ]
  },
  {
   "cell_type": "markdown",
   "metadata": {},
   "source": [
    "## Summary\n",
    "\n",
    "Well done! You now know how to build lasso and ridge regression models, use them for feature selection and find an optimal value for `alpha`. "
   ]
  }
 ],
 "metadata": {
  "kernelspec": {
   "display_name": "saturn (Python 3)",
   "language": "python",
   "name": "python3"
  },
  "language_info": {
   "codemirror_mode": {
    "name": "ipython",
    "version": 3
   },
   "file_extension": ".py",
   "mimetype": "text/x-python",
   "name": "python",
   "nbconvert_exporter": "python",
   "pygments_lexer": "ipython3",
   "version": "3.10.6"
  }
 },
 "nbformat": 4,
 "nbformat_minor": 2
}
