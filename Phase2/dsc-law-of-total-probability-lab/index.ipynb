{
 "cells": [
  {
   "cell_type": "markdown",
   "metadata": {},
   "source": [
    "# Partitioning and Law of Total Probability - Lab\n",
    "\n",
    "## Introduction \n",
    "In this lab, you'll practice your knowledge of the law of total probability. In probability theory, the law (or formula) of total probability is a fundamental rule relating **marginal probabilities** to **conditional probabilities**.\n",
    "\n",
    "## Objectives\n",
    "\n",
    "You will be able to:\n",
    "\n",
    "* Differentiate between independent and dependent events\n",
    "* Perform partitioning based on known and unknown probabilities to solve a problem"
   ]
  },
  {
   "cell_type": "markdown",
   "metadata": {},
   "source": [
    "## Exercise 1\n",
    "Imagine you have two hats: one has 4 red balls and 6 green balls, the other has 6 red and 4 green. We toss a fair coin, if heads, you will pick a random ball from the first hat, if tails you will pick one from the second hat. \n",
    "\n",
    "What is the probability of getting a red ball?"
   ]
  },
  {
   "cell_type": "code",
   "execution_count": 2,
   "metadata": {},
   "outputs": [
    {
     "data": {
      "text/plain": [
       "0.5"
      ]
     },
     "execution_count": 2,
     "metadata": {},
     "output_type": "execute_result"
    }
   ],
   "source": [
    "# Your code here\n",
    "# P(H)= 0.5\n",
    "# P(T) = 0.5\n",
    "# P(R) = 4/10= 0.4\n",
    "# P(G) = 6/10 =0.6\n",
    "# P(R) = 0.6\n",
    "# P(G) =0.4\n",
    "# P(R|H) = P(RnH)/P(H)\n",
    "# P(RnH) = P(R|H) * P(H)\n",
    "# = 0.4 * 0.5 = 0.2\n",
    "# P(R|T) = P(RnT)/P(T)\n",
    "# P(RnT) = P(R|T) * P(H')\n",
    "# = 0.6 * 0.5 = 0.3\n",
    "\n",
    "\n",
    "# P(R) = P(R n H) + P (R n H')\n",
    "\n",
    "prob_R_and_head = 0.5 * 0.4\n",
    "prob_R_and_tail = 0.5 * 0.6\n",
    "\n",
    "total_prob = prob_R_and_head + prob_R_and_tail\n",
    "total_prob"
   ]
  },
  {
   "cell_type": "markdown",
   "metadata": {},
   "source": [
    "## Exercise 2\n",
    "In games where at least one goal is made, a soccer team wins 60% of its games when it scores the first goal, and 10% of its games when the opposing team \n",
    "scores first. \n",
    "\n",
    "If the team scores the first goal about 30% of the time, what fraction of the games does it win?"
   ]
  },
  {
   "cell_type": "code",
   "execution_count": 3,
   "metadata": {},
   "outputs": [
    {
     "data": {
      "text/plain": [
       "0.25"
      ]
     },
     "execution_count": 3,
     "metadata": {},
     "output_type": "execute_result"
    }
   ],
   "source": [
    "# Your code here\n",
    "# P(W) = P(W & F) + P(W & F')\n",
    "\n",
    "P(W1|F) = P(W1nF)/P(F)\n",
    "P(W1nF) = P(W1|F) * P(F)\n",
    "P(W1nF) = 0.6 * 0.3 = 0.18\n",
    "\n",
    "P(W2nF') = P(W2|F') * P(F')\n",
    "        = 0.1 * 0.7 = 0.07 \n",
    "F' = 1-F = 1-0.3 = 0.7\n",
    "\n",
    "# P(W) = P(W|F)P(F) + P(W|F')P(F')\n",
    "        P(W1nF) +  P(W2|F')\n",
    "                     \n",
    "prob_W_given_F = 0.6\n",
    "prob_W_given_notF = 0.1\n",
    "prob_F = 0.3\n",
    "prob_notF = 1 - prob_F\n",
    "\n",
    "prob_W = prob_W_given_F * prob_F + prob_W_given_notF * prob_notF\n",
    "prob_W"
   ]
  },
  {
   "cell_type": "markdown",
   "metadata": {},
   "source": [
    "## Exercise 3"
   ]
  },
  {
   "cell_type": "markdown",
   "metadata": {},
   "source": [
    "In Europe, except for regular gas, cars often run on diesel as well. At a gas station in Paris; \n",
    "\n",
    "\n",
    "* 40% of the customers fill up with diesel (event G1) \n",
    "* 35% with gas \"Super 95\" (event G2)\n",
    "* 25% with gas \"Super 98\" (event G3). \n",
    "\n",
    "\n",
    "* 30% of the customers who buy diesel fill their tank completely (event F). \n",
    "* For \"Super 95\" and \"Super 98\", these numbers are  60% and 50%, respectively.\n",
    "\n",
    "\n",
    "- Compute the probability that the next customer completely fills their tank and buys Super 95. \n",
    "- Compute the probability that the next customer completely fills their tank\n",
    "- Given that the next customer fills their tank completely, compute the probability that they bought diesel. \n",
    "\n",
    "Hint: Consult the theorems for conditional probability, check for dependence or independence of events"
   ]
  },
  {
   "cell_type": "code",
   "execution_count": 3,
   "metadata": {},
   "outputs": [
    {
     "name": "stdout",
     "output_type": "stream",
     "text": [
      "Probability of full tank on Super 95: 0.21\n",
      "Overall probability of a customer filling their tank: 0.45499999999999996\n",
      "Probability of diesel given full tank: 0.26373626373626374\n"
     ]
    }
   ],
   "source": [
    "# Your code here\n",
    "# Compute the probability that the next customer completely fills their tank and buys Super 95\n",
    "P(FnS95) = P(F|S95) * P(S95)\n",
    "\n",
    "full_tank_super95 = 0.35 * 0.6 # Probability of buying Super 95 times probability of filling the tank\n",
    "print(\"Probability of full tank on Super 95:\", full_tank_super95)\n",
    "\n",
    "# Compute the probability that the next customer completely fills their tank\n",
    "full_tank_diesel = 0.4 * 0.3 \n",
    "full_tank_super98 = 0.25 * 0.5\n",
    "full_tank_overall = full_tank_diesel + full_tank_super95 + full_tank_super98\n",
    "print(\"Overall probability of a customer filling their tank:\", full_tank_overall)\n",
    "\n",
    "# Given that the next customer fills their tank completely, \n",
    "# compute the probability that they bought diesel\n",
    "# P(diesel | full_tank)\n",
    "# P(D|F) = P(DnF) / P(F)\n",
    "prob_diesel_given_full_tank = full_tank_diesel / full_tank_overall \n",
    "print(\"Probability of diesel given full tank:\", prob_diesel_given_full_tank)"
   ]
  },
  {
   "cell_type": "markdown",
   "metadata": {},
   "source": [
    "## Exercise 4"
   ]
  },
  {
   "cell_type": "markdown",
   "metadata": {},
   "source": [
    "United Airlines operates flights from JFK to Amsterdam, to Brussels, and to Copenhagen. As you may know, flights are overbooked fairly often. Let's denote the probability of the flight to Amsterdam being overbooked equal to 40%, the probability of the flight to Brussels being overbooked equal to 25%, and the probability of the flight to Copenhagen being overbooked equal to 35%. You can assume that these events of overbooking are independent events."
   ]
  },
  {
   "cell_type": "markdown",
   "metadata": {},
   "source": [
    "- Compute the probability that all the flights are overbooked.\n",
    "- Compute the probability of having at least one flight which is not overbooked.\n",
    "- Compute the probability that exactly one flight is overbooked."
   ]
  },
  {
   "cell_type": "code",
   "execution_count": 1,
   "metadata": {},
   "outputs": [
    {
     "name": "stdout",
     "output_type": "stream",
     "text": [
      "Probability that all the flights are overbooked 0.034999999999999996\n",
      "Probability of having at least one flight which is not overbooked 0.965\n",
      "Probability that exactly one flight is overbooked 0.45\n"
     ]
    }
   ],
   "source": [
    "# Compute the probability that all the flights are overbooked.\n",
    "# P(AnBnC) = 0.4 * 0.25 * 0.35\n",
    "prob_A_B_C = 0.4 * 0.25 * 0.35\n",
    "\n",
    "# Compute the probability of having at least one flight which is not overbooked.\n",
    "# The complement of AnBnC is the sample space - A. i.e A' = 1-A\n",
    "# If you let 0 represent overbooked and 1 represent 0, then AnBnC represents 000\n",
    "# A' represents all other possible permutations of 0 amd 1 amongst A,B, and C\n",
    "prob_notA = 1-prob_A_B_C\n",
    "\n",
    "# Compute the probability that exactly one flight is overbooked.\n",
    "# P(single overbooking) = P(AnB'nC') + P(A'nBnC') + P(A'nB'nC)\n",
    "prob_single_overbooking = 0.4*0.75*0.65 + 0.6*0.25*0.65 + 0.6*0.75*0.35\n",
    "\n",
    "print(\"Probability that all the flights are overbooked\", prob_A_B_C)\n",
    "print(\"Probability of having at least one flight which is not overbooked\", prob_notA)\n",
    "print(\"Probability that exactly one flight is overbooked\", prob_single_overbooking)"
   ]
  },
  {
   "cell_type": "markdown",
   "metadata": {},
   "source": [
    "## Exercise 5\n",
    "You have three bags that each contain 100 marbles:\n",
    "\n",
    "- Bag 1 has 75 red and 25 blue marbles;\n",
    "- Bag 2 has 60 red and 40 blue marbles;\n",
    "- Bag 3 has 45 red and 55 blue marbles.\n",
    "\n",
    "You choose one of the bags at random and then pick a marble from the chosen bag, also at random. \n",
    "\n",
    "What is the probability that the chosen marble is red?\n"
   ]
  },
  {
   "cell_type": "code",
   "execution_count": 5,
   "metadata": {},
   "outputs": [
    {
     "data": {
      "text/plain": [
       "0.6"
      ]
     },
     "execution_count": 5,
     "metadata": {},
     "output_type": "execute_result"
    }
   ],
   "source": [
    "# Total probability of choosing a red marble is the sum of the \n",
    "# probability of choosing each bag multiplied by the probability \n",
    "# of picking a red ball in it\n",
    "\n",
    "# P(R)=P(R|B1)P(B1)+P(R|B2)P(B2)+P(R|B3)P(B3)\n",
    "\n",
    "prob_red = (0.75*1/3) + (0.6*1/3) + (0.45*1/3)\n",
    "prob_red"
   ]
  },
  {
   "cell_type": "markdown",
   "metadata": {},
   "source": [
    "## Summary \n",
    "\n",
    "In this lab, you practiced conditional probability and its theorem with some simple problems. The key takeaway from this lab is to be able to identify random events as dependent or independent and calculating the probability of their occurrence using appropriate methods. Next, you'll take this knowledge a step further and run simulations with conditional and total probability."
   ]
  }
 ],
 "metadata": {
  "kernelspec": {
   "display_name": "saturn (Python 3)",
   "language": "python",
   "name": "python3"
  },
  "language_info": {
   "codemirror_mode": {
    "name": "ipython",
    "version": 3
   },
   "file_extension": ".py",
   "mimetype": "text/x-python",
   "name": "python",
   "nbconvert_exporter": "python",
   "pygments_lexer": "ipython3",
   "version": "3.10.6"
  },
  "toc": {
   "base_numbering": 1,
   "nav_menu": {},
   "number_sections": true,
   "sideBar": true,
   "skip_h1_title": false,
   "title_cell": "Table of Contents",
   "title_sidebar": "Contents",
   "toc_cell": false,
   "toc_position": {},
   "toc_section_display": true,
   "toc_window_display": false
  }
 },
 "nbformat": 4,
 "nbformat_minor": 2
}
