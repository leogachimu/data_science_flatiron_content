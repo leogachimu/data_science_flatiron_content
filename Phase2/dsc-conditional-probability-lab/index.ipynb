{
 "cells": [
  {
   "cell_type": "markdown",
   "metadata": {},
   "source": [
    "# Conditional Probability - Lab\n",
    "\n",
    "## Introduction\n",
    "\n",
    "In order to be ready for real-world applications of probability, it is important to understand what happens when probabilities are not independent. Very often, the probability of a certain event depends on other events happening! Let's see how this all works in this lab.\n",
    "\n",
    "## Objectives\n",
    "\n",
    "You will be able to:\n",
    "\n",
    "* Differentiate between independent and dependent events\n",
    "* Use the multiplication rule to find the probability of the intersection of two events\n",
    "\n",
    "## Exercise 1\n",
    "A coin is tossed and a single 6-sided die is rolled. Find the probability of landing on the head side of the coin and rolling a 3 on the die."
   ]
  },
  {
   "cell_type": "code",
   "execution_count": 2,
   "metadata": {},
   "outputs": [
    {
     "data": {
      "text/plain": [
       "0.08333333333333333"
      ]
     },
     "execution_count": 2,
     "metadata": {},
     "output_type": "execute_result"
    }
   ],
   "source": [
    "# Your code here\n",
    "prob_coin_head = 1/2 # head / (head + tail)\n",
    "prob_3 = 1/6 # 1 side/ 6 possible sides\n",
    "prob_intersection = prob_coin_head * prob_3\n",
    "prob_intersection"
   ]
  },
  {
   "cell_type": "markdown",
   "metadata": {},
   "source": [
    "## Exercise 2\n",
    "\n",
    "\n",
    "After conducting a survey, one of the outcomes was that 8 out of 10 of the survey subjects liked chocolate chip cookies. If three survey subjects are chosen at random **with replacement**, what is the probability that all three like chocolate chip cookies?"
   ]
  },
  {
   "cell_type": "code",
   "execution_count": 1,
   "metadata": {},
   "outputs": [
    {
     "data": {
      "text/plain": [
       "0.5120000000000001"
      ]
     },
     "execution_count": 1,
     "metadata": {},
     "output_type": "execute_result"
    }
   ],
   "source": [
    "# P(chocolate) = 8/10\n",
    "\n",
    "# P(chocolate n chocolate n chocolate) =  P(chocolate) * P(chocolate)* P(chocolate)\n",
    "\n",
    "prob_all_chocolate = (8/10)**3\n",
    "prob_all_chocolate"
   ]
  },
  {
   "cell_type": "code",
   "execution_count": 2,
   "metadata": {},
   "outputs": [
    {
     "data": {
      "text/plain": [
       "0.512"
      ]
     },
     "execution_count": 2,
     "metadata": {},
     "output_type": "execute_result"
    }
   ],
   "source": [
    "# Alternative\n",
    "# |S| = 10*10*10\n",
    "# |E| = 8*8*8 #8 choices at each step\n",
    "# P(all chocolates) = |E| \\ |S|\n",
    "\n",
    "prob_all_chocolates = (8*8*8) / (10*10*10)\n",
    "prob_all_chocolates"
   ]
  },
  {
   "cell_type": "markdown",
   "metadata": {},
   "source": [
    "## Exercise 3\n",
    "70% of your friends like chocolate flavored ice cream, and 35% like chocolate AND like strawberry flavors.\n",
    "\n",
    "What percent of those who like chocolate also like strawberry?"
   ]
  },
  {
   "cell_type": "code",
   "execution_count": 3,
   "metadata": {},
   "outputs": [
    {
     "name": "stdout",
     "output_type": "stream",
     "text": [
      "Percent of those who like chocolate also like strawberry: 50%\n"
     ]
    }
   ],
   "source": [
    "# P(strawberry|choc) = P(choc & strawberry) /P(choc)\n",
    "choc_given_strawberry = 0.35 / 0.7\n",
    "print(\"Percent of those who like chocolate also like strawberry: {:.0%}\".format(choc_given_strawberry))"
   ]
  },
  {
   "cell_type": "markdown",
   "metadata": {},
   "source": [
    "50% of your friends who like chocolate also like strawberry\n",
    "\n",
    "## Exercise 4\n",
    "What is the probability of drawing 2 consecutive aces from a deck of cards. "
   ]
  },
  {
   "cell_type": "code",
   "execution_count": 7,
   "metadata": {},
   "outputs": [
    {
     "data": {
      "text/plain": [
       "0.004524886877828055"
      ]
     },
     "execution_count": 7,
     "metadata": {},
     "output_type": "execute_result"
    }
   ],
   "source": [
    "# Your code here\n",
    "num_of_aces = 4\n",
    "num_of_cards = 52\n",
    "prob_first_ace = num_of_aces / num_of_cards\n",
    "prob_second_ace_given_first_ace = (num_of_aces-1) / (num_of_cards-1)\n",
    "prob_first_ace * prob_second_ace_given_first_ace"
   ]
  },
  {
   "cell_type": "markdown",
   "metadata": {},
   "source": [
    "## Exercise 5\n",
    "In a manufacturing factory that produces a certain product, there are 100 units of the product, 5 of which are defective. We pick three units from the 100 units at random. \n",
    "\n",
    "What is the probability that none of them are defective?\n",
    "Hint: Use the chain rule here!"
   ]
  },
  {
   "cell_type": "code",
   "execution_count": 4,
   "metadata": {},
   "outputs": [
    {
     "data": {
      "text/plain": [
       "0.8559987631416203"
      ]
     },
     "execution_count": 4,
     "metadata": {},
     "output_type": "execute_result"
    }
   ],
   "source": [
    "# Let A, B, and C be the first, second, and third events respectively.\n",
    "\n",
    "\n",
    "# P(B|A) = P(BnA)/P(A)\n",
    "\n",
    "# P(BnA) = P(B|A)P(A)\n",
    "\n",
    "\n",
    "\n",
    "# P(AnBnC) = P(An(BnC))\n",
    "\n",
    "# = P(A|(BnC))P(BnC)\n",
    "\n",
    "# = P(A|(BnC))P(B|C)P(C)\n",
    "\n",
    "# Total probability = P(A)*P(B|A)*P(C|(AnB))\n",
    "\n",
    "prob_A = 95/100\n",
    "prob_B_given_A = 94/99\n",
    "prob_C_given_AandB = 93/98\n",
    "prob_nodefect = prob_A * prob_B_given_A * prob_C_given_AandB\n",
    "prob_nodefect"
   ]
  },
  {
   "cell_type": "markdown",
   "metadata": {},
   "source": [
    "## Exercise 6\n",
    "\n",
    "Let's consider the example where 2 dice are thrown. Given that **at least one** of the die has come up on a number higher than 4, what is the probability that the sum is 8?\n",
    "\n",
    "Let $i,j$ be the numbers shown on the dice. The events $A$ and $B$ are described below:\n",
    "\n",
    "* **Event $A$ is when either $i$ or $j$ is 5 or 6** (keep an eye on either - or)\n",
    "* **Event $B$ is when $i + j = 8$**\n",
    "\n",
    "\n",
    "* What is the size of sample space $\\Omega$ ?\n",
    "* What is $P(A \\cap B)$ ?\n",
    "* What is $P(A)$ ?\n",
    "* Use above to calculate $P(B \\mid A)$"
   ]
  },
  {
   "cell_type": "code",
   "execution_count": 7,
   "metadata": {},
   "outputs": [
    {
     "name": "stdout",
     "output_type": "stream",
     "text": [
      "Sample space: 36\n",
      "𝑃(𝐴∩𝐵): 0.1111111111111111\n",
      "Probability of A 0.5555555555555556\n",
      "Probability of B given A 0.19999999999999998\n"
     ]
    }
   ],
   "source": [
    "# P(E) = |E| / |S|\n",
    "\n",
    "# Event (A) = {(5,x), (y, 5), (k, 6), (6, g)...}\n",
    "\n",
    "# Event (B) = {(1, 7), (5, 3), (6, 2) ...}\n",
    "\n",
    "# Event(AnB) = {(5, 3), (3, 5), (6, 2), (2,6)} \n",
    "\n",
    "# sample space Ω\n",
    "S = 6**2 # 6 possiblities for each roll\n",
    "print(\"Sample space:\", S)\n",
    "\n",
    "# What is 𝑃(𝐴∩𝐵)?\n",
    "prob_AandB = 4/S # 4 out of the entire sample space\n",
    "print(\"𝑃(𝐴∩𝐵):\", prob_AandB)\n",
    "    \n",
    "# What is  𝑃(𝐴)? \n",
    "# Find event A, where either 5 or 6 is present (but sum is not necessarily 8)\n",
    "# 1,5\n",
    "# 1,6\n",
    "# 2,5\n",
    "# 2,6\n",
    "# 3,5\n",
    "# 3,6\n",
    "# 4,5\n",
    "# 4,6\n",
    "# 5,5\n",
    "# 5,6\n",
    "# 6,5\n",
    "# 6,6\n",
    "\n",
    "#Events that start with 5 or 6\n",
    "# 5,1\n",
    "# 5,2\n",
    "# 5,3\n",
    "# 5,4\n",
    "# 6,1\n",
    "# 6,2\n",
    "# 6,3\n",
    "# 6,4\n",
    "\n",
    "# Size of A = 12 + 8 = 20\n",
    "\n",
    "# P(A) = |A| / |S| \n",
    "\n",
    "prob_A= 20/S\n",
    "print(\"Probability of A\", prob_A)\n",
    "\n",
    "# calculate  𝑃(𝐵∣𝐴)\n",
    "# P(B|A) = P(AnB)/P(A) \n",
    "prob_B_given_A = prob_AandB / prob_A\n",
    "print(\"Probability of B given A\", prob_B_given_A)\n",
    "\n",
    "#(1/9) / (5/9)"
   ]
  },
  {
   "cell_type": "markdown",
   "metadata": {},
   "source": [
    "## Exercise 7\n",
    "\n",
    "Let's consider a credit card example. At a supermarket, customers are selected randomly, the store owner recorded whether costumers owned a Visa card (event A) or an Amex credit card (event B). Some customers own both cards.\n",
    "You can assume that:\n",
    "\n",
    "- $P(A)$ = 0.5\n",
    "- $P(B)$ = 0.4\n",
    "- both $A$ and $B$ = 0.25.\n",
    "\n",
    "\n",
    "With the knowledge we have about conditional probabilities, compute and interpret the following probabilities:\n",
    "\n",
    "- $P(B \\mid A)$\n",
    "- $P(B' \\mid A)$\n",
    "- $P(A \\mid B)$\n",
    "- $P(A' \\mid B)$\n"
   ]
  },
  {
   "cell_type": "code",
   "execution_count": 9,
   "metadata": {},
   "outputs": [
    {
     "name": "stdout",
     "output_type": "stream",
     "text": [
      "𝑃(𝐵∣𝐴): 0.5\n",
      "𝑃(𝐵′∣𝐴): 0.5\n",
      "𝑃(𝐴∣𝐵): 0.625\n",
      "𝑃(𝐴′∣𝐵): 0.375\n"
     ]
    }
   ],
   "source": [
    "# Your code here\n",
    "# Define the probabilities\n",
    "prob_A = 0.5\n",
    "prob_B = 0.4\n",
    "prob_A_and_B = 0.25\n",
    "\n",
    "prob_B_given_A = prob_A_and_B / prob_A # Probability of A intersection B, divide by probability of A\n",
    "prob_notB_given_A = 1 - prob_B_given_A # 𝑃(𝐵∣𝐴) + P(𝐵′∣𝐴) = 1\n",
    "prob_A_given_B = (prob_A * prob_B_given_A) / prob_B  # prob_B * prob_A_given_B = prob_A * prob_B_given_A = prob_A_and_B\n",
    "prob_notA_given_B = 1 - prob_A_given_B # 𝑃(𝐴∣𝐵) + 𝑃(𝐴′∣𝐵) = 1\n",
    "print(\"𝑃(𝐵∣𝐴):\", prob_B_given_A)\n",
    "print(\"𝑃(𝐵′∣𝐴):\", prob_notB_given_A)\n",
    "print(\"𝑃(𝐴∣𝐵):\", prob_A_given_B)\n",
    "print(\"𝑃(𝐴′∣𝐵):\", prob_notA_given_B)"
   ]
  },
  {
   "cell_type": "markdown",
   "metadata": {},
   "source": [
    "## Summary \n",
    "\n",
    "In this lab, you practiced conditional probability and its theorem with some simple problems. The key takeaway from this lab is to be able to identify random events as dependent or independent and calculating the probability of their occurrence using appropriate methods. Next, you'll learn about some more conditional probability axioms, building on the knowledge we have so far. "
   ]
  }
 ],
 "metadata": {
  "kernelspec": {
   "display_name": "saturn (Python 3)",
   "language": "python",
   "name": "python3"
  },
  "language_info": {
   "codemirror_mode": {
    "name": "ipython",
    "version": 3
   },
   "file_extension": ".py",
   "mimetype": "text/x-python",
   "name": "python",
   "nbconvert_exporter": "python",
   "pygments_lexer": "ipython3",
   "version": "3.10.6"
  },
  "toc": {
   "base_numbering": 1,
   "nav_menu": {},
   "number_sections": true,
   "sideBar": true,
   "skip_h1_title": false,
   "title_cell": "Table of Contents",
   "title_sidebar": "Contents",
   "toc_cell": false,
   "toc_position": {},
   "toc_section_display": true,
   "toc_window_display": false
  }
 },
 "nbformat": 4,
 "nbformat_minor": 2
}
