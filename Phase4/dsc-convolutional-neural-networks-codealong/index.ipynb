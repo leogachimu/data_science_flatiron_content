{
 "cells": [
  {
   "cell_type": "markdown",
   "metadata": {},
   "source": [
    "# Convolutional Neural Networks - Codealong\n",
    "\n",
    "## Introduction\n",
    "\n",
    "In this codealong, we will reinvestigate our previous Santa image classification example. To do this, we will review loading a dataset from a nested directory structure and building a baseline model. From there, we'll build a CNN and demonstrate its improved performance on image recognition tasks. It is recommended you run the cells in order to further explore variables and investigate the code snippets themselves. However, please note that some cells (particularly training cells later on) may take several minutes to run. (On a Macbook pro the entire notebook took ~15 minutes to run.)\n",
    "\n",
    "## Objectives  \n",
    "\n",
    "You will be able to:\n",
    "\n",
    "- Load images from a hierarchical file structure using an image datagenerator \n",
    "- Explain why one might augment image data when training a neural network \n",
    "- Apply data augmentation to image files before training a neural network \n",
    "- Build a CNN using Keras "
   ]
  },
  {
   "cell_type": "markdown",
   "metadata": {},
   "source": [
    "## Data Exploration\n",
    "\n",
    "Let's import libraries `os` and `shutil`. They can help us access our underlying file structure."
   ]
  },
  {
   "cell_type": "code",
   "execution_count": 1,
   "metadata": {},
   "outputs": [],
   "source": [
    "import os, shutil"
   ]
  },
  {
   "cell_type": "markdown",
   "metadata": {},
   "source": [
    "Let's see how many images there are in the `santa` directory."
   ]
  },
  {
   "cell_type": "code",
   "execution_count": 2,
   "metadata": {},
   "outputs": [],
   "source": [
    "data_santa_dir = 'data/santa/'\n",
    "data_not_santa_dir = 'data/not_santa/'"
   ]
  },
  {
   "cell_type": "code",
   "execution_count": 3,
   "metadata": {},
   "outputs": [
    {
     "name": "stdout",
     "output_type": "stream",
     "text": [
      "There are 461 santa images\n"
     ]
    }
   ],
   "source": [
    "imgs_santa = [file for file in os.listdir(data_santa_dir) if file.endswith('.jpg')]\n",
    "\n",
    "print('There are', len(imgs_santa), 'santa images')"
   ]
  },
  {
   "cell_type": "markdown",
   "metadata": {},
   "source": [
    "Now, repeat this for the `not_santa` directory: "
   ]
  },
  {
   "cell_type": "code",
   "execution_count": 4,
   "metadata": {},
   "outputs": [
    {
     "name": "stdout",
     "output_type": "stream",
     "text": [
      "There are 461 images without santa\n"
     ]
    }
   ],
   "source": [
    "imgs_not_santa = [file for file in os.listdir(data_not_santa_dir) if file.endswith('.jpg')]\n",
    "\n",
    "print('There are', len(imgs_not_santa), 'images without santa')"
   ]
  },
  {
   "cell_type": "markdown",
   "metadata": {},
   "source": [
    "### `split` Folder"
   ]
  },
  {
   "cell_type": "code",
   "execution_count": 5,
   "metadata": {},
   "outputs": [],
   "source": [
    "train_folder = os.path.join('split', 'train')\n",
    "train_santa = os.path.join(train_folder, 'santa')\n",
    "train_not_santa = os.path.join(train_folder, 'not_santa')\n",
    "\n",
    "test_folder = os.path.join('split', 'test')\n",
    "test_santa = os.path.join(test_folder, 'santa')\n",
    "test_not_santa = os.path.join(test_folder, 'not_santa')\n",
    "\n",
    "val_folder = os.path.join('split', 'validation')\n",
    "val_santa = os.path.join(val_folder, 'santa')\n",
    "val_not_santa = os.path.join(val_folder, 'not_santa')"
   ]
  },
  {
   "cell_type": "code",
   "execution_count": 6,
   "metadata": {},
   "outputs": [
    {
     "data": {
      "text/plain": [
       "'split/train/santa'"
      ]
     },
     "execution_count": 6,
     "metadata": {},
     "output_type": "execute_result"
    }
   ],
   "source": [
    "train_santa"
   ]
  },
  {
   "cell_type": "markdown",
   "metadata": {},
   "source": [
    "Let's print out how many images we have in each directory in the `split` folder so we know for sure our numbers are right!"
   ]
  },
  {
   "cell_type": "code",
   "execution_count": 7,
   "metadata": {},
   "outputs": [
    {
     "name": "stdout",
     "output_type": "stream",
     "text": [
      "There are 271 santa images in the training set\n"
     ]
    }
   ],
   "source": [
    "print('There are', len(os.listdir(train_santa)), 'santa images in the training set')"
   ]
  },
  {
   "cell_type": "code",
   "execution_count": 8,
   "metadata": {},
   "outputs": [
    {
     "name": "stdout",
     "output_type": "stream",
     "text": [
      "There are 100 santa images in the validation set\n"
     ]
    }
   ],
   "source": [
    "print('There are', len(os.listdir(val_santa)), 'santa images in the validation set')"
   ]
  },
  {
   "cell_type": "code",
   "execution_count": 9,
   "metadata": {},
   "outputs": [
    {
     "name": "stdout",
     "output_type": "stream",
     "text": [
      "There are 90 santa images in the test set\n"
     ]
    }
   ],
   "source": [
    "print('There are', len(os.listdir(test_santa)), 'santa images in the test set')"
   ]
  },
  {
   "cell_type": "code",
   "execution_count": 10,
   "metadata": {},
   "outputs": [
    {
     "name": "stdout",
     "output_type": "stream",
     "text": [
      "There are 271 images without santa in the train set\n"
     ]
    }
   ],
   "source": [
    "print('There are', len(os.listdir(train_not_santa)), 'images without santa in the train set')"
   ]
  },
  {
   "cell_type": "code",
   "execution_count": 11,
   "metadata": {},
   "outputs": [
    {
     "name": "stdout",
     "output_type": "stream",
     "text": [
      "There are 100 images without santa in the validation set\n"
     ]
    }
   ],
   "source": [
    "print('There are', len(os.listdir(val_not_santa)), 'images without santa in the validation set')"
   ]
  },
  {
   "cell_type": "code",
   "execution_count": 12,
   "metadata": {},
   "outputs": [
    {
     "name": "stdout",
     "output_type": "stream",
     "text": [
      "There are 90 images without santa in the test set\n"
     ]
    }
   ],
   "source": [
    "print('There are', len(os.listdir(test_not_santa)), 'images without santa in the test set')"
   ]
  },
  {
   "cell_type": "markdown",
   "metadata": {},
   "source": [
    "## Use a densely connected network as a baseline"
   ]
  },
  {
   "cell_type": "markdown",
   "metadata": {},
   "source": [
    "Now that we've a handle on our data, we can easily use Keras' module with image-processing tools. Let's import the necessary libraries below. "
   ]
  },
  {
   "cell_type": "code",
   "execution_count": 14,
   "metadata": {},
   "outputs": [],
   "source": [
    "import time\n",
    "import matplotlib.pyplot as plt\n",
    "import scipy\n",
    "import numpy as np\n",
    "from PIL import Image\n",
    "from scipy import ndimage\n",
    "from tensorflow.keras.preprocessing.image import ImageDataGenerator, array_to_img, img_to_array, load_img\n",
    "\n",
    "np.random.seed(123)"
   ]
  },
  {
   "cell_type": "code",
   "execution_count": 15,
   "metadata": {},
   "outputs": [
    {
     "name": "stdout",
     "output_type": "stream",
     "text": [
      "Found 180 images belonging to 2 classes.\n",
      "Found 200 images belonging to 2 classes.\n",
      "Found 542 images belonging to 2 classes.\n"
     ]
    }
   ],
   "source": [
    "# get all the data in the directory split/test (180 images), and reshape them\n",
    "test_generator = ImageDataGenerator(rescale=1./255).flow_from_directory(\n",
    "        test_folder, \n",
    "        target_size=(64, 64), batch_size = 180) \n",
    "\n",
    "# get all the data in the directory split/validation (200 images), and reshape them\n",
    "val_generator = ImageDataGenerator(rescale=1./255).flow_from_directory(\n",
    "        val_folder, \n",
    "        target_size=(64, 64), batch_size = 200)\n",
    "\n",
    "# get all the data in the directory split/train (542 images), and reshape them\n",
    "train_generator = ImageDataGenerator(rescale=1./255).flow_from_directory(\n",
    "        train_folder, \n",
    "        target_size=(64, 64), batch_size=542)"
   ]
  },
  {
   "cell_type": "code",
   "execution_count": 17,
   "metadata": {},
   "outputs": [],
   "source": [
    "# create the data sets\n",
    "train_images, train_labels = next(train_generator)\n",
    "test_images, test_labels = next(test_generator)\n",
    "val_images, val_labels = next(val_generator)"
   ]
  },
  {
   "cell_type": "code",
   "execution_count": 20,
   "metadata": {},
   "outputs": [
    {
     "name": "stdout",
     "output_type": "stream",
     "text": [
      "Number of training samples: 542\n",
      "Number of testing samples: 180\n",
      "Number of validation samples: 200\n",
      "train_images shape: (542, 64, 64, 3)\n",
      "train_labels shape: (542, 2)\n",
      "test_images shape: (180, 64, 64, 3)\n",
      "test_labels shape: (180, 2)\n",
      "val_images shape: (200, 64, 64, 3)\n",
      "val_labels shape: (200, 2)\n"
     ]
    }
   ],
   "source": [
    "# Explore your dataset again\n",
    "m_train = train_images.shape[0]\n",
    "num_px = train_images.shape[1]\n",
    "m_test = test_images.shape[0]\n",
    "m_val = val_images.shape[0]\n",
    "\n",
    "print (\"Number of training samples: \" + str(m_train))\n",
    "print (\"Number of testing samples: \" + str(m_test))\n",
    "print (\"Number of validation samples: \" + str(m_val))\n",
    "print (\"train_images shape: \" + str(train_images.shape))\n",
    "print (\"train_labels shape: \" + str(train_labels.shape))\n",
    "print (\"test_images shape: \" + str(test_images.shape))\n",
    "print (\"test_labels shape: \" + str(test_labels.shape))\n",
    "print (\"val_images shape: \" + str(val_images.shape))\n",
    "print (\"val_labels shape: \" + str(val_labels.shape))"
   ]
  },
  {
   "cell_type": "code",
   "execution_count": 21,
   "metadata": {},
   "outputs": [
    {
     "name": "stdout",
     "output_type": "stream",
     "text": [
      "(542, 12288)\n",
      "(180, 12288)\n",
      "(200, 12288)\n"
     ]
    }
   ],
   "source": [
    "train_img = train_images.reshape(train_images.shape[0], -1)\n",
    "test_img = test_images.reshape(test_images.shape[0], -1)\n",
    "val_img = val_images.reshape(val_images.shape[0], -1)\n",
    "\n",
    "print(train_img.shape)\n",
    "print(test_img.shape)\n",
    "print(val_img.shape)"
   ]
  },
  {
   "cell_type": "code",
   "execution_count": 22,
   "metadata": {},
   "outputs": [],
   "source": [
    "train_y = np.reshape(train_labels[:,0], (542,1))\n",
    "test_y = np.reshape(test_labels[:,0], (180,1))\n",
    "val_y = np.reshape(val_labels[:,0], (200,1))"
   ]
  },
  {
   "cell_type": "code",
   "execution_count": 25,
   "metadata": {},
   "outputs": [
    {
     "name": "stderr",
     "output_type": "stream",
     "text": [
      "2024-01-18 07:41:26.075095: I tensorflow/core/platform/cpu_feature_guard.cc:193] This TensorFlow binary is optimized with oneAPI Deep Neural Network Library (oneDNN) to use the following CPU instructions in performance-critical operations:  SSE4.1 SSE4.2 AVX AVX2 AVX512F FMA\n",
      "To enable them in other operations, rebuild TensorFlow with the appropriate compiler flags.\n"
     ]
    }
   ],
   "source": [
    "# Build a baseline fully connected model\n",
    "from keras import models\n",
    "from keras import layers\n",
    "np.random.seed(123)\n",
    "model = models.Sequential()\n",
    "model.add(layers.Dense(20, activation='relu', input_shape=(12288,))) # 2 hidden layers\n",
    "model.add(layers.Dense(7, activation='relu'))\n",
    "model.add(layers.Dense(5, activation='relu'))\n",
    "model.add(layers.Dense(1, activation='sigmoid'))"
   ]
  },
  {
   "cell_type": "code",
   "execution_count": 26,
   "metadata": {
    "scrolled": false
   },
   "outputs": [
    {
     "name": "stdout",
     "output_type": "stream",
     "text": [
      "Epoch 1/50\n",
      "17/17 [==============================] - 1s 13ms/step - loss: 0.7231 - accuracy: 0.5240 - val_loss: 0.6612 - val_accuracy: 0.5050\n",
      "Epoch 2/50\n",
      "17/17 [==============================] - 0s 5ms/step - loss: 0.6792 - accuracy: 0.5148 - val_loss: 0.6617 - val_accuracy: 0.5050\n",
      "Epoch 3/50\n",
      "17/17 [==============================] - 0s 5ms/step - loss: 0.6701 - accuracy: 0.5074 - val_loss: 0.6534 - val_accuracy: 0.5100\n",
      "Epoch 4/50\n",
      "17/17 [==============================] - 0s 5ms/step - loss: 0.6583 - accuracy: 0.5221 - val_loss: 0.6380 - val_accuracy: 0.5250\n",
      "Epoch 5/50\n",
      "17/17 [==============================] - 0s 5ms/step - loss: 0.6452 - accuracy: 0.5738 - val_loss: 0.6293 - val_accuracy: 0.5100\n",
      "Epoch 6/50\n",
      "17/17 [==============================] - 0s 4ms/step - loss: 0.6316 - accuracy: 0.5886 - val_loss: 0.6214 - val_accuracy: 0.6550\n",
      "Epoch 7/50\n",
      "17/17 [==============================] - 0s 5ms/step - loss: 0.6349 - accuracy: 0.6458 - val_loss: 0.6047 - val_accuracy: 0.7050\n",
      "Epoch 8/50\n",
      "17/17 [==============================] - 0s 5ms/step - loss: 0.6108 - accuracy: 0.6661 - val_loss: 0.5858 - val_accuracy: 0.7850\n",
      "Epoch 9/50\n",
      "17/17 [==============================] - 0s 5ms/step - loss: 0.6020 - accuracy: 0.6476 - val_loss: 0.5980 - val_accuracy: 0.8750\n",
      "Epoch 10/50\n",
      "17/17 [==============================] - 0s 5ms/step - loss: 0.5633 - accuracy: 0.7731 - val_loss: 0.5794 - val_accuracy: 0.8550\n",
      "Epoch 11/50\n",
      "17/17 [==============================] - 0s 5ms/step - loss: 0.5493 - accuracy: 0.7694 - val_loss: 0.5522 - val_accuracy: 0.7000\n",
      "Epoch 12/50\n",
      "17/17 [==============================] - 0s 5ms/step - loss: 0.5314 - accuracy: 0.7970 - val_loss: 0.5484 - val_accuracy: 0.6200\n",
      "Epoch 13/50\n",
      "17/17 [==============================] - 0s 5ms/step - loss: 0.5076 - accuracy: 0.8100 - val_loss: 0.5182 - val_accuracy: 0.7000\n",
      "Epoch 14/50\n",
      "17/17 [==============================] - 0s 5ms/step - loss: 0.5020 - accuracy: 0.7989 - val_loss: 0.5214 - val_accuracy: 0.8500\n",
      "Epoch 15/50\n",
      "17/17 [==============================] - 0s 5ms/step - loss: 0.4736 - accuracy: 0.8542 - val_loss: 0.4765 - val_accuracy: 0.8650\n",
      "Epoch 16/50\n",
      "17/17 [==============================] - 0s 4ms/step - loss: 0.4714 - accuracy: 0.8303 - val_loss: 0.5323 - val_accuracy: 0.7450\n",
      "Epoch 17/50\n",
      "17/17 [==============================] - 0s 4ms/step - loss: 0.4505 - accuracy: 0.8321 - val_loss: 0.5722 - val_accuracy: 0.7000\n",
      "Epoch 18/50\n",
      "17/17 [==============================] - 0s 5ms/step - loss: 0.4514 - accuracy: 0.8303 - val_loss: 0.4693 - val_accuracy: 0.7800\n",
      "Epoch 19/50\n",
      "17/17 [==============================] - 0s 5ms/step - loss: 0.4432 - accuracy: 0.8247 - val_loss: 0.4888 - val_accuracy: 0.8000\n",
      "Epoch 20/50\n",
      "17/17 [==============================] - 0s 4ms/step - loss: 0.4763 - accuracy: 0.8026 - val_loss: 0.4575 - val_accuracy: 0.8450\n",
      "Epoch 21/50\n",
      "17/17 [==============================] - 0s 4ms/step - loss: 0.4342 - accuracy: 0.8358 - val_loss: 0.4909 - val_accuracy: 0.7550\n",
      "Epoch 22/50\n",
      "17/17 [==============================] - 0s 4ms/step - loss: 0.4067 - accuracy: 0.8708 - val_loss: 0.5072 - val_accuracy: 0.6950\n",
      "Epoch 23/50\n",
      "17/17 [==============================] - 0s 5ms/step - loss: 0.3729 - accuracy: 0.8893 - val_loss: 0.4642 - val_accuracy: 0.7450\n",
      "Epoch 24/50\n",
      "17/17 [==============================] - 0s 5ms/step - loss: 0.3514 - accuracy: 0.8967 - val_loss: 0.4335 - val_accuracy: 0.7850\n",
      "Epoch 25/50\n",
      "17/17 [==============================] - 0s 4ms/step - loss: 0.3841 - accuracy: 0.8635 - val_loss: 0.4126 - val_accuracy: 0.8300\n",
      "Epoch 26/50\n",
      "17/17 [==============================] - 0s 5ms/step - loss: 0.3694 - accuracy: 0.8635 - val_loss: 0.4801 - val_accuracy: 0.7400\n",
      "Epoch 27/50\n",
      "17/17 [==============================] - 0s 4ms/step - loss: 0.3621 - accuracy: 0.8782 - val_loss: 0.5209 - val_accuracy: 0.7050\n",
      "Epoch 28/50\n",
      "17/17 [==============================] - 0s 5ms/step - loss: 0.3147 - accuracy: 0.9096 - val_loss: 0.3771 - val_accuracy: 0.8650\n",
      "Epoch 29/50\n",
      "17/17 [==============================] - 0s 5ms/step - loss: 0.3092 - accuracy: 0.9022 - val_loss: 0.3777 - val_accuracy: 0.8650\n",
      "Epoch 30/50\n",
      "17/17 [==============================] - 0s 5ms/step - loss: 0.3188 - accuracy: 0.8875 - val_loss: 0.3692 - val_accuracy: 0.8800\n",
      "Epoch 31/50\n",
      "17/17 [==============================] - 0s 5ms/step - loss: 0.3023 - accuracy: 0.9022 - val_loss: 0.4086 - val_accuracy: 0.8100\n",
      "Epoch 32/50\n",
      "17/17 [==============================] - 0s 5ms/step - loss: 0.2885 - accuracy: 0.9077 - val_loss: 0.3733 - val_accuracy: 0.8550\n",
      "Epoch 33/50\n",
      "17/17 [==============================] - 0s 5ms/step - loss: 0.2908 - accuracy: 0.8911 - val_loss: 0.3653 - val_accuracy: 0.8750\n",
      "Epoch 34/50\n",
      "17/17 [==============================] - 0s 5ms/step - loss: 0.3316 - accuracy: 0.8616 - val_loss: 0.3480 - val_accuracy: 0.8750\n",
      "Epoch 35/50\n",
      "17/17 [==============================] - 0s 5ms/step - loss: 0.3052 - accuracy: 0.8745 - val_loss: 0.3633 - val_accuracy: 0.8500\n",
      "Epoch 36/50\n",
      "17/17 [==============================] - 0s 4ms/step - loss: 0.3253 - accuracy: 0.8708 - val_loss: 0.4404 - val_accuracy: 0.7750\n",
      "Epoch 37/50\n",
      "17/17 [==============================] - 0s 5ms/step - loss: 0.3274 - accuracy: 0.8450 - val_loss: 0.5187 - val_accuracy: 0.7250\n",
      "Epoch 38/50\n",
      "17/17 [==============================] - 0s 4ms/step - loss: 0.2826 - accuracy: 0.8875 - val_loss: 0.4183 - val_accuracy: 0.8150\n",
      "Epoch 39/50\n",
      "17/17 [==============================] - 0s 4ms/step - loss: 0.2733 - accuracy: 0.8948 - val_loss: 0.5253 - val_accuracy: 0.7300\n",
      "Epoch 40/50\n",
      "17/17 [==============================] - 0s 5ms/step - loss: 0.2151 - accuracy: 0.9391 - val_loss: 0.4394 - val_accuracy: 0.7800\n",
      "Epoch 41/50\n",
      "17/17 [==============================] - 0s 4ms/step - loss: 0.2344 - accuracy: 0.9151 - val_loss: 0.3600 - val_accuracy: 0.8500\n",
      "Epoch 42/50\n",
      "17/17 [==============================] - 0s 4ms/step - loss: 0.2240 - accuracy: 0.9207 - val_loss: 0.3303 - val_accuracy: 0.8850\n",
      "Epoch 43/50\n",
      "17/17 [==============================] - 0s 5ms/step - loss: 0.1692 - accuracy: 0.9594 - val_loss: 0.3563 - val_accuracy: 0.8550\n",
      "Epoch 44/50\n",
      "17/17 [==============================] - 0s 5ms/step - loss: 0.1864 - accuracy: 0.9520 - val_loss: 0.7941 - val_accuracy: 0.6700\n",
      "Epoch 45/50\n",
      "17/17 [==============================] - 0s 4ms/step - loss: 0.2255 - accuracy: 0.9170 - val_loss: 0.6313 - val_accuracy: 0.7100\n",
      "Epoch 46/50\n",
      "17/17 [==============================] - 0s 4ms/step - loss: 0.2167 - accuracy: 0.9262 - val_loss: 0.8640 - val_accuracy: 0.6600\n",
      "Epoch 47/50\n",
      "17/17 [==============================] - 0s 4ms/step - loss: 0.2298 - accuracy: 0.9133 - val_loss: 0.5714 - val_accuracy: 0.7100\n",
      "Epoch 48/50\n",
      "17/17 [==============================] - 0s 5ms/step - loss: 0.2188 - accuracy: 0.9188 - val_loss: 0.3458 - val_accuracy: 0.8700\n",
      "Epoch 49/50\n",
      "17/17 [==============================] - 0s 4ms/step - loss: 0.2073 - accuracy: 0.9244 - val_loss: 0.3568 - val_accuracy: 0.8700\n",
      "Epoch 50/50\n",
      "17/17 [==============================] - 0s 5ms/step - loss: 0.1451 - accuracy: 0.9723 - val_loss: 0.3487 - val_accuracy: 0.8700\n"
     ]
    }
   ],
   "source": [
    "model.compile(optimizer='sgd',\n",
    "              loss='binary_crossentropy',\n",
    "              metrics=['accuracy'])\n",
    "\n",
    "history = model.fit(train_img,\n",
    "                    train_y,\n",
    "                    epochs=50,\n",
    "                    batch_size=32,\n",
    "                    validation_data=(val_img, val_y))"
   ]
  },
  {
   "cell_type": "code",
   "execution_count": 27,
   "metadata": {},
   "outputs": [
    {
     "name": "stdout",
     "output_type": "stream",
     "text": [
      "17/17 [==============================] - 0s 2ms/step - loss: 0.1107 - accuracy: 0.9797\n"
     ]
    }
   ],
   "source": [
    "results_train = model.evaluate(train_img, train_y)"
   ]
  },
  {
   "cell_type": "code",
   "execution_count": 28,
   "metadata": {},
   "outputs": [
    {
     "name": "stdout",
     "output_type": "stream",
     "text": [
      "6/6 [==============================] - 0s 2ms/step - loss: 0.3631 - accuracy: 0.8611\n"
     ]
    }
   ],
   "source": [
    "results_test = model.evaluate(test_img, test_y)"
   ]
  },
  {
   "cell_type": "code",
   "execution_count": 29,
   "metadata": {},
   "outputs": [
    {
     "data": {
      "text/plain": [
       "[0.11071138828992844, 0.9797047972679138]"
      ]
     },
     "execution_count": 29,
     "metadata": {},
     "output_type": "execute_result"
    }
   ],
   "source": [
    "results_train"
   ]
  },
  {
   "cell_type": "code",
   "execution_count": 30,
   "metadata": {},
   "outputs": [
    {
     "data": {
      "text/plain": [
       "[0.3630552887916565, 0.8611111044883728]"
      ]
     },
     "execution_count": 30,
     "metadata": {},
     "output_type": "execute_result"
    }
   ],
   "source": [
    "results_test"
   ]
  },
  {
   "cell_type": "markdown",
   "metadata": {},
   "source": [
    "Remember that, in our previous lab on building deeper neural networks from scratch, we obtained a training accuracy of 95%, and a test set accuracy of 74.23%. \n",
    "\n",
    "This result is similar to what we got building our manual \"deeper\" dense model. The results are not entirely different. This is not a surprise!\n",
    "- Before, we only had a training and a validation set (which was at the same time the test set). Now we have split up the data 3-ways.\n",
    "- We didn't use minibatches before, yet we used mini-batches of 32 units here.\n",
    " \n",
    "## Build a CNN"
   ]
  },
  {
   "cell_type": "code",
   "execution_count": 31,
   "metadata": {},
   "outputs": [],
   "source": [
    "model = models.Sequential()\n",
    "model.add(layers.Conv2D(32, (3, 3), activation='relu',\n",
    "                        input_shape=(64 ,64,  3)))\n",
    "model.add(layers.MaxPooling2D((2, 2)))\n",
    "\n",
    "model.add(layers.Conv2D(32, (4, 4), activation='relu'))\n",
    "model.add(layers.MaxPooling2D((2, 2)))\n",
    "\n",
    "model.add(layers.Conv2D(64, (3, 3), activation='relu'))\n",
    "model.add(layers.MaxPooling2D((2, 2)))\n",
    "\n",
    "model.add(layers.Flatten())\n",
    "model.add(layers.Dense(64, activation='relu'))\n",
    "model.add(layers.Dense(1, activation='sigmoid'))\n",
    "\n",
    "model.compile(loss='binary_crossentropy',\n",
    "              optimizer=\"sgd\",\n",
    "              metrics=['acc'])"
   ]
  },
  {
   "cell_type": "code",
   "execution_count": 32,
   "metadata": {},
   "outputs": [
    {
     "name": "stdout",
     "output_type": "stream",
     "text": [
      "Epoch 1/30\n",
      "17/17 [==============================] - 3s 148ms/step - loss: 0.6812 - acc: 0.5000 - val_loss: 0.6731 - val_acc: 0.5000\n",
      "Epoch 2/30\n",
      "17/17 [==============================] - 2s 148ms/step - loss: 0.6751 - acc: 0.5000 - val_loss: 0.6675 - val_acc: 0.5000\n",
      "Epoch 3/30\n",
      "17/17 [==============================] - 2s 145ms/step - loss: 0.6676 - acc: 0.5037 - val_loss: 0.6593 - val_acc: 0.5050\n",
      "Epoch 4/30\n",
      "17/17 [==============================] - 2s 141ms/step - loss: 0.6607 - acc: 0.5037 - val_loss: 0.6514 - val_acc: 0.5300\n",
      "Epoch 5/30\n",
      "17/17 [==============================] - 2s 140ms/step - loss: 0.6528 - acc: 0.5203 - val_loss: 0.6412 - val_acc: 0.5350\n",
      "Epoch 6/30\n",
      "17/17 [==============================] - 2s 141ms/step - loss: 0.6436 - acc: 0.5332 - val_loss: 0.6303 - val_acc: 0.6000\n",
      "Epoch 7/30\n",
      "17/17 [==============================] - 2s 147ms/step - loss: 0.6307 - acc: 0.6125 - val_loss: 0.6150 - val_acc: 0.6150\n",
      "Epoch 8/30\n",
      "17/17 [==============================] - 2s 139ms/step - loss: 0.6165 - acc: 0.6605 - val_loss: 0.5979 - val_acc: 0.7150\n",
      "Epoch 9/30\n",
      "17/17 [==============================] - 2s 143ms/step - loss: 0.5986 - acc: 0.7232 - val_loss: 0.5754 - val_acc: 0.7200\n",
      "Epoch 10/30\n",
      "17/17 [==============================] - 2s 145ms/step - loss: 0.5788 - acc: 0.7528 - val_loss: 0.5509 - val_acc: 0.8500\n",
      "Epoch 11/30\n",
      "17/17 [==============================] - 3s 150ms/step - loss: 0.5534 - acc: 0.8155 - val_loss: 0.5235 - val_acc: 0.7250\n",
      "Epoch 12/30\n",
      "17/17 [==============================] - 2s 139ms/step - loss: 0.5202 - acc: 0.8450 - val_loss: 0.4870 - val_acc: 0.9200\n",
      "Epoch 13/30\n",
      "17/17 [==============================] - 2s 138ms/step - loss: 0.4898 - acc: 0.8653 - val_loss: 0.4693 - val_acc: 0.9000\n",
      "Epoch 14/30\n",
      "17/17 [==============================] - 2s 145ms/step - loss: 0.4637 - acc: 0.8542 - val_loss: 0.4012 - val_acc: 0.9250\n",
      "Epoch 15/30\n",
      "17/17 [==============================] - 2s 143ms/step - loss: 0.4343 - acc: 0.8432 - val_loss: 0.3898 - val_acc: 0.8950\n",
      "Epoch 16/30\n",
      "17/17 [==============================] - 2s 148ms/step - loss: 0.4129 - acc: 0.8579 - val_loss: 0.7240 - val_acc: 0.5800\n",
      "Epoch 17/30\n",
      "17/17 [==============================] - 2s 139ms/step - loss: 0.4437 - acc: 0.8155 - val_loss: 0.3406 - val_acc: 0.9050\n",
      "Epoch 18/30\n",
      "17/17 [==============================] - 2s 143ms/step - loss: 0.3648 - acc: 0.8579 - val_loss: 0.3063 - val_acc: 0.9250\n",
      "Epoch 19/30\n",
      "17/17 [==============================] - 2s 143ms/step - loss: 0.3253 - acc: 0.9022 - val_loss: 0.4251 - val_acc: 0.7850\n",
      "Epoch 20/30\n",
      "17/17 [==============================] - 2s 143ms/step - loss: 0.3741 - acc: 0.8524 - val_loss: 0.2727 - val_acc: 0.9350\n",
      "Epoch 21/30\n",
      "17/17 [==============================] - 2s 138ms/step - loss: 0.3403 - acc: 0.8579 - val_loss: 0.2698 - val_acc: 0.9400\n",
      "Epoch 22/30\n",
      "17/17 [==============================] - 2s 142ms/step - loss: 0.2910 - acc: 0.8967 - val_loss: 0.2544 - val_acc: 0.9200\n",
      "Epoch 23/30\n",
      "17/17 [==============================] - 2s 145ms/step - loss: 0.2759 - acc: 0.8856 - val_loss: 0.2418 - val_acc: 0.9400\n",
      "Epoch 24/30\n",
      "17/17 [==============================] - 2s 146ms/step - loss: 0.3034 - acc: 0.8911 - val_loss: 0.2555 - val_acc: 0.9250\n",
      "Epoch 25/30\n",
      "17/17 [==============================] - 2s 140ms/step - loss: 0.2546 - acc: 0.9170 - val_loss: 0.3465 - val_acc: 0.8300\n",
      "Epoch 26/30\n",
      "17/17 [==============================] - 2s 138ms/step - loss: 0.2881 - acc: 0.8875 - val_loss: 0.2358 - val_acc: 0.9200\n",
      "Epoch 27/30\n",
      "17/17 [==============================] - 2s 145ms/step - loss: 0.2598 - acc: 0.9022 - val_loss: 0.2394 - val_acc: 0.9250\n",
      "Epoch 28/30\n",
      "17/17 [==============================] - 2s 146ms/step - loss: 0.2312 - acc: 0.9096 - val_loss: 0.2191 - val_acc: 0.9400\n",
      "Epoch 29/30\n",
      "17/17 [==============================] - 2s 141ms/step - loss: 0.2635 - acc: 0.8819 - val_loss: 0.2724 - val_acc: 0.8850\n",
      "Epoch 30/30\n",
      "17/17 [==============================] - 2s 140ms/step - loss: 0.2468 - acc: 0.9114 - val_loss: 0.6305 - val_acc: 0.7150\n"
     ]
    }
   ],
   "source": [
    "history = model.fit(train_images,\n",
    "                    train_y,\n",
    "                    epochs=30,\n",
    "                    batch_size=32,\n",
    "                    validation_data=(val_images, val_y))"
   ]
  },
  {
   "cell_type": "code",
   "execution_count": 33,
   "metadata": {},
   "outputs": [
    {
     "name": "stdout",
     "output_type": "stream",
     "text": [
      "17/17 [==============================] - 1s 34ms/step - loss: 0.6788 - acc: 0.6974\n"
     ]
    }
   ],
   "source": [
    "results_train = model.evaluate(train_images, train_y)"
   ]
  },
  {
   "cell_type": "code",
   "execution_count": 34,
   "metadata": {},
   "outputs": [
    {
     "name": "stdout",
     "output_type": "stream",
     "text": [
      "6/6 [==============================] - 0s 31ms/step - loss: 0.6364 - acc: 0.7111\n"
     ]
    }
   ],
   "source": [
    "results_test = model.evaluate(test_images, test_y)"
   ]
  },
  {
   "cell_type": "code",
   "execution_count": 35,
   "metadata": {},
   "outputs": [
    {
     "data": {
      "text/plain": [
       "[0.6788125038146973, 0.6974169611930847]"
      ]
     },
     "execution_count": 35,
     "metadata": {},
     "output_type": "execute_result"
    }
   ],
   "source": [
    "results_train"
   ]
  },
  {
   "cell_type": "code",
   "execution_count": 36,
   "metadata": {},
   "outputs": [
    {
     "data": {
      "text/plain": [
       "[0.6364462971687317, 0.7111111283302307]"
      ]
     },
     "execution_count": 36,
     "metadata": {},
     "output_type": "execute_result"
    }
   ],
   "source": [
    "results_test"
   ]
  },
  {
   "cell_type": "markdown",
   "metadata": {},
   "source": [
    "## Data Augmentation"
   ]
  },
  {
   "cell_type": "markdown",
   "metadata": {},
   "source": [
    "`ImageDataGenerator()` becomes really useful when we *actually* want to generate more data. We'll show you how this works. "
   ]
  },
  {
   "cell_type": "code",
   "execution_count": 38,
   "metadata": {},
   "outputs": [],
   "source": [
    "train_datagen = ImageDataGenerator(rescale=1./255, \n",
    "                                   rotation_range=40, \n",
    "                                   width_shift_range=0.2, \n",
    "                                   height_shift_range=0.2, \n",
    "                                   shear_range=0.3, \n",
    "                                   zoom_range=0.1, \n",
    "                                   horizontal_flip=False)"
   ]
  },
  {
   "cell_type": "code",
   "execution_count": 39,
   "metadata": {},
   "outputs": [
    {
     "data": {
      "image/png": "[encoded data removed]",
      "text/plain": [
       "<Figure size 640x480 with 1 Axes>"
      ]
     },
     "metadata": {},
     "output_type": "display_data"
    },
    {
     "data": {
      "image/png": "[encoded data removed]",
      "text/plain": [
       "<Figure size 640x480 with 1 Axes>"
      ]
     },
     "metadata": {},
     "output_type": "display_data"
    },
    {
     "data": {
      "image/png": "[encoded data removed]",
      "text/plain": [
       "<Figure size 640x480 with 1 Axes>"
      ]
     },
     "metadata": {},
     "output_type": "display_data"
    }
   ],
   "source": [
    "names = [os.path.join(train_santa, name) for name in os.listdir(train_santa)]\n",
    "img_path = names[91]\n",
    "img = load_img(img_path, target_size=(64, 64))\n",
    "\n",
    "reshape_img = img_to_array(img) \n",
    "reshape_img = reshape_img.reshape((1,) + reshape_img.shape) \n",
    "i=0\n",
    "for batch in train_datagen.flow(reshape_img, batch_size=1):\n",
    "    plt.figure(i)\n",
    "    imgplot = plt.imshow(array_to_img(batch[0]))\n",
    "    i += 1\n",
    "    if i % 3 == 0:\n",
    "        break\n",
    "plt.show()"
   ]
  },
  {
   "cell_type": "code",
   "execution_count": 52,
   "metadata": {},
   "outputs": [
    {
     "name": "stdout",
     "output_type": "stream",
     "text": [
      "Found 180 images belonging to 2 classes.\n",
      "Found 200 images belonging to 2 classes.\n",
      "Found 542 images belonging to 2 classes.\n"
     ]
    }
   ],
   "source": [
    "# get all the data in the directory split/test (180 images), and reshape them\n",
    "test_generator = ImageDataGenerator(rescale=1./255).flow_from_directory(\n",
    "        test_folder, \n",
    "        target_size=(64, 64), \n",
    "        batch_size = 180,\n",
    "        class_mode='binary') \n",
    "\n",
    "# get all the data in the directory split/validation (200 images), and reshape them\n",
    "val_generator = ImageDataGenerator(rescale=1./255).flow_from_directory(\n",
    "        val_folder, \n",
    "        target_size=(64, 64),\n",
    "        batch_size = 32,\n",
    "        class_mode='binary')\n",
    "\n",
    "# get all the data in the directory split/train (542 images), and reshape them\n",
    "train_generator = train_datagen.flow_from_directory(\n",
    "        train_folder, \n",
    "        target_size=(64, 64), \n",
    "        batch_size = 32, \n",
    "        class_mode='binary')"
   ]
  },
  {
   "cell_type": "code",
   "execution_count": 48,
   "metadata": {},
   "outputs": [],
   "source": [
    "model = models.Sequential()\n",
    "model.add(layers.Conv2D(32, (3, 3), activation='relu',\n",
    "                        input_shape=(64 ,64,  3)))\n",
    "model.add(layers.MaxPooling2D((2, 2)))\n",
    "\n",
    "model.add(layers.Conv2D(32, (4, 4), activation='relu'))\n",
    "model.add(layers.MaxPooling2D((2, 2)))\n",
    "\n",
    "model.add(layers.Conv2D(64, (3, 3), activation='relu'))\n",
    "model.add(layers.MaxPooling2D((2, 2)))\n",
    "\n",
    "model.add(layers.Flatten())\n",
    "model.add(layers.Dense(64, activation='relu'))\n",
    "model.add(layers.Dense(1, activation='sigmoid'))\n",
    "\n",
    "model.compile(loss='binary_crossentropy',\n",
    "              optimizer= 'sgd',\n",
    "              metrics=['acc'])"
   ]
  },
  {
   "cell_type": "code",
   "execution_count": 49,
   "metadata": {},
   "outputs": [
    {
     "name": "stdout",
     "output_type": "stream",
     "text": [
      "Epoch 1/30\n",
      "17/17 [==============================] - 15s 900ms/step - loss: 0.6801 - acc: 0.4982 - val_loss: 0.6668 - val_acc: 0.5000\n",
      "Epoch 2/30\n",
      "17/17 [==============================] - 14s 826ms/step - loss: 0.6748 - acc: 0.5055 - val_loss: 0.6566 - val_acc: 0.5000\n",
      "Epoch 3/30\n",
      "17/17 [==============================] - 14s 829ms/step - loss: 0.6653 - acc: 0.5055 - val_loss: 0.6443 - val_acc: 0.5250\n",
      "Epoch 4/30\n",
      "17/17 [==============================] - 14s 822ms/step - loss: 0.6527 - acc: 0.5314 - val_loss: 0.6302 - val_acc: 0.5200\n",
      "Epoch 5/30\n",
      "17/17 [==============================] - 14s 823ms/step - loss: 0.6421 - acc: 0.6125 - val_loss: 0.6197 - val_acc: 0.5100\n",
      "Epoch 6/30\n",
      "17/17 [==============================] - 14s 774ms/step - loss: 0.6247 - acc: 0.6550 - val_loss: 0.5899 - val_acc: 0.6350\n",
      "Epoch 7/30\n",
      "17/17 [==============================] - 14s 824ms/step - loss: 0.6045 - acc: 0.7251 - val_loss: 0.5709 - val_acc: 0.6000\n",
      "Epoch 8/30\n",
      "17/17 [==============================] - 14s 838ms/step - loss: 0.5862 - acc: 0.7491 - val_loss: 0.5336 - val_acc: 0.8050\n",
      "Epoch 9/30\n",
      "17/17 [==============================] - 14s 842ms/step - loss: 0.5538 - acc: 0.8229 - val_loss: 0.5129 - val_acc: 0.7200\n",
      "Epoch 10/30\n",
      "17/17 [==============================] - 14s 775ms/step - loss: 0.5323 - acc: 0.7989 - val_loss: 0.4623 - val_acc: 0.8850\n",
      "Epoch 11/30\n",
      "17/17 [==============================] - 14s 829ms/step - loss: 0.5154 - acc: 0.7841 - val_loss: 0.4385 - val_acc: 0.8250\n",
      "Epoch 12/30\n",
      "17/17 [==============================] - 14s 825ms/step - loss: 0.4929 - acc: 0.8118 - val_loss: 0.4262 - val_acc: 0.8100\n",
      "Epoch 13/30\n",
      "17/17 [==============================] - 14s 834ms/step - loss: 0.4668 - acc: 0.8266 - val_loss: 0.3749 - val_acc: 0.9050\n",
      "Epoch 14/30\n",
      "17/17 [==============================] - 14s 837ms/step - loss: 0.4671 - acc: 0.7878 - val_loss: 0.3545 - val_acc: 0.9000\n",
      "Epoch 15/30\n",
      "17/17 [==============================] - 14s 814ms/step - loss: 0.4083 - acc: 0.8542 - val_loss: 0.4566 - val_acc: 0.7900\n",
      "Epoch 16/30\n",
      "17/17 [==============================] - 14s 812ms/step - loss: 0.4613 - acc: 0.7989 - val_loss: 0.3616 - val_acc: 0.8750\n",
      "Epoch 17/30\n",
      "17/17 [==============================] - 14s 834ms/step - loss: 0.3822 - acc: 0.8542 - val_loss: 0.3192 - val_acc: 0.9050\n",
      "Epoch 18/30\n",
      "17/17 [==============================] - 14s 821ms/step - loss: 0.4078 - acc: 0.8284 - val_loss: 0.3365 - val_acc: 0.8900\n",
      "Epoch 19/30\n",
      "17/17 [==============================] - 14s 844ms/step - loss: 0.3665 - acc: 0.8579 - val_loss: 0.3983 - val_acc: 0.8150\n",
      "Epoch 20/30\n",
      "17/17 [==============================] - 14s 829ms/step - loss: 0.4270 - acc: 0.8137 - val_loss: 0.3458 - val_acc: 0.8800\n",
      "Epoch 21/30\n",
      "17/17 [==============================] - 14s 841ms/step - loss: 0.3668 - acc: 0.8542 - val_loss: 0.2725 - val_acc: 0.9350\n",
      "Epoch 22/30\n",
      "17/17 [==============================] - 14s 819ms/step - loss: 0.3620 - acc: 0.8524 - val_loss: 0.4281 - val_acc: 0.7700\n",
      "Epoch 23/30\n",
      "17/17 [==============================] - 14s 801ms/step - loss: 0.3595 - acc: 0.8413 - val_loss: 0.2627 - val_acc: 0.9250\n",
      "Epoch 24/30\n",
      "17/17 [==============================] - 14s 792ms/step - loss: 0.3363 - acc: 0.8782 - val_loss: 0.2587 - val_acc: 0.9250\n",
      "Epoch 25/30\n",
      "17/17 [==============================] - 14s 821ms/step - loss: 0.3215 - acc: 0.8745 - val_loss: 0.2461 - val_acc: 0.9200\n",
      "Epoch 26/30\n",
      "17/17 [==============================] - 14s 792ms/step - loss: 0.3480 - acc: 0.8672 - val_loss: 0.2457 - val_acc: 0.9350\n",
      "Epoch 27/30\n",
      "17/17 [==============================] - 14s 783ms/step - loss: 0.2835 - acc: 0.8985 - val_loss: 0.2393 - val_acc: 0.9300\n",
      "Epoch 28/30\n",
      "17/17 [==============================] - 14s 815ms/step - loss: 0.3253 - acc: 0.8506 - val_loss: 0.2610 - val_acc: 0.9200\n",
      "Epoch 29/30\n",
      "17/17 [==============================] - 14s 832ms/step - loss: 0.2784 - acc: 0.9077 - val_loss: 0.2994 - val_acc: 0.8900\n",
      "Epoch 30/30\n",
      "17/17 [==============================] - 14s 820ms/step - loss: 0.2749 - acc: 0.8967 - val_loss: 0.2647 - val_acc: 0.9200\n"
     ]
    }
   ],
   "source": [
    "history_2 = model.fit(train_generator,\n",
    "                      epochs=30,\n",
    "                      validation_data=val_generator)"
   ]
  },
  {
   "cell_type": "code",
   "execution_count": 53,
   "metadata": {},
   "outputs": [],
   "source": [
    "test_x, test_y = next(test_generator)"
   ]
  },
  {
   "cell_type": "code",
   "execution_count": 54,
   "metadata": {},
   "outputs": [
    {
     "name": "stdout",
     "output_type": "stream",
     "text": [
      "6/6 [==============================] - 0s 31ms/step - loss: 0.3097 - acc: 0.9111\n"
     ]
    }
   ],
   "source": [
    "results_test = model.evaluate(test_x, test_y)"
   ]
  },
  {
   "cell_type": "code",
   "execution_count": 55,
   "metadata": {},
   "outputs": [
    {
     "data": {
      "text/plain": [
       "[0.3097204566001892, 0.9111111164093018]"
      ]
     },
     "execution_count": 55,
     "metadata": {},
     "output_type": "execute_result"
    }
   ],
   "source": [
    "results_test"
   ]
  },
  {
   "cell_type": "markdown",
   "metadata": {},
   "source": [
    "## Summary  \n",
    "\n",
    "In this code along lab, we looked again at some of the preprocessing techniques needed in order to organize our data prior to building a model using Keras. Afterwards, we investigated new code in order to build a CNN for image recognition."
   ]
  }
 ],
 "metadata": {
  "kernelspec": {
   "display_name": "saturn (Python 3)",
   "language": "python",
   "name": "python3"
  },
  "language_info": {
   "codemirror_mode": {
    "name": "ipython",
    "version": 3
   },
   "file_extension": ".py",
   "mimetype": "text/x-python",
   "name": "python",
   "nbconvert_exporter": "python",
   "pygments_lexer": "ipython3",
   "version": "3.10.6"
  }
 },
 "nbformat": 4,
 "nbformat_minor": 2
}
