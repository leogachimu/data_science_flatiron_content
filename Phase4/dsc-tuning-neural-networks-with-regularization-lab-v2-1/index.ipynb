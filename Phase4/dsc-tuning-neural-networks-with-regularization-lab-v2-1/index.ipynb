{
 "cells": [
  {
   "cell_type": "markdown",
   "metadata": {},
   "source": [
    "# Tuning Neural Networks with Regularization - Lab \n",
    "\n",
    "## Introduction\n",
    "\n",
    "In this lab, you'll use a train-test partition as well as a validation set to get better insights about how to tune neural networks using regularization techniques. You'll start by repeating the process from the last section: importing the data and performing preprocessing including one-hot encoding. From there, you'll define and compile the model like before. \n",
    "\n",
    "## Objectives\n",
    "\n",
    "You will be able to:\n",
    "\n",
    "- Apply early stopping criteria with a neural network \n",
    "- Apply L1, L2, and dropout regularization on a neural network  \n",
    "- Examine the effects of training with more data on a neural network  \n",
    "\n",
    "\n",
    "## Load the Data\n",
    "\n",
    "Run the following cell to import some of the libraries and classes you'll need in this lab. "
   ]
  },
  {
   "cell_type": "code",
   "execution_count": 1,
   "metadata": {},
   "outputs": [],
   "source": [
    "import pandas as pd\n",
    "import numpy as np\n",
    "import random\n",
    "import matplotlib.pyplot as plt\n",
    "%matplotlib inline\n",
    "from sklearn.model_selection import train_test_split\n",
    "from keras.utils.np_utils import to_categorical\n",
    "from sklearn.preprocessing import LabelBinarizer\n",
    "from keras.preprocessing.text import Tokenizer\n",
    "\n",
    "import warnings\n",
    "warnings.filterwarnings(action='ignore', category=FutureWarning)"
   ]
  },
  {
   "cell_type": "markdown",
   "metadata": {},
   "source": [
    "The data is stored in the file `'Bank_complaints.csv'`. Load and preview the dataset."
   ]
  },
  {
   "cell_type": "code",
   "execution_count": 2,
   "metadata": {},
   "outputs": [
    {
     "data": {
      "text/html": [
       "<div>\n",
       "<style scoped>\n",
       "    .dataframe tbody tr th:only-of-type {\n",
       "        vertical-align: middle;\n",
       "    }\n",
       "\n",
       "    .dataframe tbody tr th {\n",
       "        vertical-align: top;\n",
       "    }\n",
       "\n",
       "    .dataframe thead th {\n",
       "        text-align: right;\n",
       "    }\n",
       "</style>\n",
       "<table border=\"1\" class=\"dataframe\">\n",
       "  <thead>\n",
       "    <tr style=\"text-align: right;\">\n",
       "      <th></th>\n",
       "      <th>Product</th>\n",
       "      <th>Consumer complaint narrative</th>\n",
       "    </tr>\n",
       "  </thead>\n",
       "  <tbody>\n",
       "    <tr>\n",
       "      <th>0</th>\n",
       "      <td>Student loan</td>\n",
       "      <td>In XX/XX/XXXX I filled out the Fedlaon applica...</td>\n",
       "    </tr>\n",
       "    <tr>\n",
       "      <th>1</th>\n",
       "      <td>Student loan</td>\n",
       "      <td>I am being contacted by a debt collector for p...</td>\n",
       "    </tr>\n",
       "    <tr>\n",
       "      <th>2</th>\n",
       "      <td>Student loan</td>\n",
       "      <td>I cosigned XXXX student loans at SallieMae for...</td>\n",
       "    </tr>\n",
       "    <tr>\n",
       "      <th>3</th>\n",
       "      <td>Student loan</td>\n",
       "      <td>Navient has sytematically and illegally failed...</td>\n",
       "    </tr>\n",
       "    <tr>\n",
       "      <th>4</th>\n",
       "      <td>Student loan</td>\n",
       "      <td>My wife became eligible for XXXX Loan Forgiven...</td>\n",
       "    </tr>\n",
       "    <tr>\n",
       "      <th>...</th>\n",
       "      <td>...</td>\n",
       "      <td>...</td>\n",
       "    </tr>\n",
       "    <tr>\n",
       "      <th>59995</th>\n",
       "      <td>Credit reporting</td>\n",
       "      <td>In XXXX, I defaulted on a credit card with XXX...</td>\n",
       "    </tr>\n",
       "    <tr>\n",
       "      <th>59996</th>\n",
       "      <td>Credit reporting</td>\n",
       "      <td>I HAVE CALLED TRANSUNION JUST ABOUT EVERY MONT...</td>\n",
       "    </tr>\n",
       "    <tr>\n",
       "      <th>59997</th>\n",
       "      <td>Credit reporting</td>\n",
       "      <td>Hello, there is a 2012 Chapter XXXX Bankruptcy...</td>\n",
       "    </tr>\n",
       "    <tr>\n",
       "      <th>59998</th>\n",
       "      <td>Credit reporting</td>\n",
       "      <td>I had a 2 yr internet contract with XXXX XXXX ...</td>\n",
       "    </tr>\n",
       "    <tr>\n",
       "      <th>59999</th>\n",
       "      <td>Credit reporting</td>\n",
       "      <td>I filed a complaint against XXXX XXXX XXXX wit...</td>\n",
       "    </tr>\n",
       "  </tbody>\n",
       "</table>\n",
       "<p>60000 rows × 2 columns</p>\n",
       "</div>"
      ],
      "text/plain": [
       "                Product                       Consumer complaint narrative\n",
       "0          Student loan  In XX/XX/XXXX I filled out the Fedlaon applica...\n",
       "1          Student loan  I am being contacted by a debt collector for p...\n",
       "2          Student loan  I cosigned XXXX student loans at SallieMae for...\n",
       "3          Student loan  Navient has sytematically and illegally failed...\n",
       "4          Student loan  My wife became eligible for XXXX Loan Forgiven...\n",
       "...                 ...                                                ...\n",
       "59995  Credit reporting  In XXXX, I defaulted on a credit card with XXX...\n",
       "59996  Credit reporting  I HAVE CALLED TRANSUNION JUST ABOUT EVERY MONT...\n",
       "59997  Credit reporting  Hello, there is a 2012 Chapter XXXX Bankruptcy...\n",
       "59998  Credit reporting  I had a 2 yr internet contract with XXXX XXXX ...\n",
       "59999  Credit reporting  I filed a complaint against XXXX XXXX XXXX wit...\n",
       "\n",
       "[60000 rows x 2 columns]"
      ]
     },
     "execution_count": 2,
     "metadata": {},
     "output_type": "execute_result"
    }
   ],
   "source": [
    "# Load and preview the dataset\n",
    "df = pd.read_csv('Bank_complaints.csv')\n",
    "df"
   ]
  },
  {
   "cell_type": "markdown",
   "metadata": {},
   "source": [
    "## Preprocessing Overview\n",
    "\n",
    "Before you begin to practice some of your new tools such as regularization and optimization, let's practice munging some data as you did in the previous section with bank complaints. Recall some techniques:\n",
    "\n",
    "* Sampling in order to reduce training time (investigate model accuracy vs data size later on)\n",
    "* Train - test split\n",
    "* One-hot encoding your complaint text\n",
    "* Transforming your category labels \n",
    "\n",
    "## Preprocessing: Generate a Random Sample\n",
    "\n",
    "Since you have quite a bit of data and training neural networks takes a substantial amount of time and resources, downsample in order to test your initial pipeline. Going forward, these can be interesting areas of investigation: how does your model's performance change as you increase (or decrease) the size of your dataset?  \n",
    "\n",
    "- Generate a random sample of 10,000 observations using seed 123 for consistency of results. \n",
    "- Split this sample into `X` and `y` "
   ]
  },
  {
   "cell_type": "code",
   "execution_count": 4,
   "metadata": {},
   "outputs": [],
   "source": [
    "# Downsample the data\n",
    "df_sample = df.sample(n=10000, random_state=123)\n",
    "\n",
    "# Split the data into X and y\n",
    "y = df_sample[\"Product\"]\n",
    "X = df_sample.drop(\"Product\", axis=1)"
   ]
  },
  {
   "cell_type": "markdown",
   "metadata": {},
   "source": [
    "## Train-test split\n",
    "\n",
    "- Split the data into training and test sets \n",
    "- Assign 1500 obervations to the test set and use 42 as the seed "
   ]
  },
  {
   "cell_type": "code",
   "execution_count": 7,
   "metadata": {},
   "outputs": [],
   "source": [
    "# Split data into training and test sets\n",
    "X_train, X_test, y_train, y_test = train_test_split(X, y, test_size=1500, random_state=42)"
   ]
  },
  {
   "cell_type": "markdown",
   "metadata": {},
   "source": [
    "## Validation set \n",
    "\n",
    "As mentioned in the previous lesson, it is good practice to set aside a validation set, which is then used during hyperparameter tuning. Afterwards, when you have decided upon a final model, the test set can then be used to determine an unbiased perforance of the model. \n",
    "\n",
    "Run the cell below to further divide the training data into training and validation sets. "
   ]
  },
  {
   "cell_type": "code",
   "execution_count": 8,
   "metadata": {},
   "outputs": [],
   "source": [
    "# Split the data into training and validation sets\n",
    "X_train_final, X_val, y_train_final, y_val = train_test_split(X_train, y_train, test_size=1000, random_state=42)"
   ]
  },
  {
   "cell_type": "markdown",
   "metadata": {},
   "source": [
    "## Preprocessing: One-hot Encoding the Complaints\n",
    "\n",
    "As before, you need to do some preprocessing before building a neural network model. \n",
    "\n",
    "- Keep the 2,000 most common words and use one-hot encoding to reformat the complaints into a matrix of vectors \n",
    "- Transform the training, validate, and test sets "
   ]
  },
  {
   "cell_type": "code",
   "execution_count": null,
   "metadata": {},
   "outputs": [],
   "source": [
    "# Use one-hot encoding to reformat the complaints into a matrix of vectors \n",
    "# Only keep the 2000 most common words \n",
    "\n",
    "tokenizer = None\n",
    "\n",
    "\n",
    "X_train_tokens = None\n",
    "X_val_tokens = None\n",
    "X_test_tokens = None"
   ]
  },
  {
   "cell_type": "markdown",
   "metadata": {},
   "source": [
    "## Preprocessing: Encoding the Products\n",
    "\n",
    "Similarly, now transform the descriptive product labels to integers labels. After transforming them to integer labels, retransform them into a matrix of binary flags, one for each of the various product labels.  \n",
    "  \n",
    "> **Note**: This is similar to your previous work with dummy variables. Each of the various product categories will be its own column, and each observation will be a row. In turn, each of these observation rows will have a 1 in the column associated with it's label, and all other entries for the row will be zero. \n",
    "\n",
    "Transform the training, validate, and test sets. "
   ]
  },
  {
   "cell_type": "code",
   "execution_count": null,
   "metadata": {},
   "outputs": [],
   "source": [
    "# Transform the product labels to numerical values\n",
    "lb = None\n",
    "\n",
    "\n",
    "y_train_lb = None\n",
    "y_val_lb = None\n",
    "y_test_lb = None"
   ]
  },
  {
   "cell_type": "markdown",
   "metadata": {},
   "source": [
    "## A Baseline Model \n",
    "\n",
    "Rebuild a fully connected (Dense) layer network:  \n",
    "- Use 2 hidden layers with 50 units in the first and 25 in the second layer, both with `'relu'` activation functions (since you are dealing with a multiclass problem, classifying the complaints into 7 classes) \n",
    "- Use a `'softmax'` activation function for the output layer  "
   ]
  },
  {
   "cell_type": "code",
   "execution_count": 11,
   "metadata": {},
   "outputs": [],
   "source": [
    "# Build a baseline neural network model using Keras\n",
    "random.seed(123)\n",
    "from keras import models\n",
    "from keras import layers\n",
    "baseline_model = None"
   ]
  },
  {
   "cell_type": "markdown",
   "metadata": {},
   "source": [
    "### Compile the Model\n",
    "\n",
    "Compile this model with: \n",
    "\n",
    "- a stochastic gradient descent optimizer \n",
    "- `'categorical_crossentropy'` as the loss function \n",
    "- a focus on `'accuracy'` "
   ]
  },
  {
   "cell_type": "code",
   "execution_count": null,
   "metadata": {},
   "outputs": [],
   "source": [
    "# Compile the model\n"
   ]
  },
  {
   "cell_type": "markdown",
   "metadata": {},
   "source": [
    "### Train the Model\n",
    "\n",
    "- Train the model for 150 epochs in mini-batches of 256 samples \n",
    "- Include the `validation_data` argument to ensure you keep track of the validation loss  "
   ]
  },
  {
   "cell_type": "code",
   "execution_count": null,
   "metadata": {},
   "outputs": [],
   "source": [
    "# Train the model\n",
    "baseline_model_val = None"
   ]
  },
  {
   "cell_type": "markdown",
   "metadata": {},
   "source": [
    "### Model Performance\n",
    "\n",
    "The attribute `.history` (stored as a dictionary) contains four entries now: one per metric that was being monitored during training and validation. Print the keys of this dictionary for confirmation: "
   ]
  },
  {
   "cell_type": "code",
   "execution_count": null,
   "metadata": {},
   "outputs": [],
   "source": [
    "# Access the history attribute and store the dictionary\n",
    "baseline_model_val_dict = None\n",
    "\n",
    "# Print the keys\n"
   ]
  },
  {
   "cell_type": "markdown",
   "metadata": {},
   "source": [
    "Evaluate this model on the training data: "
   ]
  },
  {
   "cell_type": "code",
   "execution_count": null,
   "metadata": {},
   "outputs": [],
   "source": [
    "results_train = None\n",
    "print('----------')\n",
    "print(f'Training Loss: {results_train[0]:.3} \\nTraining Accuracy: {results_train[1]:.3}')"
   ]
  },
  {
   "cell_type": "markdown",
   "metadata": {},
   "source": [
    "Evaluate this model on the test data: "
   ]
  },
  {
   "cell_type": "code",
   "execution_count": null,
   "metadata": {},
   "outputs": [],
   "source": [
    "results_test = None\n",
    "print('----------')\n",
    "print(f'Test Loss: {results_test[0]:.3} \\nTest Accuracy: {results_test[1]:.3}')"
   ]
  },
  {
   "cell_type": "markdown",
   "metadata": {},
   "source": [
    "### Plot the Results \n",
    "\n",
    "Plot the loss versus the number of epochs. Be sure to include the training and the validation loss in the same plot. "
   ]
  },
  {
   "cell_type": "code",
   "execution_count": null,
   "metadata": {},
   "outputs": [],
   "source": [
    "# Loss vs number of epochs with train and validation sets"
   ]
  },
  {
   "cell_type": "markdown",
   "metadata": {},
   "source": [
    "Create a second plot comparing training and validation accuracy to the number of epochs. "
   ]
  },
  {
   "cell_type": "code",
   "execution_count": null,
   "metadata": {},
   "outputs": [],
   "source": [
    "# Accuracy vs number of epochs with train and validation sets"
   ]
  },
  {
   "cell_type": "markdown",
   "metadata": {},
   "source": [
    "Did you notice an interesting pattern here? Although the training accuracy keeps increasing when going through more epochs, and the training loss keeps decreasing, the validation accuracy and loss don't necessarily do the same. After a certain point, validation accuracy keeps swinging, which means that you're probably **overfitting** the model to the training data when you train for many epochs past a certain dropoff point. Let's tackle this now. You will now specify an early stopping point when training your model. \n",
    "\n",
    "\n",
    "## Early Stopping\n",
    "\n",
    "Overfitting neural networks is something you **_want_** to avoid at all costs. However, it's not possible to know in advance how many *epochs* you need to train your model on, and running the model multiple times with varying number of *epochs* maybe helpful, but is a time-consuming process. \n",
    "\n",
    "We've defined a model with the same architecture as above. This time specify an early stopping point when training the model. "
   ]
  },
  {
   "cell_type": "code",
   "execution_count": null,
   "metadata": {},
   "outputs": [],
   "source": [
    "random.seed(123)\n",
    "model_2 = models.Sequential()\n",
    "model_2.add(layers.Dense(50, activation='relu', input_shape=(2000,)))\n",
    "model_2.add(layers.Dense(25, activation='relu'))\n",
    "model_2.add(layers.Dense(7, activation='softmax'))\n",
    "\n",
    "model_2.compile(optimizer='SGD', \n",
    "                loss='categorical_crossentropy', \n",
    "                metrics=['acc'])"
   ]
  },
  {
   "cell_type": "markdown",
   "metadata": {},
   "source": [
    "- Import `EarlyStopping` and `ModelCheckpoint` from `keras.callbacks` \n",
    "- Define a list, `early_stopping`: \n",
    "  - Monitor `'val_loss'` and continue training for 10 epochs before stopping \n",
    "  - Save the best model while monitoring `'val_loss'` \n",
    " \n",
    "> If you need help, consult [documentation](https://keras.io/callbacks/).   "
   ]
  },
  {
   "cell_type": "code",
   "execution_count": null,
   "metadata": {},
   "outputs": [],
   "source": [
    "# Import EarlyStopping and ModelCheckpoint\n",
    "\n",
    "\n",
    "# Define the callbacks\n",
    "early_stopping = None"
   ]
  },
  {
   "cell_type": "markdown",
   "metadata": {},
   "source": [
    "Train `model_2`. Make sure you set the `callbacks` argument to `early_stopping`. "
   ]
  },
  {
   "cell_type": "code",
   "execution_count": null,
   "metadata": {},
   "outputs": [],
   "source": [
    "model_2_val = None"
   ]
  },
  {
   "cell_type": "markdown",
   "metadata": {},
   "source": [
    "Load the best (saved) model. "
   ]
  },
  {
   "cell_type": "code",
   "execution_count": null,
   "metadata": {},
   "outputs": [],
   "source": [
    "# Load the best (saved) model\n",
    "\n",
    "saved_model = None"
   ]
  },
  {
   "cell_type": "markdown",
   "metadata": {},
   "source": [
    "Now, use this model to to calculate the training and test accuracy: "
   ]
  },
  {
   "cell_type": "code",
   "execution_count": null,
   "metadata": {},
   "outputs": [],
   "source": [
    "results_train = saved_model.evaluate(X_train_tokens, y_train_lb)\n",
    "print(f'Training Loss: {results_train[0]:.3} \\nTraining Accuracy: {results_train[1]:.3}')\n",
    "\n",
    "print('----------')\n",
    "\n",
    "results_test = saved_model.evaluate(X_test_tokens, y_test_lb)\n",
    "print(f'Test Loss: {results_test[0]:.3} \\nTest Accuracy: {results_test[1]:.3}')"
   ]
  },
  {
   "cell_type": "markdown",
   "metadata": {},
   "source": [
    "Nicely done! Did you notice that the model didn't train for all 150 epochs? You reduced your training time. \n",
    "\n",
    "Now, take a look at how regularization techniques can further improve your model performance. \n",
    "\n",
    "## L2 Regularization \n",
    "\n",
    "First, take a look at L2 regularization. Keras makes L2 regularization easy. Simply add the `kernel_regularizer=keras.regularizers.l2(lambda_coeff)` parameter to any model layer. The `lambda_coeff` parameter determines the strength of the regularization you wish to perform. \n",
    "\n",
    "- Use 2 hidden layers with 50 units in the first and 25 in the second layer, both with `'relu'` activation functions \n",
    "- Add L2 regularization to both the hidden layers with 0.005 as the `lambda_coeff` "
   ]
  },
  {
   "cell_type": "code",
   "execution_count": null,
   "metadata": {},
   "outputs": [],
   "source": [
    "# Import regularizers\n",
    "\n",
    "random.seed(123)\n",
    "L2_model = models.Sequential()\n",
    "\n",
    "# Add the input and first hidden layer\n",
    "\n",
    "\n",
    "# Add another hidden layer\n",
    "\n",
    "\n",
    "# Add an output layer\n",
    "L2_model.add(layers.Dense(7, activation='softmax'))\n",
    "\n",
    "# Compile the model\n",
    "L2_model.compile(optimizer='SGD', \n",
    "                 loss='categorical_crossentropy', \n",
    "                 metrics=['acc'])\n",
    "\n",
    "# Train the model \n",
    "L2_model_val = L2_model.fit(X_train_tokens, \n",
    "                            y_train_lb, \n",
    "                            epochs=150, \n",
    "                            batch_size=256, \n",
    "                            validation_data=(X_val_tokens, y_val_lb))"
   ]
  },
  {
   "cell_type": "markdown",
   "metadata": {},
   "source": [
    "Now, look at the training as well as the validation accuracy for both the L2 and the baseline models. "
   ]
  },
  {
   "cell_type": "code",
   "execution_count": null,
   "metadata": {},
   "outputs": [],
   "source": [
    "# L2 model details\n",
    "L2_model_dict = L2_model_val.history\n",
    "L2_acc_values = L2_model_dict['acc'] \n",
    "L2_val_acc_values = L2_model_dict['val_acc']\n",
    "\n",
    "# Baseline model\n",
    "baseline_model_acc = baseline_model_val_dict['acc'] \n",
    "baseline_model_val_acc = baseline_model_val_dict['val_acc']\n",
    "\n",
    "# Plot the accuracy for these models\n",
    "fig, ax = plt.subplots(figsize=(12, 8))\n",
    "epochs = range(1, len(acc_values) + 1)\n",
    "ax.plot(epochs, L2_acc_values, label='Training acc L2')\n",
    "ax.plot(epochs, L2_val_acc_values, label='Validation acc L2')\n",
    "ax.plot(epochs, baseline_model_acc, label='Training acc')\n",
    "ax.plot(epochs, baseline_model_val_acc, label='Validation acc')\n",
    "ax.set_title('Training & validation accuracy L2 vs regular')\n",
    "ax.set_xlabel('Epochs')\n",
    "ax.set_ylabel('Accuracy')\n",
    "ax.legend();"
   ]
  },
  {
   "cell_type": "markdown",
   "metadata": {},
   "source": [
    "The results of L2 regularization are quite disappointing here. Notice the discrepancy between validation and training accuracy seems to have decreased slightly, but the end result is definitely not getting better.  \n",
    "\n",
    "\n",
    "## L1 Regularization\n",
    "\n",
    "Now have a look at L1 regularization. Will this work better? \n",
    "\n",
    "- Use 2 hidden layers with 50 units in the first and 25 in the second layer, both with `'relu'` activation functions \n",
    "- Add L1 regularization to both the hidden layers with 0.005 as the `lambda_coeff` "
   ]
  },
  {
   "cell_type": "code",
   "execution_count": null,
   "metadata": {},
   "outputs": [],
   "source": [
    "random.seed(123)\n",
    "L1_model = models.Sequential()\n",
    "\n",
    "# Add the input and first hidden layer\n",
    "\n",
    "\n",
    "# Add a hidden layer\n",
    "\n",
    "\n",
    "# Add an output layer\n",
    "L1_model.add(layers.Dense(7, activation='softmax'))\n",
    "\n",
    "# Compile the model\n",
    "L1_model.compile(optimizer='SGD', \n",
    "                 loss='categorical_crossentropy', \n",
    "                 metrics=['acc'])\n",
    "\n",
    "# Train the model \n",
    "L1_model_val = L1_model.fit(X_train_tokens, \n",
    "                            y_train_lb, \n",
    "                            epochs=150, \n",
    "                            batch_size=256, \n",
    "                            validation_data=(X_val_tokens, y_val_lb))"
   ]
  },
  {
   "cell_type": "markdown",
   "metadata": {},
   "source": [
    "Plot the training as well as the validation accuracy for the L1 model: "
   ]
  },
  {
   "cell_type": "code",
   "execution_count": null,
   "metadata": {
    "scrolled": true
   },
   "outputs": [],
   "source": [
    "fig, ax = plt.subplots(figsize=(12, 8))\n",
    "\n",
    "L1_model_dict = L1_model_val.history\n",
    "\n",
    "acc_values = L1_model_dict['acc'] \n",
    "val_acc_values = L1_model_dict['val_acc']\n",
    "\n",
    "epochs = range(1, len(acc_values) + 1)\n",
    "ax.plot(epochs, acc_values, label='Training acc L1')\n",
    "ax.plot(epochs, val_acc_values, label='Validation acc L1')\n",
    "ax.set_title('Training & validation accuracy with L1 regularization')\n",
    "ax.set_xlabel('Epochs')\n",
    "ax.set_ylabel('Accuracy')\n",
    "ax.legend();"
   ]
  },
  {
   "cell_type": "markdown",
   "metadata": {},
   "source": [
    "Notice how the training and validation accuracy don't diverge as much as before. Unfortunately, the validation accuracy isn't still that good. Next, experiment with dropout regularization to see if it offers any advantages. \n",
    "\n",
    "\n",
    "## Dropout Regularization \n",
    "\n",
    "It's time to try another technique: applying dropout to layers. As discussed in the earlier lesson, this involves setting a certain proportion of units in each layer to zero. In the following cell: \n",
    "\n",
    "- Apply a dropout rate of 30% to the input layer \n",
    "- Add a first hidden layer with 50 units and `'relu'` activation \n",
    "- Apply a dropout rate of 30% to the first hidden layer \n",
    "- Add a second hidden layer with 25 units and `'relu'` activation \n",
    "- Apply a dropout rate of 30% to the second hidden layer \n"
   ]
  },
  {
   "cell_type": "code",
   "execution_count": null,
   "metadata": {},
   "outputs": [],
   "source": [
    "# ⏰ This cell may take about a minute to run\n",
    "random.seed(123)\n",
    "dropout_model = models.Sequential()\n",
    "\n",
    "# Implement dropout to the input layer\n",
    "# NOTE: This is where you define the number of units in the input layer\n",
    "\n",
    "\n",
    "# Add the first hidden layer\n",
    "\n",
    "\n",
    "# Implement dropout to the first hidden layer \n",
    "\n",
    "\n",
    "# Add the second hidden layer\n",
    "\n",
    "\n",
    "# Implement dropout to the second hidden layer \n",
    "\n",
    "\n",
    "# Add the output layer\n",
    "dropout_model.add(layers.Dense(7, activation='softmax'))\n",
    "\n",
    "\n",
    "# Compile the model\n",
    "dropout_model.compile(optimizer='SGD', \n",
    "                      loss='categorical_crossentropy', \n",
    "                      metrics=['acc'])\n",
    "\n",
    "# Train the model\n",
    "dropout_model_val = dropout_model.fit(X_train_tokens, \n",
    "                                      y_train_lb, \n",
    "                                      epochs=150, \n",
    "                                      batch_size=256, \n",
    "                                      validation_data=(X_val_tokens, y_val_lb))"
   ]
  },
  {
   "cell_type": "code",
   "execution_count": null,
   "metadata": {
    "scrolled": true
   },
   "outputs": [],
   "source": [
    "results_train = dropout_model.evaluate(X_train_tokens, y_train_lb)\n",
    "print(f'Training Loss: {results_train[0]:.3} \\nTraining Accuracy: {results_train[1]:.3}')\n",
    "\n",
    "print('----------')\n",
    "\n",
    "results_test = dropout_model.evaluate(X_test_tokens, y_test_lb)\n",
    "print(f'Test Loss: {results_test[0]:.3} \\nTest Accuracy: {results_test[1]:.3}') "
   ]
  },
  {
   "cell_type": "markdown",
   "metadata": {},
   "source": [
    "You can see here that the validation performance has improved again, and the training and test accuracy are very close!  \n",
    "\n",
    "## Bigger Data? \n",
    "\n",
    "Finally, let's examine if we can improve the model's performance just by adding more data. We've quadrapled the sample dataset from 10,000 to 40,000 observations, and all you need to do is run the code! "
   ]
  },
  {
   "cell_type": "code",
   "execution_count": 9,
   "metadata": {},
   "outputs": [],
   "source": [
    "df_bigger_sample = df.sample(40000, random_state=123)\n",
    "\n",
    "X = df['Consumer complaint narrative']\n",
    "y = df['Product']\n",
    "\n",
    "# Train-test split\n",
    "X_train_bigger, X_test_bigger, y_train_bigger, y_test_bigger = train_test_split(X, \n",
    "                                                                                y, \n",
    "                                                                                test_size=6000, \n",
    "                                                                                random_state=42)\n",
    "\n",
    "# Validation set\n",
    "X_train_final_bigger, X_val_bigger, y_train_final_bigger, y_val_bigger = train_test_split(X_train_bigger, \n",
    "                                                                                          y_train_bigger, \n",
    "                                                                                          test_size=4000, \n",
    "                                                                                          random_state=42)\n",
    "\n",
    "\n",
    "# One-hot encoding of the complaints\n",
    "tokenizer = Tokenizer(num_words=2000)\n",
    "tokenizer.fit_on_texts(X_train_final_bigger)\n",
    "\n",
    "X_train_tokens_bigger = tokenizer.texts_to_matrix(X_train_final_bigger, mode='binary')\n",
    "X_val_tokens_bigger = tokenizer.texts_to_matrix(X_val_bigger, mode='binary')\n",
    "X_test_tokens_bigger = tokenizer.texts_to_matrix(X_test_bigger, mode='binary')\n",
    "\n",
    "# One-hot encoding of products\n",
    "lb = LabelBinarizer()\n",
    "lb.fit(y_train_final_bigger)\n",
    "\n",
    "y_train_lb_bigger = to_categorical(lb.transform(y_train_final_bigger))[:, :, 1]\n",
    "y_val_lb_bigger = to_categorical(lb.transform(y_val_bigger))[:, :, 1]\n",
    "y_test_lb_bigger = to_categorical(lb.transform(y_test_bigger))[:, :, 1]"
   ]
  },
  {
   "cell_type": "code",
   "execution_count": 12,
   "metadata": {},
   "outputs": [
    {
     "name": "stderr",
     "output_type": "stream",
     "text": [
      "2024-01-16 08:25:12.832022: I tensorflow/core/platform/cpu_feature_guard.cc:193] This TensorFlow binary is optimized with oneAPI Deep Neural Network Library (oneDNN) to use the following CPU instructions in performance-critical operations:  SSE4.1 SSE4.2 AVX AVX2 AVX512F FMA\n",
      "To enable them in other operations, rebuild TensorFlow with the appropriate compiler flags.\n"
     ]
    },
    {
     "name": "stdout",
     "output_type": "stream",
     "text": [
      "Epoch 1/150\n",
      "196/196 [==============================] - 1s 5ms/step - loss: 1.9054 - acc: 0.2076 - val_loss: 1.8585 - val_acc: 0.2455\n",
      "Epoch 2/150\n",
      "196/196 [==============================] - 1s 4ms/step - loss: 1.7787 - acc: 0.2932 - val_loss: 1.6856 - val_acc: 0.3555\n",
      "Epoch 3/150\n",
      "196/196 [==============================] - 1s 4ms/step - loss: 1.5443 - acc: 0.4627 - val_loss: 1.4054 - val_acc: 0.5605\n",
      "Epoch 4/150\n",
      "196/196 [==============================] - 1s 5ms/step - loss: 1.2444 - acc: 0.6294 - val_loss: 1.1152 - val_acc: 0.6665\n",
      "Epoch 5/150\n",
      "196/196 [==============================] - 1s 4ms/step - loss: 0.9927 - acc: 0.6977 - val_loss: 0.9183 - val_acc: 0.7063\n",
      "Epoch 6/150\n",
      "196/196 [==============================] - 1s 4ms/step - loss: 0.8378 - acc: 0.7258 - val_loss: 0.8073 - val_acc: 0.7245\n",
      "Epoch 7/150\n",
      "196/196 [==============================] - 1s 4ms/step - loss: 0.7504 - acc: 0.7417 - val_loss: 0.7464 - val_acc: 0.7360\n",
      "Epoch 8/150\n",
      "196/196 [==============================] - 1s 4ms/step - loss: 0.6973 - acc: 0.7546 - val_loss: 0.7082 - val_acc: 0.7440\n",
      "Epoch 9/150\n",
      "196/196 [==============================] - 1s 4ms/step - loss: 0.6615 - acc: 0.7634 - val_loss: 0.6843 - val_acc: 0.7523\n",
      "Epoch 10/150\n",
      "196/196 [==============================] - 1s 5ms/step - loss: 0.6352 - acc: 0.7718 - val_loss: 0.6631 - val_acc: 0.7590\n",
      "Epoch 11/150\n",
      "196/196 [==============================] - 1s 4ms/step - loss: 0.6148 - acc: 0.7780 - val_loss: 0.6480 - val_acc: 0.7595\n",
      "Epoch 12/150\n",
      "196/196 [==============================] - 1s 4ms/step - loss: 0.5976 - acc: 0.7841 - val_loss: 0.6366 - val_acc: 0.7655\n",
      "Epoch 13/150\n",
      "196/196 [==============================] - 1s 4ms/step - loss: 0.5832 - acc: 0.7895 - val_loss: 0.6212 - val_acc: 0.7732\n",
      "Epoch 14/150\n",
      "196/196 [==============================] - 1s 4ms/step - loss: 0.5707 - acc: 0.7932 - val_loss: 0.6187 - val_acc: 0.7765\n",
      "Epoch 15/150\n",
      "196/196 [==============================] - 1s 4ms/step - loss: 0.5595 - acc: 0.7978 - val_loss: 0.6041 - val_acc: 0.7785\n",
      "Epoch 16/150\n",
      "196/196 [==============================] - 1s 5ms/step - loss: 0.5496 - acc: 0.8022 - val_loss: 0.5983 - val_acc: 0.7857\n",
      "Epoch 17/150\n",
      "196/196 [==============================] - 1s 4ms/step - loss: 0.5404 - acc: 0.8059 - val_loss: 0.5914 - val_acc: 0.7853\n",
      "Epoch 18/150\n",
      "196/196 [==============================] - 1s 4ms/step - loss: 0.5321 - acc: 0.8082 - val_loss: 0.5895 - val_acc: 0.7835\n",
      "Epoch 19/150\n",
      "196/196 [==============================] - 1s 4ms/step - loss: 0.5241 - acc: 0.8124 - val_loss: 0.5923 - val_acc: 0.7815\n",
      "Epoch 20/150\n",
      "196/196 [==============================] - 1s 4ms/step - loss: 0.5173 - acc: 0.8150 - val_loss: 0.5816 - val_acc: 0.7845\n",
      "Epoch 21/150\n",
      "196/196 [==============================] - 1s 4ms/step - loss: 0.5104 - acc: 0.8170 - val_loss: 0.5747 - val_acc: 0.7910\n",
      "Epoch 22/150\n",
      "196/196 [==============================] - 1s 5ms/step - loss: 0.5042 - acc: 0.8188 - val_loss: 0.5712 - val_acc: 0.7972\n",
      "Epoch 23/150\n",
      "196/196 [==============================] - 1s 4ms/step - loss: 0.4982 - acc: 0.8226 - val_loss: 0.5662 - val_acc: 0.7960\n",
      "Epoch 24/150\n",
      "196/196 [==============================] - 1s 4ms/step - loss: 0.4925 - acc: 0.8243 - val_loss: 0.5687 - val_acc: 0.7975\n",
      "Epoch 25/150\n",
      "196/196 [==============================] - 1s 4ms/step - loss: 0.4877 - acc: 0.8263 - val_loss: 0.5595 - val_acc: 0.7972\n",
      "Epoch 26/150\n",
      "196/196 [==============================] - 1s 4ms/step - loss: 0.4825 - acc: 0.8276 - val_loss: 0.5607 - val_acc: 0.7987\n",
      "Epoch 27/150\n",
      "196/196 [==============================] - 1s 4ms/step - loss: 0.4778 - acc: 0.8302 - val_loss: 0.5562 - val_acc: 0.8000\n",
      "Epoch 28/150\n",
      "196/196 [==============================] - 1s 4ms/step - loss: 0.4732 - acc: 0.8320 - val_loss: 0.5563 - val_acc: 0.8015\n",
      "Epoch 29/150\n",
      "196/196 [==============================] - 1s 5ms/step - loss: 0.4690 - acc: 0.8345 - val_loss: 0.5532 - val_acc: 0.8027\n",
      "Epoch 30/150\n",
      "196/196 [==============================] - 1s 4ms/step - loss: 0.4650 - acc: 0.8354 - val_loss: 0.5534 - val_acc: 0.8018\n",
      "Epoch 31/150\n",
      "196/196 [==============================] - 1s 4ms/step - loss: 0.4611 - acc: 0.8371 - val_loss: 0.5514 - val_acc: 0.8033\n",
      "Epoch 32/150\n",
      "196/196 [==============================] - 1s 4ms/step - loss: 0.4574 - acc: 0.8380 - val_loss: 0.5490 - val_acc: 0.8045\n",
      "Epoch 33/150\n",
      "196/196 [==============================] - 1s 5ms/step - loss: 0.4540 - acc: 0.8396 - val_loss: 0.5469 - val_acc: 0.8070\n",
      "Epoch 34/150\n",
      "196/196 [==============================] - 1s 5ms/step - loss: 0.4504 - acc: 0.8411 - val_loss: 0.5557 - val_acc: 0.8002\n",
      "Epoch 35/150\n",
      "196/196 [==============================] - 1s 4ms/step - loss: 0.4473 - acc: 0.8419 - val_loss: 0.5462 - val_acc: 0.8045\n",
      "Epoch 36/150\n",
      "196/196 [==============================] - 1s 4ms/step - loss: 0.4438 - acc: 0.8434 - val_loss: 0.5414 - val_acc: 0.8058\n",
      "Epoch 37/150\n",
      "196/196 [==============================] - 1s 4ms/step - loss: 0.4409 - acc: 0.8449 - val_loss: 0.5420 - val_acc: 0.8077\n",
      "Epoch 38/150\n",
      "196/196 [==============================] - 1s 4ms/step - loss: 0.4376 - acc: 0.8459 - val_loss: 0.5412 - val_acc: 0.8083\n",
      "Epoch 39/150\n",
      "196/196 [==============================] - 1s 5ms/step - loss: 0.4351 - acc: 0.8469 - val_loss: 0.5398 - val_acc: 0.8080\n",
      "Epoch 40/150\n",
      "196/196 [==============================] - 1s 4ms/step - loss: 0.4324 - acc: 0.8473 - val_loss: 0.5396 - val_acc: 0.8098\n",
      "Epoch 41/150\n",
      "196/196 [==============================] - 1s 4ms/step - loss: 0.4298 - acc: 0.8492 - val_loss: 0.5400 - val_acc: 0.8075\n",
      "Epoch 42/150\n",
      "196/196 [==============================] - 1s 4ms/step - loss: 0.4273 - acc: 0.8492 - val_loss: 0.5427 - val_acc: 0.8073\n",
      "Epoch 43/150\n",
      "196/196 [==============================] - 1s 4ms/step - loss: 0.4245 - acc: 0.8506 - val_loss: 0.5391 - val_acc: 0.8108\n",
      "Epoch 44/150\n",
      "196/196 [==============================] - 1s 4ms/step - loss: 0.4217 - acc: 0.8515 - val_loss: 0.5367 - val_acc: 0.8090\n",
      "Epoch 45/150\n",
      "196/196 [==============================] - 1s 5ms/step - loss: 0.4197 - acc: 0.8530 - val_loss: 0.5361 - val_acc: 0.8098\n",
      "Epoch 46/150\n",
      "196/196 [==============================] - 1s 4ms/step - loss: 0.4175 - acc: 0.8523 - val_loss: 0.5371 - val_acc: 0.8127\n",
      "Epoch 47/150\n",
      "196/196 [==============================] - 1s 4ms/step - loss: 0.4150 - acc: 0.8539 - val_loss: 0.5406 - val_acc: 0.8075\n",
      "Epoch 48/150\n",
      "196/196 [==============================] - 1s 4ms/step - loss: 0.4130 - acc: 0.8544 - val_loss: 0.5365 - val_acc: 0.8142\n",
      "Epoch 49/150\n",
      "196/196 [==============================] - 1s 4ms/step - loss: 0.4106 - acc: 0.8559 - val_loss: 0.5361 - val_acc: 0.8110\n",
      "Epoch 50/150\n",
      "196/196 [==============================] - 1s 4ms/step - loss: 0.4084 - acc: 0.8572 - val_loss: 0.5373 - val_acc: 0.8090\n",
      "Epoch 51/150\n",
      "196/196 [==============================] - 1s 4ms/step - loss: 0.4065 - acc: 0.8570 - val_loss: 0.5372 - val_acc: 0.8133\n",
      "Epoch 52/150\n",
      "196/196 [==============================] - 1s 4ms/step - loss: 0.4046 - acc: 0.8573 - val_loss: 0.5363 - val_acc: 0.8110\n",
      "Epoch 53/150\n",
      "196/196 [==============================] - 1s 4ms/step - loss: 0.4028 - acc: 0.8588 - val_loss: 0.5415 - val_acc: 0.8087\n",
      "Epoch 54/150\n",
      "196/196 [==============================] - 1s 4ms/step - loss: 0.4009 - acc: 0.8592 - val_loss: 0.5356 - val_acc: 0.8130\n",
      "Epoch 55/150\n",
      "196/196 [==============================] - 1s 4ms/step - loss: 0.3989 - acc: 0.8610 - val_loss: 0.5382 - val_acc: 0.8125\n",
      "Epoch 56/150\n",
      "196/196 [==============================] - 1s 4ms/step - loss: 0.3971 - acc: 0.8609 - val_loss: 0.5372 - val_acc: 0.8085\n",
      "Epoch 57/150\n",
      "196/196 [==============================] - 1s 5ms/step - loss: 0.3952 - acc: 0.8605 - val_loss: 0.5429 - val_acc: 0.8065\n",
      "Epoch 58/150\n",
      "196/196 [==============================] - 1s 4ms/step - loss: 0.3939 - acc: 0.8620 - val_loss: 0.5357 - val_acc: 0.8142\n",
      "Epoch 59/150\n",
      "196/196 [==============================] - 1s 4ms/step - loss: 0.3917 - acc: 0.8626 - val_loss: 0.5375 - val_acc: 0.8085\n",
      "Epoch 60/150\n",
      "196/196 [==============================] - 1s 4ms/step - loss: 0.3902 - acc: 0.8630 - val_loss: 0.5395 - val_acc: 0.8070\n",
      "Epoch 61/150\n",
      "196/196 [==============================] - 1s 4ms/step - loss: 0.3887 - acc: 0.8640 - val_loss: 0.5380 - val_acc: 0.8117\n",
      "Epoch 62/150\n"
     ]
    },
    {
     "name": "stdout",
     "output_type": "stream",
     "text": [
      "196/196 [==============================] - 1s 4ms/step - loss: 0.3870 - acc: 0.8642 - val_loss: 0.5374 - val_acc: 0.8115\n",
      "Epoch 63/150\n",
      "196/196 [==============================] - 1s 5ms/step - loss: 0.3855 - acc: 0.8644 - val_loss: 0.5407 - val_acc: 0.8070\n",
      "Epoch 64/150\n",
      "196/196 [==============================] - 1s 4ms/step - loss: 0.3838 - acc: 0.8649 - val_loss: 0.5387 - val_acc: 0.8140\n",
      "Epoch 65/150\n",
      "196/196 [==============================] - 1s 4ms/step - loss: 0.3825 - acc: 0.8665 - val_loss: 0.5386 - val_acc: 0.8112\n",
      "Epoch 66/150\n",
      "196/196 [==============================] - 1s 4ms/step - loss: 0.3810 - acc: 0.8669 - val_loss: 0.5438 - val_acc: 0.8077\n",
      "Epoch 67/150\n",
      "196/196 [==============================] - 1s 4ms/step - loss: 0.3798 - acc: 0.8671 - val_loss: 0.5411 - val_acc: 0.8133\n",
      "Epoch 68/150\n",
      "196/196 [==============================] - 1s 4ms/step - loss: 0.3781 - acc: 0.8674 - val_loss: 0.5430 - val_acc: 0.8085\n",
      "Epoch 69/150\n",
      "196/196 [==============================] - 1s 5ms/step - loss: 0.3769 - acc: 0.8673 - val_loss: 0.5404 - val_acc: 0.8138\n",
      "Epoch 70/150\n",
      "196/196 [==============================] - 1s 4ms/step - loss: 0.3751 - acc: 0.8687 - val_loss: 0.5393 - val_acc: 0.8140\n",
      "Epoch 71/150\n",
      "196/196 [==============================] - 1s 4ms/step - loss: 0.3740 - acc: 0.8692 - val_loss: 0.5396 - val_acc: 0.8133\n",
      "Epoch 72/150\n",
      "196/196 [==============================] - 1s 4ms/step - loss: 0.3729 - acc: 0.8687 - val_loss: 0.5390 - val_acc: 0.8092\n",
      "Epoch 73/150\n",
      "196/196 [==============================] - 1s 4ms/step - loss: 0.3714 - acc: 0.8694 - val_loss: 0.5435 - val_acc: 0.8125\n",
      "Epoch 74/150\n",
      "196/196 [==============================] - 1s 4ms/step - loss: 0.3700 - acc: 0.8700 - val_loss: 0.5440 - val_acc: 0.8055\n",
      "Epoch 75/150\n",
      "196/196 [==============================] - 1s 4ms/step - loss: 0.3688 - acc: 0.8703 - val_loss: 0.5421 - val_acc: 0.8105\n",
      "Epoch 76/150\n",
      "196/196 [==============================] - 1s 4ms/step - loss: 0.3673 - acc: 0.8713 - val_loss: 0.5402 - val_acc: 0.8112\n",
      "Epoch 77/150\n",
      "196/196 [==============================] - 1s 4ms/step - loss: 0.3662 - acc: 0.8708 - val_loss: 0.5423 - val_acc: 0.8112\n",
      "Epoch 78/150\n",
      "196/196 [==============================] - 1s 4ms/step - loss: 0.3649 - acc: 0.8716 - val_loss: 0.5419 - val_acc: 0.8160\n",
      "Epoch 79/150\n",
      "196/196 [==============================] - 1s 4ms/step - loss: 0.3637 - acc: 0.8720 - val_loss: 0.5451 - val_acc: 0.8112\n",
      "Epoch 80/150\n",
      "196/196 [==============================] - 1s 4ms/step - loss: 0.3624 - acc: 0.8725 - val_loss: 0.5456 - val_acc: 0.8090\n",
      "Epoch 81/150\n",
      "196/196 [==============================] - 1s 5ms/step - loss: 0.3614 - acc: 0.8733 - val_loss: 0.5434 - val_acc: 0.8110\n",
      "Epoch 82/150\n",
      "196/196 [==============================] - 1s 4ms/step - loss: 0.3603 - acc: 0.8733 - val_loss: 0.5439 - val_acc: 0.8127\n",
      "Epoch 83/150\n",
      "196/196 [==============================] - 1s 4ms/step - loss: 0.3594 - acc: 0.8737 - val_loss: 0.5452 - val_acc: 0.8133\n",
      "Epoch 84/150\n",
      "196/196 [==============================] - 1s 4ms/step - loss: 0.3578 - acc: 0.8753 - val_loss: 0.5481 - val_acc: 0.8070\n",
      "Epoch 85/150\n",
      "196/196 [==============================] - 1s 4ms/step - loss: 0.3566 - acc: 0.8758 - val_loss: 0.5481 - val_acc: 0.8115\n",
      "Epoch 86/150\n",
      "196/196 [==============================] - 1s 4ms/step - loss: 0.3558 - acc: 0.8749 - val_loss: 0.5479 - val_acc: 0.8115\n",
      "Epoch 87/150\n",
      "196/196 [==============================] - 1s 4ms/step - loss: 0.3548 - acc: 0.8758 - val_loss: 0.5491 - val_acc: 0.8105\n",
      "Epoch 88/150\n",
      "196/196 [==============================] - 1s 4ms/step - loss: 0.3536 - acc: 0.8765 - val_loss: 0.5483 - val_acc: 0.8102\n",
      "Epoch 89/150\n",
      "196/196 [==============================] - 1s 4ms/step - loss: 0.3526 - acc: 0.8764 - val_loss: 0.5486 - val_acc: 0.8095\n",
      "Epoch 90/150\n",
      "196/196 [==============================] - 1s 4ms/step - loss: 0.3514 - acc: 0.8771 - val_loss: 0.5555 - val_acc: 0.8070\n",
      "Epoch 91/150\n",
      "196/196 [==============================] - 1s 4ms/step - loss: 0.3506 - acc: 0.8769 - val_loss: 0.5484 - val_acc: 0.8133\n",
      "Epoch 92/150\n",
      "196/196 [==============================] - 1s 5ms/step - loss: 0.3491 - acc: 0.8764 - val_loss: 0.5507 - val_acc: 0.8120\n",
      "Epoch 93/150\n",
      "196/196 [==============================] - 1s 4ms/step - loss: 0.3483 - acc: 0.8779 - val_loss: 0.5522 - val_acc: 0.8125\n",
      "Epoch 94/150\n",
      "196/196 [==============================] - 1s 4ms/step - loss: 0.3470 - acc: 0.8783 - val_loss: 0.5513 - val_acc: 0.8073\n",
      "Epoch 95/150\n",
      "196/196 [==============================] - 1s 4ms/step - loss: 0.3460 - acc: 0.8786 - val_loss: 0.5544 - val_acc: 0.8127\n",
      "Epoch 96/150\n",
      "196/196 [==============================] - 1s 4ms/step - loss: 0.3451 - acc: 0.8783 - val_loss: 0.5561 - val_acc: 0.8087\n",
      "Epoch 97/150\n",
      "196/196 [==============================] - 1s 4ms/step - loss: 0.3441 - acc: 0.8790 - val_loss: 0.5534 - val_acc: 0.8108\n",
      "Epoch 98/150\n",
      "196/196 [==============================] - 1s 5ms/step - loss: 0.3434 - acc: 0.8797 - val_loss: 0.5532 - val_acc: 0.8092\n",
      "Epoch 99/150\n",
      "196/196 [==============================] - 1s 4ms/step - loss: 0.3422 - acc: 0.8803 - val_loss: 0.5571 - val_acc: 0.8073\n",
      "Epoch 100/150\n",
      "196/196 [==============================] - 1s 5ms/step - loss: 0.3412 - acc: 0.8804 - val_loss: 0.5599 - val_acc: 0.8087\n",
      "Epoch 101/150\n",
      "196/196 [==============================] - 1s 4ms/step - loss: 0.3404 - acc: 0.8809 - val_loss: 0.5624 - val_acc: 0.8062\n",
      "Epoch 102/150\n",
      "196/196 [==============================] - 1s 4ms/step - loss: 0.3395 - acc: 0.8810 - val_loss: 0.5612 - val_acc: 0.8043\n",
      "Epoch 103/150\n",
      "196/196 [==============================] - 1s 4ms/step - loss: 0.3382 - acc: 0.8818 - val_loss: 0.5587 - val_acc: 0.8075\n",
      "Epoch 104/150\n",
      "196/196 [==============================] - 1s 5ms/step - loss: 0.3374 - acc: 0.8819 - val_loss: 0.5595 - val_acc: 0.8110\n",
      "Epoch 105/150\n",
      "196/196 [==============================] - 1s 4ms/step - loss: 0.3365 - acc: 0.8825 - val_loss: 0.5583 - val_acc: 0.8095\n",
      "Epoch 106/150\n",
      "196/196 [==============================] - 1s 4ms/step - loss: 0.3356 - acc: 0.8822 - val_loss: 0.5604 - val_acc: 0.8077\n",
      "Epoch 107/150\n",
      "196/196 [==============================] - 1s 4ms/step - loss: 0.3346 - acc: 0.8830 - val_loss: 0.5622 - val_acc: 0.8095\n",
      "Epoch 108/150\n",
      "196/196 [==============================] - 1s 4ms/step - loss: 0.3337 - acc: 0.8839 - val_loss: 0.5642 - val_acc: 0.8070\n",
      "Epoch 109/150\n",
      "196/196 [==============================] - 1s 4ms/step - loss: 0.3325 - acc: 0.8841 - val_loss: 0.5646 - val_acc: 0.8045\n",
      "Epoch 110/150\n",
      "196/196 [==============================] - 1s 4ms/step - loss: 0.3318 - acc: 0.8836 - val_loss: 0.5601 - val_acc: 0.8108\n",
      "Epoch 111/150\n",
      "196/196 [==============================] - 1s 5ms/step - loss: 0.3307 - acc: 0.8840 - val_loss: 0.5705 - val_acc: 0.8012\n",
      "Epoch 112/150\n",
      "196/196 [==============================] - 1s 4ms/step - loss: 0.3301 - acc: 0.8847 - val_loss: 0.5614 - val_acc: 0.8085\n",
      "Epoch 113/150\n",
      "196/196 [==============================] - 1s 4ms/step - loss: 0.3291 - acc: 0.8847 - val_loss: 0.5680 - val_acc: 0.8077\n",
      "Epoch 114/150\n",
      "196/196 [==============================] - 1s 4ms/step - loss: 0.3282 - acc: 0.8850 - val_loss: 0.5675 - val_acc: 0.8098\n",
      "Epoch 115/150\n",
      "196/196 [==============================] - 1s 4ms/step - loss: 0.3268 - acc: 0.8852 - val_loss: 0.5680 - val_acc: 0.8102\n",
      "Epoch 116/150\n",
      "196/196 [==============================] - 1s 5ms/step - loss: 0.3262 - acc: 0.8861 - val_loss: 0.5716 - val_acc: 0.8055\n",
      "Epoch 117/150\n",
      "196/196 [==============================] - 1s 5ms/step - loss: 0.3252 - acc: 0.8863 - val_loss: 0.5714 - val_acc: 0.8050\n",
      "Epoch 118/150\n",
      "196/196 [==============================] - 1s 4ms/step - loss: 0.3245 - acc: 0.8865 - val_loss: 0.5756 - val_acc: 0.8048\n",
      "Epoch 119/150\n",
      "196/196 [==============================] - 1s 4ms/step - loss: 0.3237 - acc: 0.8869 - val_loss: 0.5690 - val_acc: 0.8095\n",
      "Epoch 120/150\n",
      "196/196 [==============================] - 1s 4ms/step - loss: 0.3224 - acc: 0.8873 - val_loss: 0.5683 - val_acc: 0.8090\n",
      "Epoch 121/150\n",
      "196/196 [==============================] - 1s 5ms/step - loss: 0.3218 - acc: 0.8879 - val_loss: 0.5737 - val_acc: 0.8083\n",
      "Epoch 122/150\n",
      "196/196 [==============================] - 1s 4ms/step - loss: 0.3210 - acc: 0.8873 - val_loss: 0.5718 - val_acc: 0.8075\n",
      "Epoch 123/150\n"
     ]
    },
    {
     "name": "stdout",
     "output_type": "stream",
     "text": [
      "196/196 [==============================] - 1s 5ms/step - loss: 0.3198 - acc: 0.8881 - val_loss: 0.5721 - val_acc: 0.8062\n",
      "Epoch 124/150\n",
      "196/196 [==============================] - 1s 4ms/step - loss: 0.3190 - acc: 0.8891 - val_loss: 0.5824 - val_acc: 0.8018\n",
      "Epoch 125/150\n",
      "196/196 [==============================] - 1s 4ms/step - loss: 0.3181 - acc: 0.8886 - val_loss: 0.5733 - val_acc: 0.8070\n",
      "Epoch 126/150\n",
      "196/196 [==============================] - 1s 4ms/step - loss: 0.3174 - acc: 0.8890 - val_loss: 0.5724 - val_acc: 0.8080\n",
      "Epoch 127/150\n",
      "196/196 [==============================] - 1s 5ms/step - loss: 0.3163 - acc: 0.8897 - val_loss: 0.5758 - val_acc: 0.8060\n",
      "Epoch 128/150\n",
      "196/196 [==============================] - 1s 4ms/step - loss: 0.3152 - acc: 0.8899 - val_loss: 0.5787 - val_acc: 0.8090\n",
      "Epoch 129/150\n",
      "196/196 [==============================] - 1s 4ms/step - loss: 0.3146 - acc: 0.8902 - val_loss: 0.5846 - val_acc: 0.8030\n",
      "Epoch 130/150\n",
      "196/196 [==============================] - 1s 4ms/step - loss: 0.3141 - acc: 0.8906 - val_loss: 0.5778 - val_acc: 0.8045\n",
      "Epoch 131/150\n",
      "196/196 [==============================] - 1s 4ms/step - loss: 0.3129 - acc: 0.8911 - val_loss: 0.5781 - val_acc: 0.8058\n",
      "Epoch 132/150\n",
      "196/196 [==============================] - 1s 4ms/step - loss: 0.3121 - acc: 0.8912 - val_loss: 0.5944 - val_acc: 0.8005\n",
      "Epoch 133/150\n",
      "196/196 [==============================] - 1s 5ms/step - loss: 0.3110 - acc: 0.8918 - val_loss: 0.5807 - val_acc: 0.8062\n",
      "Epoch 134/150\n",
      "196/196 [==============================] - 1s 5ms/step - loss: 0.3103 - acc: 0.8920 - val_loss: 0.5814 - val_acc: 0.8087\n",
      "Epoch 135/150\n",
      "196/196 [==============================] - 1s 4ms/step - loss: 0.3093 - acc: 0.8923 - val_loss: 0.5856 - val_acc: 0.8040\n",
      "Epoch 136/150\n",
      "196/196 [==============================] - 1s 5ms/step - loss: 0.3085 - acc: 0.8935 - val_loss: 0.5858 - val_acc: 0.8033\n",
      "Epoch 137/150\n",
      "196/196 [==============================] - 1s 4ms/step - loss: 0.3076 - acc: 0.8937 - val_loss: 0.5843 - val_acc: 0.8062\n",
      "Epoch 138/150\n",
      "196/196 [==============================] - 1s 5ms/step - loss: 0.3066 - acc: 0.8943 - val_loss: 0.5869 - val_acc: 0.8055\n",
      "Epoch 139/150\n",
      "196/196 [==============================] - 1s 5ms/step - loss: 0.3057 - acc: 0.8937 - val_loss: 0.5879 - val_acc: 0.8077\n",
      "Epoch 140/150\n",
      "196/196 [==============================] - 1s 4ms/step - loss: 0.3049 - acc: 0.8940 - val_loss: 0.5872 - val_acc: 0.8065\n",
      "Epoch 141/150\n",
      "196/196 [==============================] - 1s 4ms/step - loss: 0.3040 - acc: 0.8942 - val_loss: 0.5896 - val_acc: 0.8060\n",
      "Epoch 142/150\n",
      "196/196 [==============================] - 1s 4ms/step - loss: 0.3030 - acc: 0.8949 - val_loss: 0.6059 - val_acc: 0.7960\n",
      "Epoch 143/150\n",
      "196/196 [==============================] - 1s 4ms/step - loss: 0.3028 - acc: 0.8948 - val_loss: 0.5921 - val_acc: 0.8043\n",
      "Epoch 144/150\n",
      "196/196 [==============================] - 1s 4ms/step - loss: 0.3011 - acc: 0.8966 - val_loss: 0.6071 - val_acc: 0.7947\n",
      "Epoch 145/150\n",
      "196/196 [==============================] - 1s 4ms/step - loss: 0.3009 - acc: 0.8957 - val_loss: 0.5878 - val_acc: 0.8058\n",
      "Epoch 146/150\n",
      "196/196 [==============================] - 1s 4ms/step - loss: 0.2995 - acc: 0.8964 - val_loss: 0.5903 - val_acc: 0.8087\n",
      "Epoch 147/150\n",
      "196/196 [==============================] - 1s 4ms/step - loss: 0.2987 - acc: 0.8972 - val_loss: 0.5960 - val_acc: 0.8000\n",
      "Epoch 148/150\n",
      "196/196 [==============================] - 1s 4ms/step - loss: 0.2975 - acc: 0.8974 - val_loss: 0.5936 - val_acc: 0.8043\n",
      "Epoch 149/150\n",
      "196/196 [==============================] - 1s 4ms/step - loss: 0.2968 - acc: 0.8973 - val_loss: 0.6054 - val_acc: 0.7985\n",
      "Epoch 150/150\n",
      "196/196 [==============================] - 1s 5ms/step - loss: 0.2962 - acc: 0.8984 - val_loss: 0.5967 - val_acc: 0.8070\n"
     ]
    }
   ],
   "source": [
    "# ⏰ This cell may take several minutes to run\n",
    "random.seed(123)\n",
    "bigger_data_model = models.Sequential()\n",
    "bigger_data_model.add(layers.Dense(50, activation='relu', input_shape=(2000,)))\n",
    "bigger_data_model.add(layers.Dense(25, activation='relu'))\n",
    "bigger_data_model.add(layers.Dense(7, activation='softmax'))\n",
    "\n",
    "bigger_data_model.compile(optimizer='SGD', \n",
    "                          loss='categorical_crossentropy', \n",
    "                          metrics=['acc'])\n",
    "\n",
    "bigger_data_model_val = bigger_data_model.fit(X_train_tokens_bigger,  \n",
    "                                              y_train_lb_bigger,  \n",
    "                                              epochs=150,  \n",
    "                                              batch_size=256,  \n",
    "                                              validation_data=(X_val_tokens_bigger, y_val_lb_bigger))"
   ]
  },
  {
   "cell_type": "code",
   "execution_count": 13,
   "metadata": {},
   "outputs": [
    {
     "name": "stdout",
     "output_type": "stream",
     "text": [
      "1563/1563 [==============================] - 2s 1ms/step - loss: 0.2896 - acc: 0.9019\n",
      "Training Loss: 0.29 \n",
      "Training Accuracy: 0.902\n",
      "----------\n",
      "125/125 [==============================] - 0s 1ms/step - loss: 0.5967 - acc: 0.8070\n",
      "Test Loss: 0.597 \n",
      "Test Accuracy: 0.807\n"
     ]
    }
   ],
   "source": [
    "results_train = bigger_data_model.evaluate(X_train_tokens_bigger, y_train_lb_bigger)\n",
    "print(f'Training Loss: {results_train[0]:.3} \\nTraining Accuracy: {results_train[1]:.3}')\n",
    "\n",
    "print('----------')\n",
    "\n",
    "results_test = bigger_data_model.evaluate(X_val_tokens_bigger, y_val_lb_bigger)\n",
    "print(f'Test Loss: {results_test[0]:.3} \\nTest Accuracy: {results_test[1]:.3}')"
   ]
  },
  {
   "cell_type": "markdown",
   "metadata": {},
   "source": [
    "With the same amount of epochs and no regularization technique, you were able to get both better test accuracy and loss. You can still consider early stopping, L1, L2 and dropout here. It's clear that having more data has a strong impact on model performance! \n",
    "\n",
    "\n",
    "## Additional Resources\n",
    "\n",
    "* https://github.com/susanli2016/Machine-Learning-with-Python/blob/master/Consumer_complaints.ipynb\n",
    "* https://machinelearningmastery.com/dropout-regularization-deep-learning-models-keras/\n",
    "* https://catalog.data.gov/dataset/consumer-complaint-database \n",
    "\n",
    "\n",
    "## Summary  \n",
    "\n",
    "In this lesson, you built deep learning models using a validation set and used several techniques such as L2 and L1 regularization, dropout regularization, and early stopping to improve the accuracy of your models. "
   ]
  }
 ],
 "metadata": {
  "kernelspec": {
   "display_name": "saturn (Python 3)",
   "language": "python",
   "name": "python3"
  },
  "language_info": {
   "codemirror_mode": {
    "name": "ipython",
    "version": 3
   },
   "file_extension": ".py",
   "mimetype": "text/x-python",
   "name": "python",
   "nbconvert_exporter": "python",
   "pygments_lexer": "ipython3",
   "version": "3.10.6"
  },
  "toc": {
   "base_numbering": 1,
   "nav_menu": {},
   "number_sections": true,
   "sideBar": true,
   "skip_h1_title": false,
   "title_cell": "Table of Contents",
   "title_sidebar": "Contents",
   "toc_cell": false,
   "toc_position": {},
   "toc_section_display": true,
   "toc_window_display": false
  }
 },
 "nbformat": 4,
 "nbformat_minor": 2
}
