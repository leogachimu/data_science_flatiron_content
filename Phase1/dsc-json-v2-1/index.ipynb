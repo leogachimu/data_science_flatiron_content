{
 "cells": [
  {
   "cell_type": "markdown",
   "metadata": {},
   "source": [
    "# JSON\n",
    "\n",
    "## Introduction\n",
    "\n",
    "In this lesson, you'll continue investigating new formats for data. Specifically, you'll investigate one of the most popular data formats for the web: JSON files.\n",
    "\n",
    "## Objectives\n",
    "You will be able to:\n",
    "\n",
    "* Describe features of the JSON format and the Python `json` module\n",
    "* Use Python to load and parse JSON documents\n",
    "\n",
    "\n",
    "## JSON Format\n",
    "\n",
    "JSON stands for JavaScript Object Notation. Similar to CSV, JSON is a **plain text** data format. However the structure of JSON — based on the syntax of JavaScript — is more complex.\n",
    "\n",
    "Here's a brief preview of a JSON file:  \n",
    "\n",
    "<img src=\"images/json_preview.png\" width=\"850\">\n",
    "\n",
    "As you can see, JSON is not a tabular format with one set of rows and one set of columns. JSON files are often nested in a hierarchical structure and will have data structures analogous to Python dictionaries and lists. Here's all of the built-in supported data types in JSON and their counterparts in Python: \n",
    "\n",
    "<img src=\"images/json_python_datatypes.png\" width=500>\n",
    "\n",
    "\n",
    "## `json` Module\n",
    "\n",
    "In theory we could write our own custom code to split that string on `{`, `\"`, `:` etc. and parse the contents of the file into the appropriate Python data structures.\n",
    "\n",
    "Instead, we'll go ahead and use a pre-built Python module designed for this purpose. It will give us a powerful starting point for accessing and manipulating the data in JSON files. This module is called `json`.\n",
    "\n",
    "You can find full documentation for this module [here](https://docs.python.org/3/library/json.html).\n",
    "\n",
    "To use the `json` module, start by importing it:"
   ]
  },
  {
   "cell_type": "code",
   "execution_count": 1,
   "metadata": {},
   "outputs": [],
   "source": [
    "import json"
   ]
  },
  {
   "cell_type": "markdown",
   "metadata": {},
   "source": [
    "### `json.load`\n",
    "\n",
    "To load data from a JSON file, you first open the file using Python's built-in `open` function. Then you pass the file object to the `json.load` function, which returns a Python object representing the contents of the file.\n",
    "\n",
    "In the cell below, we open the campaign finance JSON file previewed above:"
   ]
  },
  {
   "cell_type": "code",
   "execution_count": 2,
   "metadata": {},
   "outputs": [
    {
     "name": "stdout",
     "output_type": "stream",
     "text": [
      "<class 'dict'>\n"
     ]
    }
   ],
   "source": [
    "with open('nyc_2001_campaign_finance.json') as f:\n",
    "    data = json.load(f)\n",
    "print(type(data))"
   ]
  },
  {
   "cell_type": "markdown",
   "metadata": {},
   "source": [
    "As you can see, this loaded the data as a dictionary. You can begin to investigate the contents of a JSON file by using our traditional Python methods."
   ]
  },
  {
   "cell_type": "markdown",
   "metadata": {},
   "source": [
    "### Parsing a JSON File\n",
    "\n",
    "Since we have a dictionary, check its keys:"
   ]
  },
  {
   "cell_type": "code",
   "execution_count": 3,
   "metadata": {},
   "outputs": [
    {
     "data": {
      "text/plain": [
       "dict_keys(['meta', 'data'])"
      ]
     },
     "execution_count": 3,
     "metadata": {},
     "output_type": "execute_result"
    }
   ],
   "source": [
    "data.keys()"
   ]
  },
  {
   "cell_type": "markdown",
   "metadata": {},
   "source": [
    "Investigate what data types are stored within the values associated with those keys:"
   ]
  },
  {
   "cell_type": "code",
   "execution_count": 4,
   "metadata": {},
   "outputs": [
    {
     "name": "stdout",
     "output_type": "stream",
     "text": [
      "<class 'dict'>\n",
      "<class 'list'>\n"
     ]
    }
   ],
   "source": [
    "for v in data.values():\n",
    "    print(type(v))"
   ]
  },
  {
   "cell_type": "markdown",
   "metadata": {},
   "source": [
    "#### Parsing Metadata\n",
    "\n",
    "Then we can dig a level deeper. What are the keys of the nested dictionary?"
   ]
  },
  {
   "cell_type": "code",
   "execution_count": 5,
   "metadata": {},
   "outputs": [
    {
     "data": {
      "text/plain": [
       "dict_keys(['view'])"
      ]
     },
     "execution_count": 5,
     "metadata": {},
     "output_type": "execute_result"
    }
   ],
   "source": [
    "data['meta'].keys()"
   ]
  },
  {
   "cell_type": "markdown",
   "metadata": {},
   "source": [
    "And what is the type of the value associated with that key?"
   ]
  },
  {
   "cell_type": "code",
   "execution_count": 6,
   "metadata": {},
   "outputs": [
    {
     "data": {
      "text/plain": [
       "dict"
      ]
     },
     "execution_count": 6,
     "metadata": {},
     "output_type": "execute_result"
    }
   ],
   "source": [
    "type(data['meta']['view'])"
   ]
  },
  {
   "cell_type": "markdown",
   "metadata": {},
   "source": [
    "Again, what are the keys of that twice-nested dictionary?"
   ]
  },
  {
   "cell_type": "code",
   "execution_count": 6,
   "metadata": {},
   "outputs": [
    {
     "data": {
      "text/plain": [
       "dict_keys(['id', 'name', 'attribution', 'averageRating', 'category', 'createdAt', 'description', 'displayType', 'downloadCount', 'hideFromCatalog', 'hideFromDataJson', 'indexUpdatedAt', 'newBackend', 'numberOfComments', 'oid', 'provenance', 'publicationAppendEnabled', 'publicationDate', 'publicationGroup', 'publicationStage', 'rowClass', 'rowsUpdatedAt', 'rowsUpdatedBy', 'tableId', 'totalTimesRated', 'viewCount', 'viewLastModified', 'viewType', 'columns', 'grants', 'metadata', 'owner', 'query', 'rights', 'tableAuthor', 'tags', 'flags'])"
      ]
     },
     "execution_count": 6,
     "metadata": {},
     "output_type": "execute_result"
    }
   ],
   "source": [
    "data['meta']['view'].keys()"
   ]
  },
  {
   "cell_type": "markdown",
   "metadata": {},
   "source": [
    "That is a lot of keys! One way we might try to view all of that information is using the `pandas` package to make a table."
   ]
  },
  {
   "cell_type": "code",
   "execution_count": 8,
   "metadata": {},
   "outputs": [
    {
     "data": {
      "text/html": [
       "<div>\n",
       "<style scoped>\n",
       "    .dataframe tbody tr th:only-of-type {\n",
       "        vertical-align: middle;\n",
       "    }\n",
       "\n",
       "    .dataframe tbody tr th {\n",
       "        vertical-align: top;\n",
       "    }\n",
       "\n",
       "    .dataframe thead th {\n",
       "        text-align: right;\n",
       "    }\n",
       "</style>\n",
       "<table border=\"1\" class=\"dataframe\">\n",
       "  <thead>\n",
       "    <tr style=\"text-align: right;\">\n",
       "      <th></th>\n",
       "      <th>value</th>\n",
       "    </tr>\n",
       "  </thead>\n",
       "  <tbody>\n",
       "    <tr>\n",
       "      <th>id</th>\n",
       "      <td>8dhd-zvi6</td>\n",
       "    </tr>\n",
       "    <tr>\n",
       "      <th>name</th>\n",
       "      <td>2001 Campaign Payments</td>\n",
       "    </tr>\n",
       "    <tr>\n",
       "      <th>attribution</th>\n",
       "      <td>Campaign Finance Board (CFB)</td>\n",
       "    </tr>\n",
       "    <tr>\n",
       "      <th>averageRating</th>\n",
       "      <td>0</td>\n",
       "    </tr>\n",
       "    <tr>\n",
       "      <th>category</th>\n",
       "      <td>City Government</td>\n",
       "    </tr>\n",
       "    <tr>\n",
       "      <th>createdAt</th>\n",
       "      <td>1315950830</td>\n",
       "    </tr>\n",
       "    <tr>\n",
       "      <th>description</th>\n",
       "      <td>A listing of public funds payments for candidates for City office during the 2001 election cycle</td>\n",
       "    </tr>\n",
       "    <tr>\n",
       "      <th>displayType</th>\n",
       "      <td>table</td>\n",
       "    </tr>\n",
       "    <tr>\n",
       "      <th>downloadCount</th>\n",
       "      <td>1470</td>\n",
       "    </tr>\n",
       "    <tr>\n",
       "      <th>hideFromCatalog</th>\n",
       "      <td>False</td>\n",
       "    </tr>\n",
       "    <tr>\n",
       "      <th>hideFromDataJson</th>\n",
       "      <td>False</td>\n",
       "    </tr>\n",
       "    <tr>\n",
       "      <th>indexUpdatedAt</th>\n",
       "      <td>1536596254</td>\n",
       "    </tr>\n",
       "    <tr>\n",
       "      <th>newBackend</th>\n",
       "      <td>False</td>\n",
       "    </tr>\n",
       "    <tr>\n",
       "      <th>numberOfComments</th>\n",
       "      <td>0</td>\n",
       "    </tr>\n",
       "    <tr>\n",
       "      <th>oid</th>\n",
       "      <td>4140996</td>\n",
       "    </tr>\n",
       "    <tr>\n",
       "      <th>provenance</th>\n",
       "      <td>official</td>\n",
       "    </tr>\n",
       "    <tr>\n",
       "      <th>publicationAppendEnabled</th>\n",
       "      <td>False</td>\n",
       "    </tr>\n",
       "    <tr>\n",
       "      <th>publicationDate</th>\n",
       "      <td>1371845179</td>\n",
       "    </tr>\n",
       "    <tr>\n",
       "      <th>publicationGroup</th>\n",
       "      <td>240370</td>\n",
       "    </tr>\n",
       "    <tr>\n",
       "      <th>publicationStage</th>\n",
       "      <td>published</td>\n",
       "    </tr>\n",
       "    <tr>\n",
       "      <th>rowClass</th>\n",
       "      <td></td>\n",
       "    </tr>\n",
       "    <tr>\n",
       "      <th>rowsUpdatedAt</th>\n",
       "      <td>1371845177</td>\n",
       "    </tr>\n",
       "    <tr>\n",
       "      <th>rowsUpdatedBy</th>\n",
       "      <td>5fuc-pqz2</td>\n",
       "    </tr>\n",
       "    <tr>\n",
       "      <th>tableId</th>\n",
       "      <td>932968</td>\n",
       "    </tr>\n",
       "    <tr>\n",
       "      <th>totalTimesRated</th>\n",
       "      <td>0</td>\n",
       "    </tr>\n",
       "    <tr>\n",
       "      <th>viewCount</th>\n",
       "      <td>233</td>\n",
       "    </tr>\n",
       "    <tr>\n",
       "      <th>viewLastModified</th>\n",
       "      <td>1536605717</td>\n",
       "    </tr>\n",
       "    <tr>\n",
       "      <th>viewType</th>\n",
       "      <td>tabular</td>\n",
       "    </tr>\n",
       "    <tr>\n",
       "      <th>columns</th>\n",
       "      <td>[{'id': -1, 'name': 'sid', 'dataTypeName': 'meta_data', 'fieldName': ':sid', 'position': 0, 'renderTypeName': 'meta_...</td>\n",
       "    </tr>\n",
       "    <tr>\n",
       "      <th>grants</th>\n",
       "      <td>[{'inherited': False, 'type': 'viewer', 'flags': ['public']}]</td>\n",
       "    </tr>\n",
       "    <tr>\n",
       "      <th>metadata</th>\n",
       "      <td>{'rdfSubject': '0', 'rdfClass': '', 'attachments': [{'filename': 'Data_Dictionary_Public_Funds_Payments_FINAL.xlsx',...</td>\n",
       "    </tr>\n",
       "    <tr>\n",
       "      <th>owner</th>\n",
       "      <td>{'id': '5fuc-pqz2', 'displayName': 'NYC OpenData', 'profileImageUrlLarge': '/api/users/5fuc-pqz2/profile_images/LARG...</td>\n",
       "    </tr>\n",
       "    <tr>\n",
       "      <th>query</th>\n",
       "      <td>{}</td>\n",
       "    </tr>\n",
       "    <tr>\n",
       "      <th>rights</th>\n",
       "      <td>[read]</td>\n",
       "    </tr>\n",
       "    <tr>\n",
       "      <th>tableAuthor</th>\n",
       "      <td>{'id': '5fuc-pqz2', 'displayName': 'NYC OpenData', 'profileImageUrlLarge': '/api/users/5fuc-pqz2/profile_images/LARG...</td>\n",
       "    </tr>\n",
       "    <tr>\n",
       "      <th>tags</th>\n",
       "      <td>[finance, campaign finance board, cfb, nyccfb, campaign finance, elections, contributions, politics, campaign, funding]</td>\n",
       "    </tr>\n",
       "    <tr>\n",
       "      <th>flags</th>\n",
       "      <td>[default, restorable, restorePossibleForType]</td>\n",
       "    </tr>\n",
       "  </tbody>\n",
       "</table>\n",
       "</div>"
      ],
      "text/plain": [
       "                                                                                                                                            value\n",
       "id                                                                                                                                      8dhd-zvi6\n",
       "name                                                                                                                       2001 Campaign Payments\n",
       "attribution                                                                                                          Campaign Finance Board (CFB)\n",
       "averageRating                                                                                                                                   0\n",
       "category                                                                                                                          City Government\n",
       "createdAt                                                                                                                              1315950830\n",
       "description                                      A listing of public funds payments for candidates for City office during the 2001 election cycle\n",
       "displayType                                                                                                                                 table\n",
       "downloadCount                                                                                                                                1470\n",
       "hideFromCatalog                                                                                                                             False\n",
       "hideFromDataJson                                                                                                                            False\n",
       "indexUpdatedAt                                                                                                                         1536596254\n",
       "newBackend                                                                                                                                  False\n",
       "numberOfComments                                                                                                                                0\n",
       "oid                                                                                                                                       4140996\n",
       "provenance                                                                                                                               official\n",
       "publicationAppendEnabled                                                                                                                    False\n",
       "publicationDate                                                                                                                        1371845179\n",
       "publicationGroup                                                                                                                           240370\n",
       "publicationStage                                                                                                                        published\n",
       "rowClass                                                                                                                                         \n",
       "rowsUpdatedAt                                                                                                                          1371845177\n",
       "rowsUpdatedBy                                                                                                                           5fuc-pqz2\n",
       "tableId                                                                                                                                    932968\n",
       "totalTimesRated                                                                                                                                 0\n",
       "viewCount                                                                                                                                     233\n",
       "viewLastModified                                                                                                                       1536605717\n",
       "viewType                                                                                                                                  tabular\n",
       "columns                   [{'id': -1, 'name': 'sid', 'dataTypeName': 'meta_data', 'fieldName': ':sid', 'position': 0, 'renderTypeName': 'meta_...\n",
       "grants                                                                              [{'inherited': False, 'type': 'viewer', 'flags': ['public']}]\n",
       "metadata                  {'rdfSubject': '0', 'rdfClass': '', 'attachments': [{'filename': 'Data_Dictionary_Public_Funds_Payments_FINAL.xlsx',...\n",
       "owner                     {'id': '5fuc-pqz2', 'displayName': 'NYC OpenData', 'profileImageUrlLarge': '/api/users/5fuc-pqz2/profile_images/LARG...\n",
       "query                                                                                                                                          {}\n",
       "rights                                                                                                                                     [read]\n",
       "tableAuthor               {'id': '5fuc-pqz2', 'displayName': 'NYC OpenData', 'profileImageUrlLarge': '/api/users/5fuc-pqz2/profile_images/LARG...\n",
       "tags                      [finance, campaign finance board, cfb, nyccfb, campaign finance, elections, contributions, politics, campaign, funding]\n",
       "flags                                                                                               [default, restorable, restorePossibleForType]"
      ]
     },
     "execution_count": 8,
     "metadata": {},
     "output_type": "execute_result"
    }
   ],
   "source": [
    "import pandas as pd\n",
    "pd.set_option(\"max_colwidth\", 120)\n",
    "pd.DataFrame(\n",
    "    data=data['meta']['view'].values(),\n",
    "    index=data['meta']['view'].keys(),\n",
    "    columns=[\"value\"]\n",
    ")\n",
    "#type()"
   ]
  },
  {
   "cell_type": "code",
   "execution_count": 9,
   "metadata": {},
   "outputs": [
    {
     "data": {
      "text/plain": [
       "19"
      ]
     },
     "execution_count": 9,
     "metadata": {},
     "output_type": "execute_result"
    }
   ],
   "source": [
    "len(data[\"meta\"][\"view\"][\"columns\"])"
   ]
  },
  {
   "cell_type": "code",
   "execution_count": 14,
   "metadata": {
    "scrolled": false
   },
   "outputs": [
    {
     "data": {
      "text/plain": [
       "[{'id': -1,\n",
       "  'name': 'sid',\n",
       "  'dataTypeName': 'meta_data',\n",
       "  'fieldName': ':sid',\n",
       "  'position': 0,\n",
       "  'renderTypeName': 'meta_data',\n",
       "  'format': {},\n",
       "  'flags': ['hidden']},\n",
       " {'id': -1,\n",
       "  'name': 'id',\n",
       "  'dataTypeName': 'meta_data',\n",
       "  'fieldName': ':id',\n",
       "  'position': 0,\n",
       "  'renderTypeName': 'meta_data',\n",
       "  'format': {},\n",
       "  'flags': ['hidden']},\n",
       " {'id': -1,\n",
       "  'name': 'position',\n",
       "  'dataTypeName': 'meta_data',\n",
       "  'fieldName': ':position',\n",
       "  'position': 0,\n",
       "  'renderTypeName': 'meta_data',\n",
       "  'format': {},\n",
       "  'flags': ['hidden']},\n",
       " {'id': -1,\n",
       "  'name': 'created_at',\n",
       "  'dataTypeName': 'meta_data',\n",
       "  'fieldName': ':created_at',\n",
       "  'position': 0,\n",
       "  'renderTypeName': 'meta_data',\n",
       "  'format': {},\n",
       "  'flags': ['hidden']},\n",
       " {'id': -1,\n",
       "  'name': 'created_meta',\n",
       "  'dataTypeName': 'meta_data',\n",
       "  'fieldName': ':created_meta',\n",
       "  'position': 0,\n",
       "  'renderTypeName': 'meta_data',\n",
       "  'format': {},\n",
       "  'flags': ['hidden']},\n",
       " {'id': -1,\n",
       "  'name': 'updated_at',\n",
       "  'dataTypeName': 'meta_data',\n",
       "  'fieldName': ':updated_at',\n",
       "  'position': 0,\n",
       "  'renderTypeName': 'meta_data',\n",
       "  'format': {},\n",
       "  'flags': ['hidden']},\n",
       " {'id': -1,\n",
       "  'name': 'updated_meta',\n",
       "  'dataTypeName': 'meta_data',\n",
       "  'fieldName': ':updated_meta',\n",
       "  'position': 0,\n",
       "  'renderTypeName': 'meta_data',\n",
       "  'format': {},\n",
       "  'flags': ['hidden']},\n",
       " {'id': -1,\n",
       "  'name': 'meta',\n",
       "  'dataTypeName': 'meta_data',\n",
       "  'fieldName': ':meta',\n",
       "  'position': 0,\n",
       "  'renderTypeName': 'meta_data',\n",
       "  'format': {},\n",
       "  'flags': ['hidden']},\n",
       " {'id': 75768833,\n",
       "  'name': 'ELECTION',\n",
       "  'dataTypeName': 'number',\n",
       "  'fieldName': 'election',\n",
       "  'position': 2,\n",
       "  'renderTypeName': 'number',\n",
       "  'tableColumnId': 1518991,\n",
       "  'width': 196,\n",
       "  'cachedContents': {'non_null': 284,\n",
       "   'average': '2001',\n",
       "   'largest': '2001',\n",
       "   'null': 1,\n",
       "   'top': [{'item': '2001', 'count': 20}],\n",
       "   'smallest': '2001',\n",
       "   'sum': '568284'},\n",
       "  'format': {'precisionStyle': 'standard',\n",
       "   'noCommas': 'true',\n",
       "   'align': 'right'}},\n",
       " {'id': 75768834,\n",
       "  'name': 'CANDID',\n",
       "  'dataTypeName': 'text',\n",
       "  'fieldName': 'candid',\n",
       "  'position': 3,\n",
       "  'renderTypeName': 'text',\n",
       "  'tableColumnId': 1518992,\n",
       "  'width': 172,\n",
       "  'cachedContents': {'non_null': 285,\n",
       "   'largest': 'YA',\n",
       "   'null': 0,\n",
       "   'top': [{'item': '490', 'count': 20},\n",
       "    {'item': '577', 'count': 19},\n",
       "    {'item': 'GF', 'count': 18},\n",
       "    {'item': '265', 'count': 17},\n",
       "    {'item': '549', 'count': 16},\n",
       "    {'item': '260', 'count': 15},\n",
       "    {'item': 'DH', 'count': 14},\n",
       "    {'item': '168', 'count': 13},\n",
       "    {'item': '561', 'count': 12},\n",
       "    {'item': '317', 'count': 11},\n",
       "    {'item': '240', 'count': 10},\n",
       "    {'item': 'B1', 'count': 9},\n",
       "    {'item': '337', 'count': 8},\n",
       "    {'item': '202', 'count': 7},\n",
       "    {'item': 'DP', 'count': 6},\n",
       "    {'item': '554', 'count': 5},\n",
       "    {'item': '529', 'count': 4},\n",
       "    {'item': '521', 'count': 3},\n",
       "    {'item': 'CY', 'count': 2},\n",
       "    {'item': '327', 'count': 1}],\n",
       "   'smallest': '148'},\n",
       "  'format': {}},\n",
       " {'id': 75768835,\n",
       "  'name': 'CANDNAME',\n",
       "  'dataTypeName': 'text',\n",
       "  'fieldName': 'candname',\n",
       "  'position': 4,\n",
       "  'renderTypeName': 'text',\n",
       "  'tableColumnId': 1518993,\n",
       "  'width': 196,\n",
       "  'cachedContents': {'non_null': 285,\n",
       "   'largest': 'Zett, Lori M',\n",
       "   'null': 0,\n",
       "   'top': [{'item': 'Taitt, Samuel A', 'count': 20},\n",
       "    {'item': 'Taliaferro, Phyllis', 'count': 19},\n",
       "    {'item': 'Taveras, Germania', 'count': 18},\n",
       "    {'item': 'Thakral, Jairam D', 'count': 17},\n",
       "    {'item': 'Thomas, Carl W', 'count': 16},\n",
       "    {'item': 'Thompson, Jr., William C', 'count': 15},\n",
       "    {'item': 'Tiraco, Joseph E', 'count': 14},\n",
       "    {'item': 'Toney, Vaughan', 'count': 13},\n",
       "    {'item': 'Toppin, Roger N', 'count': 12},\n",
       "    {'item': 'Torres, Mario A', 'count': 11},\n",
       "    {'item': 'Vallone, Jr., Peter F', 'count': 10},\n",
       "    {'item': 'Vallone, Peter F', 'count': 9},\n",
       "    {'item': 'Van Bramer, James G', 'count': 8},\n",
       "    {'item': 'Vann, Albert', 'count': 7},\n",
       "    {'item': 'Vargas, Ruben Dario', 'count': 6},\n",
       "    {'item': 'Vassos, Sandra', 'count': 5},\n",
       "    {'item': 'Vernet, Jean D', 'count': 4},\n",
       "    {'item': 'Viest, Nicholas D', 'count': 3},\n",
       "    {'item': 'Villaverde, Sergio', 'count': 2},\n",
       "    {'item': 'Vogel, Mark H', 'count': 1}],\n",
       "   'smallest': 'Aboulafia, Sandy'},\n",
       "  'format': {}},\n",
       " {'id': 75768836,\n",
       "  'name': 'OFFICECD',\n",
       "  'dataTypeName': 'number',\n",
       "  'fieldName': 'officecd',\n",
       "  'position': 5,\n",
       "  'renderTypeName': 'number',\n",
       "  'tableColumnId': 1518994,\n",
       "  'width': 196,\n",
       "  'cachedContents': {'non_null': 284,\n",
       "   'average': '4.700704225352113',\n",
       "   'largest': '5',\n",
       "   'null': 1,\n",
       "   'top': [{'item': '5', 'count': 20},\n",
       "    {'item': '1', 'count': 19},\n",
       "    {'item': '3', 'count': 18},\n",
       "    {'item': '4', 'count': 17},\n",
       "    {'item': '2', 'count': 16}],\n",
       "   'smallest': '1',\n",
       "   'sum': '1335'},\n",
       "  'format': {}},\n",
       " {'id': 75768837,\n",
       "  'name': 'OFFICEBORO',\n",
       "  'dataTypeName': 'text',\n",
       "  'fieldName': 'officeboro',\n",
       "  'position': 6,\n",
       "  'renderTypeName': 'text',\n",
       "  'tableColumnId': 1518995,\n",
       "  'width': 220,\n",
       "  'cachedContents': {'non_null': 21,\n",
       "   'largest': 'X',\n",
       "   'null': 264,\n",
       "   'top': [{'item': 'OFFICEBORO', 'count': 20},\n",
       "    {'item': 'X', 'count': 19},\n",
       "    {'item': 'M', 'count': 18},\n",
       "    {'item': 'K', 'count': 17},\n",
       "    {'item': 'Q', 'count': 16},\n",
       "    {'item': 'S', 'count': 15}],\n",
       "   'smallest': 'K'},\n",
       "  'format': {}},\n",
       " {'id': 75768838,\n",
       "  'name': 'OFFICEDIST',\n",
       "  'dataTypeName': 'number',\n",
       "  'fieldName': 'officedist',\n",
       "  'position': 7,\n",
       "  'renderTypeName': 'number',\n",
       "  'tableColumnId': 1518996,\n",
       "  'width': 220,\n",
       "  'cachedContents': {'non_null': 245,\n",
       "   'average': '26.33061224489796',\n",
       "   'largest': '51',\n",
       "   'null': 40,\n",
       "   'top': [{'item': '7', 'count': 20},\n",
       "    {'item': '32', 'count': 19},\n",
       "    {'item': '37', 'count': 18},\n",
       "    {'item': '28', 'count': 17},\n",
       "    {'item': '19', 'count': 16},\n",
       "    {'item': '39', 'count': 15},\n",
       "    {'item': '35', 'count': 14},\n",
       "    {'item': '42', 'count': 13},\n",
       "    {'item': '31', 'count': 12},\n",
       "    {'item': '6', 'count': 11},\n",
       "    {'item': '47', 'count': 10},\n",
       "    {'item': '20', 'count': 9},\n",
       "    {'item': '1', 'count': 8},\n",
       "    {'item': '27', 'count': 7},\n",
       "    {'item': '26', 'count': 6},\n",
       "    {'item': '10', 'count': 5},\n",
       "    {'item': '34', 'count': 4},\n",
       "    {'item': '45', 'count': 3},\n",
       "    {'item': '40', 'count': 2},\n",
       "    {'item': '12', 'count': 1}],\n",
       "   'smallest': '1',\n",
       "   'sum': '6451'},\n",
       "  'format': {}},\n",
       " {'id': 75768839,\n",
       "  'name': 'CANCLASS',\n",
       "  'dataTypeName': 'text',\n",
       "  'fieldName': 'canclass',\n",
       "  'position': 8,\n",
       "  'renderTypeName': 'text',\n",
       "  'tableColumnId': 1518997,\n",
       "  'width': 196,\n",
       "  'cachedContents': {'non_null': 285,\n",
       "   'largest': 'P',\n",
       "   'null': 0,\n",
       "   'top': [{'item': 'CANCLASS', 'count': 20}, {'item': 'P', 'count': 19}],\n",
       "   'smallest': 'CANCLASS'},\n",
       "  'format': {}},\n",
       " {'id': 75768840,\n",
       "  'name': 'PRIMARYPAY',\n",
       "  'dataTypeName': 'number',\n",
       "  'fieldName': 'primarypay',\n",
       "  'position': 9,\n",
       "  'renderTypeName': 'number',\n",
       "  'tableColumnId': 1518998,\n",
       "  'width': 220,\n",
       "  'cachedContents': {'non_null': 284,\n",
       "   'average': '112243.9612676056',\n",
       "   'largest': '2846148.00',\n",
       "   'null': 1,\n",
       "   'top': [{'item': '75350.00', 'count': 20},\n",
       "    {'item': '0', 'count': 19},\n",
       "    {'item': '91333.00', 'count': 18},\n",
       "    {'item': '69780.00', 'count': 17},\n",
       "    {'item': '22172.00', 'count': 16},\n",
       "    {'item': '65356.00', 'count': 15},\n",
       "    {'item': '11423.00', 'count': 14},\n",
       "    {'item': '60152.00', 'count': 13},\n",
       "    {'item': '75040.00', 'count': 12},\n",
       "    {'item': '62436.00', 'count': 11},\n",
       "    {'item': '42075.00', 'count': 10},\n",
       "    {'item': '74920.00', 'count': 9},\n",
       "    {'item': '38088.00', 'count': 8},\n",
       "    {'item': '74850.00', 'count': 7},\n",
       "    {'item': '89502.00', 'count': 6},\n",
       "    {'item': '74350.00', 'count': 5},\n",
       "    {'item': '58348.00', 'count': 4},\n",
       "    {'item': '55100.00', 'count': 3},\n",
       "    {'item': '508893.00', 'count': 2},\n",
       "    {'item': '74750.00', 'count': 1}],\n",
       "   'smallest': '0',\n",
       "   'sum': '31877285.00'},\n",
       "  'format': {}},\n",
       " {'id': 75768841,\n",
       "  'name': 'GENERALPAY',\n",
       "  'dataTypeName': 'number',\n",
       "  'fieldName': 'generalpay',\n",
       "  'position': 10,\n",
       "  'renderTypeName': 'number',\n",
       "  'tableColumnId': 1518999,\n",
       "  'width': 220,\n",
       "  'cachedContents': {'non_null': 284,\n",
       "   'average': '28753.57394366197',\n",
       "   'largest': '976545.00',\n",
       "   'null': 1,\n",
       "   'top': [{'item': '0', 'count': 20},\n",
       "    {'item': '75350.00', 'count': 19},\n",
       "    {'item': '201131.00', 'count': 18},\n",
       "    {'item': '39760.00', 'count': 17},\n",
       "    {'item': '57796.00', 'count': 16},\n",
       "    {'item': '75200.00', 'count': 15},\n",
       "    {'item': '68234.00', 'count': 14},\n",
       "    {'item': '5732.00', 'count': 13},\n",
       "    {'item': '58488.00', 'count': 12},\n",
       "    {'item': '62184.00', 'count': 11},\n",
       "    {'item': '44748.00', 'count': 10},\n",
       "    {'item': '21946.00', 'count': 9},\n",
       "    {'item': '70500.00', 'count': 8}],\n",
       "   'smallest': '0',\n",
       "   'sum': '8166015.00'},\n",
       "  'format': {}},\n",
       " {'id': 75768842,\n",
       "  'name': 'RUNOFFPAY',\n",
       "  'dataTypeName': 'number',\n",
       "  'fieldName': 'runoffpay',\n",
       "  'position': 11,\n",
       "  'renderTypeName': 'number',\n",
       "  'tableColumnId': 1519000,\n",
       "  'width': 208,\n",
       "  'cachedContents': {'non_null': 284,\n",
       "   'average': '7776.778169014085',\n",
       "   'largest': '711537.00',\n",
       "   'null': 1,\n",
       "   'top': [{'item': '0', 'count': 20},\n",
       "    {'item': '267331.00', 'count': 19},\n",
       "    {'item': '574387.00', 'count': 18},\n",
       "    {'item': '303270.00', 'count': 17},\n",
       "    {'item': '711537.00', 'count': 16},\n",
       "    {'item': '114407.00', 'count': 15},\n",
       "    {'item': '237673.00', 'count': 14}],\n",
       "   'smallest': '0',\n",
       "   'sum': '2208605.00'},\n",
       "  'format': {}},\n",
       " {'id': 75768843,\n",
       "  'name': 'TOTALPAY',\n",
       "  'dataTypeName': 'number',\n",
       "  'fieldName': 'totalpay',\n",
       "  'position': 12,\n",
       "  'renderTypeName': 'number',\n",
       "  'tableColumnId': 1519001,\n",
       "  'width': 196,\n",
       "  'cachedContents': {'non_null': 284,\n",
       "   'average': '148774.3133802817',\n",
       "   'largest': '4534230.00',\n",
       "   'null': 1,\n",
       "   'top': [{'item': '0', 'count': 20},\n",
       "    {'item': '75350.00', 'count': 19},\n",
       "    {'item': '150700.00', 'count': 18},\n",
       "    {'item': '2458534.00', 'count': 17},\n",
       "    {'item': '133146.00', 'count': 16},\n",
       "    {'item': '75200.00', 'count': 15},\n",
       "    {'item': '68234.00', 'count': 14},\n",
       "    {'item': '70664.00', 'count': 13},\n",
       "    {'item': '58488.00', 'count': 12},\n",
       "    {'item': '50112.00', 'count': 11},\n",
       "    {'item': '62184.00', 'count': 10},\n",
       "    {'item': '44748.00', 'count': 9},\n",
       "    {'item': '21946.00', 'count': 8},\n",
       "    {'item': '41656.00', 'count': 7},\n",
       "    {'item': '61260.00', 'count': 6},\n",
       "    {'item': '145850.00', 'count': 5},\n",
       "    {'item': '35808.00', 'count': 4},\n",
       "    {'item': '12172.00', 'count': 3}],\n",
       "   'smallest': '0',\n",
       "   'sum': '42251905.00'},\n",
       "  'format': {}}]"
      ]
     },
     "execution_count": 14,
     "metadata": {},
     "output_type": "execute_result"
    }
   ],
   "source": [
    "data[\"meta\"][\"view\"][\"columns\"]"
   ]
  },
  {
   "cell_type": "markdown",
   "metadata": {},
   "source": [
    "So, it looks like the information under the `meta` key is essentially all of the metadata about the dataset, including the category, attribution, tags, etc.\n",
    "\n",
    "Now let's look at the main data.\n",
    "\n",
    "#### Parsing Data\n",
    "\n",
    "This time, let's look at the value associated with the `data` key. Recall that we previously identified that this had a `list` data type, so let's look at the length:"
   ]
  },
  {
   "cell_type": "code",
   "execution_count": 11,
   "metadata": {},
   "outputs": [
    {
     "data": {
      "text/plain": [
       "285"
      ]
     },
     "execution_count": 11,
     "metadata": {},
     "output_type": "execute_result"
    }
   ],
   "source": [
    "len(data['data'])"
   ]
  },
  {
   "cell_type": "code",
   "execution_count": 15,
   "metadata": {},
   "outputs": [
    {
     "data": {
      "text/plain": [
       "list"
      ]
     },
     "execution_count": 15,
     "metadata": {},
     "output_type": "execute_result"
    }
   ],
   "source": [
    "type(data[\"data\"])"
   ]
  },
  {
   "cell_type": "markdown",
   "metadata": {},
   "source": [
    "Now let's look at a couple different values:"
   ]
  },
  {
   "cell_type": "code",
   "execution_count": 12,
   "metadata": {
    "scrolled": true
   },
   "outputs": [
    {
     "data": {
      "text/plain": [
       "[1,\n",
       " 'E3E9CC9F-7443-43F6-94AF-B5A0F802DBA1',\n",
       " 1,\n",
       " 1315925633,\n",
       " '392904',\n",
       " 1315925633,\n",
       " '392904',\n",
       " '{\\n  \"invalidCells\" : {\\n    \"1519001\" : \"TOTALPAY\",\\n    \"1518998\" : \"PRIMARYPAY\",\\n    \"1519000\" : \"RUNOFFPAY\",\\n    \"1518999\" : \"GENERALPAY\",\\n    \"1518994\" : \"OFFICECD\",\\n    \"1518996\" : \"OFFICEDIST\",\\n    \"1518991\" : \"ELECTION\"\\n  }\\n}',\n",
       " None,\n",
       " 'CANDID',\n",
       " 'CANDNAME',\n",
       " None,\n",
       " 'OFFICEBORO',\n",
       " None,\n",
       " 'CANCLASS',\n",
       " None,\n",
       " None,\n",
       " None,\n",
       " None]"
      ]
     },
     "execution_count": 12,
     "metadata": {},
     "output_type": "execute_result"
    }
   ],
   "source": [
    "data['data'][0]"
   ]
  },
  {
   "cell_type": "code",
   "execution_count": 11,
   "metadata": {},
   "outputs": [
    {
     "data": {
      "text/plain": [
       "[2,\n",
       " '9D257416-581A-4C42-85CC-B6EAD9DED97F',\n",
       " 2,\n",
       " 1315925633,\n",
       " '392904',\n",
       " 1315925633,\n",
       " '392904',\n",
       " '{\\n}',\n",
       " '2001',\n",
       " 'B4',\n",
       " 'Aboulafia, Sandy',\n",
       " '5',\n",
       " None,\n",
       " '44',\n",
       " 'P',\n",
       " '45410.00',\n",
       " '0',\n",
       " '0',\n",
       " '45410.00']"
      ]
     },
     "execution_count": 11,
     "metadata": {},
     "output_type": "execute_result"
    }
   ],
   "source": [
    "data['data'][1]"
   ]
  },
  {
   "cell_type": "code",
   "execution_count": 20,
   "metadata": {},
   "outputs": [
    {
     "data": {
      "text/plain": [
       "19"
      ]
     },
     "execution_count": 20,
     "metadata": {},
     "output_type": "execute_result"
    }
   ],
   "source": [
    "len(data['data'][0])"
   ]
  },
  {
   "cell_type": "code",
   "execution_count": 21,
   "metadata": {},
   "outputs": [
    {
     "data": {
      "text/plain": [
       "19"
      ]
     },
     "execution_count": 21,
     "metadata": {},
     "output_type": "execute_result"
    }
   ],
   "source": [
    "len(data['data'][1])"
   ]
  },
  {
   "cell_type": "code",
   "execution_count": 11,
   "metadata": {},
   "outputs": [
    {
     "data": {
      "text/plain": [
       "[2,\n",
       " '9D257416-581A-4C42-85CC-B6EAD9DED97F',\n",
       " 2,\n",
       " 1315925633,\n",
       " '392904',\n",
       " 1315925633,\n",
       " '392904',\n",
       " '{\\n}',\n",
       " '2001',\n",
       " 'B4',\n",
       " 'Aboulafia, Sandy',\n",
       " '5',\n",
       " None,\n",
       " '44',\n",
       " 'P',\n",
       " '45410.00',\n",
       " '0',\n",
       " '0',\n",
       " '45410.00']"
      ]
     },
     "execution_count": 11,
     "metadata": {},
     "output_type": "execute_result"
    }
   ],
   "source": [
    "data['data'][1]"
   ]
  },
  {
   "cell_type": "code",
   "execution_count": 12,
   "metadata": {
    "scrolled": true
   },
   "outputs": [
    {
     "data": {
      "text/plain": [
       "[3,\n",
       " 'B80D7891-93CF-49E8-86E8-182B618E68F2',\n",
       " 3,\n",
       " 1315925633,\n",
       " '392904',\n",
       " 1315925633,\n",
       " '392904',\n",
       " '{\\n}',\n",
       " '2001',\n",
       " '445',\n",
       " 'Adams, Jackie R',\n",
       " '5',\n",
       " None,\n",
       " '7',\n",
       " 'P',\n",
       " '11073.00',\n",
       " '0',\n",
       " '0',\n",
       " '11073.00']"
      ]
     },
     "execution_count": 12,
     "metadata": {},
     "output_type": "execute_result"
    }
   ],
   "source": [
    "data['data'][2]"
   ]
  },
  {
   "cell_type": "markdown",
   "metadata": {},
   "source": [
    "This looks more like some kind of tabular data, where the first (`0`-th) row is some kind of header. Again, let's use pandas to make this into a more-readable table format:"
   ]
  },
  {
   "cell_type": "code",
   "execution_count": 13,
   "metadata": {},
   "outputs": [
    {
     "data": {
      "text/html": [
       "<div>\n",
       "<style scoped>\n",
       "    .dataframe tbody tr th:only-of-type {\n",
       "        vertical-align: middle;\n",
       "    }\n",
       "\n",
       "    .dataframe tbody tr th {\n",
       "        vertical-align: top;\n",
       "    }\n",
       "\n",
       "    .dataframe thead th {\n",
       "        text-align: right;\n",
       "    }\n",
       "</style>\n",
       "<table border=\"1\" class=\"dataframe\">\n",
       "  <thead>\n",
       "    <tr style=\"text-align: right;\">\n",
       "      <th></th>\n",
       "      <th>0</th>\n",
       "      <th>1</th>\n",
       "      <th>2</th>\n",
       "      <th>3</th>\n",
       "      <th>4</th>\n",
       "      <th>5</th>\n",
       "      <th>6</th>\n",
       "      <th>7</th>\n",
       "      <th>8</th>\n",
       "      <th>9</th>\n",
       "      <th>10</th>\n",
       "      <th>11</th>\n",
       "      <th>12</th>\n",
       "      <th>13</th>\n",
       "      <th>14</th>\n",
       "      <th>15</th>\n",
       "      <th>16</th>\n",
       "      <th>17</th>\n",
       "      <th>18</th>\n",
       "    </tr>\n",
       "  </thead>\n",
       "  <tbody>\n",
       "    <tr>\n",
       "      <th>0</th>\n",
       "      <td>1</td>\n",
       "      <td>E3E9CC9F-7443-43F6-94AF-B5A0F802DBA1</td>\n",
       "      <td>1</td>\n",
       "      <td>1315925633</td>\n",
       "      <td>392904</td>\n",
       "      <td>1315925633</td>\n",
       "      <td>392904</td>\n",
       "      <td>{\\n  \"invalidCells\" : {\\n    \"1519001\" : \"TOTALPAY\",\\n    \"1518998\" : \"PRIMARYPAY\",\\n    \"1519000\" : \"RUNOFFPAY\",\\n ...</td>\n",
       "      <td>None</td>\n",
       "      <td>CANDID</td>\n",
       "      <td>CANDNAME</td>\n",
       "      <td>None</td>\n",
       "      <td>OFFICEBORO</td>\n",
       "      <td>None</td>\n",
       "      <td>CANCLASS</td>\n",
       "      <td>None</td>\n",
       "      <td>None</td>\n",
       "      <td>None</td>\n",
       "      <td>None</td>\n",
       "    </tr>\n",
       "    <tr>\n",
       "      <th>1</th>\n",
       "      <td>2</td>\n",
       "      <td>9D257416-581A-4C42-85CC-B6EAD9DED97F</td>\n",
       "      <td>2</td>\n",
       "      <td>1315925633</td>\n",
       "      <td>392904</td>\n",
       "      <td>1315925633</td>\n",
       "      <td>392904</td>\n",
       "      <td>{\\n}</td>\n",
       "      <td>2001</td>\n",
       "      <td>B4</td>\n",
       "      <td>Aboulafia, Sandy</td>\n",
       "      <td>5</td>\n",
       "      <td>None</td>\n",
       "      <td>44</td>\n",
       "      <td>P</td>\n",
       "      <td>45410.00</td>\n",
       "      <td>0</td>\n",
       "      <td>0</td>\n",
       "      <td>45410.00</td>\n",
       "    </tr>\n",
       "    <tr>\n",
       "      <th>2</th>\n",
       "      <td>3</td>\n",
       "      <td>B80D7891-93CF-49E8-86E8-182B618E68F2</td>\n",
       "      <td>3</td>\n",
       "      <td>1315925633</td>\n",
       "      <td>392904</td>\n",
       "      <td>1315925633</td>\n",
       "      <td>392904</td>\n",
       "      <td>{\\n}</td>\n",
       "      <td>2001</td>\n",
       "      <td>445</td>\n",
       "      <td>Adams, Jackie R</td>\n",
       "      <td>5</td>\n",
       "      <td>None</td>\n",
       "      <td>7</td>\n",
       "      <td>P</td>\n",
       "      <td>11073.00</td>\n",
       "      <td>0</td>\n",
       "      <td>0</td>\n",
       "      <td>11073.00</td>\n",
       "    </tr>\n",
       "    <tr>\n",
       "      <th>3</th>\n",
       "      <td>4</td>\n",
       "      <td>BB012003-78F5-406D-8A87-7FF8A425EE3F</td>\n",
       "      <td>4</td>\n",
       "      <td>1315925633</td>\n",
       "      <td>392904</td>\n",
       "      <td>1315925633</td>\n",
       "      <td>392904</td>\n",
       "      <td>{\\n}</td>\n",
       "      <td>2001</td>\n",
       "      <td>HF</td>\n",
       "      <td>Addabbo, Joseph P</td>\n",
       "      <td>5</td>\n",
       "      <td>None</td>\n",
       "      <td>32</td>\n",
       "      <td>P</td>\n",
       "      <td>75350.00</td>\n",
       "      <td>73970.00</td>\n",
       "      <td>0</td>\n",
       "      <td>149320.00</td>\n",
       "    </tr>\n",
       "    <tr>\n",
       "      <th>4</th>\n",
       "      <td>5</td>\n",
       "      <td>945825F9-2F5D-47C2-A16B-75B93E61E1AD</td>\n",
       "      <td>5</td>\n",
       "      <td>1315925633</td>\n",
       "      <td>392904</td>\n",
       "      <td>1315925633</td>\n",
       "      <td>392904</td>\n",
       "      <td>{\\n}</td>\n",
       "      <td>2001</td>\n",
       "      <td>IR</td>\n",
       "      <td>Alamo-Estrada, Agustin</td>\n",
       "      <td>5</td>\n",
       "      <td>None</td>\n",
       "      <td>14</td>\n",
       "      <td>P</td>\n",
       "      <td>25000.00</td>\n",
       "      <td>2400.00</td>\n",
       "      <td>0</td>\n",
       "      <td>27400.00</td>\n",
       "    </tr>\n",
       "    <tr>\n",
       "      <th>...</th>\n",
       "      <td>...</td>\n",
       "      <td>...</td>\n",
       "      <td>...</td>\n",
       "      <td>...</td>\n",
       "      <td>...</td>\n",
       "      <td>...</td>\n",
       "      <td>...</td>\n",
       "      <td>...</td>\n",
       "      <td>...</td>\n",
       "      <td>...</td>\n",
       "      <td>...</td>\n",
       "      <td>...</td>\n",
       "      <td>...</td>\n",
       "      <td>...</td>\n",
       "      <td>...</td>\n",
       "      <td>...</td>\n",
       "      <td>...</td>\n",
       "      <td>...</td>\n",
       "      <td>...</td>\n",
       "    </tr>\n",
       "    <tr>\n",
       "      <th>280</th>\n",
       "      <td>281</td>\n",
       "      <td>C50E6A4C-BDE9-4F12-97F4-95D467013540</td>\n",
       "      <td>281</td>\n",
       "      <td>1315925633</td>\n",
       "      <td>392904</td>\n",
       "      <td>1315925633</td>\n",
       "      <td>392904</td>\n",
       "      <td>{\\n}</td>\n",
       "      <td>2001</td>\n",
       "      <td>537</td>\n",
       "      <td>Wilson, John H</td>\n",
       "      <td>5</td>\n",
       "      <td>None</td>\n",
       "      <td>13</td>\n",
       "      <td>P</td>\n",
       "      <td>0</td>\n",
       "      <td>0</td>\n",
       "      <td>0</td>\n",
       "      <td>0</td>\n",
       "    </tr>\n",
       "    <tr>\n",
       "      <th>281</th>\n",
       "      <td>282</td>\n",
       "      <td>04C6D19F-FF63-47B0-B26D-3B8F98B4C16B</td>\n",
       "      <td>282</td>\n",
       "      <td>1315925633</td>\n",
       "      <td>392904</td>\n",
       "      <td>1315925633</td>\n",
       "      <td>392904</td>\n",
       "      <td>{\\n}</td>\n",
       "      <td>2001</td>\n",
       "      <td>559</td>\n",
       "      <td>Wooten, Donald T</td>\n",
       "      <td>5</td>\n",
       "      <td>None</td>\n",
       "      <td>42</td>\n",
       "      <td>P</td>\n",
       "      <td>0</td>\n",
       "      <td>0</td>\n",
       "      <td>0</td>\n",
       "      <td>0</td>\n",
       "    </tr>\n",
       "    <tr>\n",
       "      <th>282</th>\n",
       "      <td>283</td>\n",
       "      <td>A451E0E9-D382-4A97-AAD8-D7D382055F8D</td>\n",
       "      <td>283</td>\n",
       "      <td>1315925633</td>\n",
       "      <td>392904</td>\n",
       "      <td>1315925633</td>\n",
       "      <td>392904</td>\n",
       "      <td>{\\n}</td>\n",
       "      <td>2001</td>\n",
       "      <td>280</td>\n",
       "      <td>Yassky, David</td>\n",
       "      <td>5</td>\n",
       "      <td>None</td>\n",
       "      <td>33</td>\n",
       "      <td>P</td>\n",
       "      <td>75350.00</td>\n",
       "      <td>75350.00</td>\n",
       "      <td>0</td>\n",
       "      <td>150700.00</td>\n",
       "    </tr>\n",
       "    <tr>\n",
       "      <th>283</th>\n",
       "      <td>284</td>\n",
       "      <td>E84BCD0C-D6F4-450F-B55B-3199A265C781</td>\n",
       "      <td>284</td>\n",
       "      <td>1315925633</td>\n",
       "      <td>392904</td>\n",
       "      <td>1315925633</td>\n",
       "      <td>392904</td>\n",
       "      <td>{\\n}</td>\n",
       "      <td>2001</td>\n",
       "      <td>274</td>\n",
       "      <td>Zapiti, Mike</td>\n",
       "      <td>5</td>\n",
       "      <td>None</td>\n",
       "      <td>22</td>\n",
       "      <td>P</td>\n",
       "      <td>12172.00</td>\n",
       "      <td>0</td>\n",
       "      <td>0</td>\n",
       "      <td>12172.00</td>\n",
       "    </tr>\n",
       "    <tr>\n",
       "      <th>284</th>\n",
       "      <td>285</td>\n",
       "      <td>5BBC9676-2119-4FB5-9DAB-DE3F71B7681A</td>\n",
       "      <td>285</td>\n",
       "      <td>1315925633</td>\n",
       "      <td>392904</td>\n",
       "      <td>1315925633</td>\n",
       "      <td>392904</td>\n",
       "      <td>{\\n}</td>\n",
       "      <td>2001</td>\n",
       "      <td>442</td>\n",
       "      <td>Zett, Lori M</td>\n",
       "      <td>5</td>\n",
       "      <td>None</td>\n",
       "      <td>24</td>\n",
       "      <td>P</td>\n",
       "      <td>0</td>\n",
       "      <td>0</td>\n",
       "      <td>0</td>\n",
       "      <td>0</td>\n",
       "    </tr>\n",
       "  </tbody>\n",
       "</table>\n",
       "<p>285 rows × 19 columns</p>\n",
       "</div>"
      ],
      "text/plain": [
       "      0                                     1    2           3       4   \\\n",
       "0      1  E3E9CC9F-7443-43F6-94AF-B5A0F802DBA1    1  1315925633  392904   \n",
       "1      2  9D257416-581A-4C42-85CC-B6EAD9DED97F    2  1315925633  392904   \n",
       "2      3  B80D7891-93CF-49E8-86E8-182B618E68F2    3  1315925633  392904   \n",
       "3      4  BB012003-78F5-406D-8A87-7FF8A425EE3F    4  1315925633  392904   \n",
       "4      5  945825F9-2F5D-47C2-A16B-75B93E61E1AD    5  1315925633  392904   \n",
       "..   ...                                   ...  ...         ...     ...   \n",
       "280  281  C50E6A4C-BDE9-4F12-97F4-95D467013540  281  1315925633  392904   \n",
       "281  282  04C6D19F-FF63-47B0-B26D-3B8F98B4C16B  282  1315925633  392904   \n",
       "282  283  A451E0E9-D382-4A97-AAD8-D7D382055F8D  283  1315925633  392904   \n",
       "283  284  E84BCD0C-D6F4-450F-B55B-3199A265C781  284  1315925633  392904   \n",
       "284  285  5BBC9676-2119-4FB5-9DAB-DE3F71B7681A  285  1315925633  392904   \n",
       "\n",
       "             5       6   \\\n",
       "0    1315925633  392904   \n",
       "1    1315925633  392904   \n",
       "2    1315925633  392904   \n",
       "3    1315925633  392904   \n",
       "4    1315925633  392904   \n",
       "..          ...     ...   \n",
       "280  1315925633  392904   \n",
       "281  1315925633  392904   \n",
       "282  1315925633  392904   \n",
       "283  1315925633  392904   \n",
       "284  1315925633  392904   \n",
       "\n",
       "                                                                                                                          7   \\\n",
       "0    {\\n  \"invalidCells\" : {\\n    \"1519001\" : \"TOTALPAY\",\\n    \"1518998\" : \"PRIMARYPAY\",\\n    \"1519000\" : \"RUNOFFPAY\",\\n ...   \n",
       "1                                                                                                                       {\\n}   \n",
       "2                                                                                                                       {\\n}   \n",
       "3                                                                                                                       {\\n}   \n",
       "4                                                                                                                       {\\n}   \n",
       "..                                                                                                                       ...   \n",
       "280                                                                                                                     {\\n}   \n",
       "281                                                                                                                     {\\n}   \n",
       "282                                                                                                                     {\\n}   \n",
       "283                                                                                                                     {\\n}   \n",
       "284                                                                                                                     {\\n}   \n",
       "\n",
       "       8       9                       10    11          12    13        14  \\\n",
       "0    None  CANDID                CANDNAME  None  OFFICEBORO  None  CANCLASS   \n",
       "1    2001      B4        Aboulafia, Sandy     5        None    44         P   \n",
       "2    2001     445         Adams, Jackie R     5        None     7         P   \n",
       "3    2001      HF       Addabbo, Joseph P     5        None    32         P   \n",
       "4    2001      IR  Alamo-Estrada, Agustin     5        None    14         P   \n",
       "..    ...     ...                     ...   ...         ...   ...       ...   \n",
       "280  2001     537          Wilson, John H     5        None    13         P   \n",
       "281  2001     559        Wooten, Donald T     5        None    42         P   \n",
       "282  2001     280           Yassky, David     5        None    33         P   \n",
       "283  2001     274            Zapiti, Mike     5        None    22         P   \n",
       "284  2001     442            Zett, Lori M     5        None    24         P   \n",
       "\n",
       "           15        16    17         18  \n",
       "0        None      None  None       None  \n",
       "1    45410.00         0     0   45410.00  \n",
       "2    11073.00         0     0   11073.00  \n",
       "3    75350.00  73970.00     0  149320.00  \n",
       "4    25000.00   2400.00     0   27400.00  \n",
       "..        ...       ...   ...        ...  \n",
       "280         0         0     0          0  \n",
       "281         0         0     0          0  \n",
       "282  75350.00  75350.00     0  150700.00  \n",
       "283  12172.00         0     0   12172.00  \n",
       "284         0         0     0          0  \n",
       "\n",
       "[285 rows x 19 columns]"
      ]
     },
     "execution_count": 13,
     "metadata": {},
     "output_type": "execute_result"
    }
   ],
   "source": [
    "pd.DataFrame(data['data'])"
   ]
  },
  {
   "cell_type": "markdown",
   "metadata": {},
   "source": [
    "We still have some work to do to understand what all of the columns are supposed to mean, but now we have a general sense of what the data looks like."
   ]
  },
  {
   "cell_type": "markdown",
   "metadata": {},
   "source": [
    "### Extracting a Value from a JSON File\n",
    "\n",
    "Now, let's say that our task is:\n",
    "\n",
    "> Extract the description of the dataset\n",
    "\n",
    "We know from our initial exploration that this JSON file contains `meta` and `data`, and that `meta` has this kind of high-level information whereas `data` has the actual records relating to campaign finance.\n",
    "\n",
    "Let's look at the keys of `meta` again:"
   ]
  },
  {
   "cell_type": "code",
   "execution_count": 14,
   "metadata": {},
   "outputs": [
    {
     "data": {
      "text/plain": [
       "dict_keys(['id', 'name', 'attribution', 'averageRating', 'category', 'createdAt', 'description', 'displayType', 'downloadCount', 'hideFromCatalog', 'hideFromDataJson', 'indexUpdatedAt', 'newBackend', 'numberOfComments', 'oid', 'provenance', 'publicationAppendEnabled', 'publicationDate', 'publicationGroup', 'publicationStage', 'rowClass', 'rowsUpdatedAt', 'rowsUpdatedBy', 'tableId', 'totalTimesRated', 'viewCount', 'viewLastModified', 'viewType', 'columns', 'grants', 'metadata', 'owner', 'query', 'rights', 'tableAuthor', 'tags', 'flags'])"
      ]
     },
     "execution_count": 14,
     "metadata": {},
     "output_type": "execute_result"
    }
   ],
   "source": [
    "data['meta']['view'].keys()"
   ]
  },
  {
   "cell_type": "markdown",
   "metadata": {},
   "source": [
    "Ok, `description` is the 7th one! Let's pull the value associated with the `description` key:"
   ]
  },
  {
   "cell_type": "code",
   "execution_count": 15,
   "metadata": {},
   "outputs": [
    {
     "data": {
      "text/plain": [
       "'A listing of public funds payments for candidates for City office during the 2001 election cycle'"
      ]
     },
     "execution_count": 15,
     "metadata": {},
     "output_type": "execute_result"
    }
   ],
   "source": [
    "data['meta']['view']['description']"
   ]
  },
  {
   "cell_type": "markdown",
   "metadata": {},
   "source": [
    "Great! This is the general process you will use when extracting information from a JSON file."
   ]
  },
  {
   "cell_type": "markdown",
   "metadata": {},
   "source": [
    "## Summary\n",
    "As you can see, there's a lot going on here with the deeply nested structure of JSON data files. In the upcoming lab, you'll get a chance to practice loading files and continuing to parse and extract the data as you did here."
   ]
  }
 ],
 "metadata": {
  "kernelspec": {
   "display_name": "saturn (Python 3)",
   "language": "python",
   "name": "python3"
  },
  "language_info": {
   "codemirror_mode": {
    "name": "ipython",
    "version": 3
   },
   "file_extension": ".py",
   "mimetype": "text/x-python",
   "name": "python",
   "nbconvert_exporter": "python",
   "pygments_lexer": "ipython3",
   "version": "3.10.6"
  },
  "toc": {
   "base_numbering": 1,
   "nav_menu": {},
   "number_sections": true,
   "sideBar": true,
   "skip_h1_title": false,
   "title_cell": "Table of Contents",
   "title_sidebar": "Contents",
   "toc_cell": false,
   "toc_position": {},
   "toc_section_display": true,
   "toc_window_display": false
  }
 },
 "nbformat": 4,
 "nbformat_minor": 2
}
